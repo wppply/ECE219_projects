{
 "cells": [
  {
   "cell_type": "code",
   "execution_count": 1,
   "metadata": {
    "slideshow": {
     "slide_type": "skip"
    }
   },
   "outputs": [
    {
     "data": {
      "text/html": [
       "<style>\n",
       "// add your CSS styling here\n",
       "</style>\n",
       "<style>\n",
       ".visualhide {\n",
       "    position: absolute;\n",
       "    left: -10000px;\n",
       "    top: auto;\n",
       "    width: 1px;\n",
       "    height: 1px;\n",
       "    overflow: hidden;\n",
       "}\n",
       "table.wikitable {\n",
       "    background-color: #f8f9fa;\n",
       "    color: #222;\n",
       "    margin: 1em 0;\n",
       "    border: 1px solid #a2a9b1;\n",
       "    border-collapse: collapse;\n",
       "}\n",
       ".rendered_html td {\n",
       "    text-align: center;\n",
       "}\n",
       ".rendered_html tbody tr:nth-child(odd) {\n",
       "    background: transparent;\n",
       "}\n",
       "</style>"
      ],
      "text/plain": [
       "<IPython.core.display.HTML object>"
      ]
     },
     "metadata": {},
     "output_type": "display_data"
    }
   ],
   "source": [
    "%%html\n",
    "<style>\n",
    "// add your CSS styling here\n",
    "</style>\n",
    "<style>\n",
    ".visualhide {\n",
    "    position: absolute;\n",
    "    left: -10000px;\n",
    "    top: auto;\n",
    "    width: 1px;\n",
    "    height: 1px;\n",
    "    overflow: hidden;\n",
    "}\n",
    "table.wikitable {\n",
    "    background-color: #f8f9fa;\n",
    "    color: #222;\n",
    "    margin: 1em 0;\n",
    "    border: 1px solid #a2a9b1;\n",
    "    border-collapse: collapse;\n",
    "}\n",
    ".rendered_html td {\n",
    "    text-align: center;\n",
    "}\n",
    ".rendered_html tbody tr:nth-child(odd) {\n",
    "    background: transparent;\n",
    "}\n",
    "</style>"
   ]
  },
  {
   "cell_type": "markdown",
   "metadata": {
    "slideshow": {
     "slide_type": "slide"
    }
   },
   "source": [
    "# Evaluation Measures of the Classification\n",
    "\n",
    "## Confusion Matrix\n",
    "\n",
    "See [Wikipedia - Confusion matrix](https://en.wikipedia.org/wiki/Confusion_matrix)\n",
    "\n",
    "Each **row** of the matrix represents the instances in a **predicted class**<br> while each **column** represents the instances in an **actual class** (or vice versa).\n",
    "\n",
    "Many statistics can be derived from the **Confusion Matrix**.\n",
    "\n",
    "Below is an example for binary classification, where by convention we call one class as **Positive** and another as **Negative**.\n",
    "<table class=\"wikitable\" align=\"center\" style=\"text-align:center; border:none; background:transparent;\">\n",
    "<tbody><tr>\n",
    "<td style=\"border:none;\" colspan=\"2\"></td>\n",
    "<td style=\"background:#eeeebb;\" colspan=\"2\"><b>True condition</b></td>\n",
    "</tr>\n",
    "<tr>\n",
    "<td style=\"border:none;\"></td>\n",
    "<td style=\"background:#dddddd;\"><a href=\"https://en.wikipedia.org/wiki/Statistical_population\" title=\"Statistical population\">Total population</a></td>\n",
    "<td style=\"background:#ffffcc;\">Condition positive</td>\n",
    "<td style=\"background:#ddddaa;\">Condition negative</td>\n",
    "<td style=\"background:#eeeecc;font-size:90%;\"><a href=\"https://en.wikipedia.org/wiki/Prevalence\" title=\"Prevalence\">Prevalence</a> <span style=\"font-size:118%;white-space:nowrap;\">= <span class=\"sfrac nowrap\" style=\"display:inline-block; vertical-align:-0.5em; font-size:85%; text-align:center;\"><span style=\"display:block; line-height:1em; margin:0 0.1em;\">Σ&nbsp;Condition positive</span><span class=\"visualhide\">/</span><span style=\"display:block; line-height:1em; margin:0 0.1em; border-top:1px solid;\">Σ&nbsp;Total population</span></span></span></td>\n",
    "<td style=\"background:#cceecc;border-left:double silver;font-size:90%;\" colspan=\"2\"><a href=\"https://en.wikipedia.org/wiki/Accuracy_and_precision\" title=\"Accuracy and precision\">Accuracy</a> (ACC) = <span style=\"font-size:118%;\"><span class=\"sfrac nowrap\" style=\"display:inline-block; vertical-align:-0.5em; font-size:85%; text-align:center;\"><span style=\"display:block; line-height:1em; margin:0 0.1em;\">Σ&nbsp;True positive + Σ True negative</span><span class=\"visualhide\">/</span><span style=\"display:block; line-height:1em; margin:0 0.1em; border-top:1px solid;\">Σ&nbsp;Total population</span></span></span></td>\n",
    "</tr>\n",
    "<tr>\n",
    "<td style=\"background:#bbeeee;\" rowspan=\"2\"><b>Predicted<br>\n",
    "condition</b></td>\n",
    "<td style=\"background:#ccffff;\">Predicted condition<br>\n",
    "positive</td>\n",
    "<td style=\"background:#ccffcc;\"><span style=\"color:#006600;\"><b><a href=\"https://en.wikipedia.org/wiki/True_positive\" class=\"mw-redirect\" title=\"True positive\">True positive</a></b>,<br>\n",
    "<a href=\"https://en.wikipedia.org/wiki/Statistical_power\" title=\"Statistical power\">Power</a></span></td>\n",
    "<td style=\"background:#eedddd;\"><span style=\"color:#cc0000;\"><b><a href=\"https://en.wikipedia.org/wiki/False_positive\" class=\"mw-redirect\" title=\"False positive\">False positive</a></b>,<br>\n",
    "<a href=\"https://en.wikipedia.org/wiki/Type_I_error\" class=\"mw-redirect\" title=\"Type I error\">Type I error</a></span></td>\n",
    "<td style=\"background:#ccffee;border-top:double silver;font-size:90%;\"><a href=\"https://en.wikipedia.org/wiki/Positive_predictive_value\" class=\"mw-redirect\" title=\"Positive predictive value\">Positive predictive value</a> (PPV), <a href=\"https://en.wikipedia.org/wiki/Precision_(information_retrieval)\" class=\"mw-redirect\" title=\"Precision (information retrieval)\">Precision</a> = <span style=\"font-size:118%;white-space:nowrap;\"><span class=\"sfrac nowrap\" style=\"display:inline-block; vertical-align:-0.5em; font-size:85%; text-align:center;\"><span style=\"display:block; line-height:1em; margin:0 0.1em;\">Σ True positive</span><span class=\"visualhide\">/</span><span style=\"display:block; line-height:1em; margin:0 0.1em; border-top:1px solid;\">Σ&nbsp;Predicted&nbsp;condition&nbsp;positive</span></span></span></td>\n",
    "<td style=\"background:#cceeff;border-top:double silver;font-size:90%;\" colspan=\"2\"><a href=\"https://en.wikipedia.org/wiki/False_discovery_rate\" title=\"False discovery rate\">False discovery rate</a> (FDR) = <span style=\"font-size:118%;white-space:nowrap;\"><span class=\"sfrac nowrap\" style=\"display:inline-block; vertical-align:-0.5em; font-size:85%; text-align:center;\"><span style=\"display:block; line-height:1em; margin:0 0.1em;\">Σ False positive</span><span class=\"visualhide\">/</span><span style=\"display:block; line-height:1em; margin:0 0.1em; border-top:1px solid;\">Σ&nbsp;Predicted&nbsp;condition&nbsp;positive</span></span></span></td>\n",
    "</tr>\n",
    "<tr>\n",
    "<td style=\"background:#aadddd;\">Predicted condition<br>\n",
    "negative</td>\n",
    "<td style=\"background:#ffdddd;\"><span style=\"color:#cc0000;\"><b><a href=\"https://en.wikipedia.org/wiki/False_negative\" class=\"mw-redirect\" title=\"False negative\">False negative</a></b>,<br>\n",
    "<a href=\"https://en.wikipedia.org/wiki/Type_II_error\" class=\"mw-redirect\" title=\"Type II error\">Type II error</a></span></td>\n",
    "<td style=\"background:#bbeebb;\"><span style=\"color:#006600;\"><b><a href=\"https://en.wikipedia.org/wiki/True_negative\" class=\"mw-redirect\" title=\"True negative\">True negative</a></b></span></td>\n",
    "<td style=\"background:#eeddee;border-bottom:double silver;font-size:90%;\"><a href=\"https://en.wikipedia.org/wiki/False_omission_rate\" class=\"mw-redirect\" title=\"False omission rate\">False omission rate</a> (FOR) = <span style=\"font-size:118%;white-space:nowrap;\"><span class=\"sfrac nowrap\" style=\"display:inline-block; vertical-align:-0.5em; font-size:85%; text-align:center;\"><span style=\"display:block; line-height:1em; margin:0 0.1em;\">Σ False negative</span><span class=\"visualhide\">/</span><span style=\"display:block; line-height:1em; margin:0 0.1em; border-top:1px solid;\">Σ&nbsp;Predicted&nbsp;condition&nbsp;negative</span></span></span></td>\n",
    "<td style=\"background:#aaddcc;border-bottom:double silver;font-size:90%;\" colspan=\"2\"><a href=\"https://en.wikipedia.org/wiki/Negative_predictive_value\" class=\"mw-redirect\" title=\"Negative predictive value\">Negative predictive value</a> (NPV) = <span style=\"font-size:118%;white-space:nowrap;\"><span class=\"sfrac nowrap\" style=\"display:inline-block; vertical-align:-0.5em; font-size:85%; text-align:center;\"><span style=\"display:block; line-height:1em; margin:0 0.1em;\">Σ True negative</span><span class=\"visualhide\">/</span><span style=\"display:block; line-height:1em; margin:0 0.1em; border-top:1px solid;\">Σ&nbsp;Predicted&nbsp;condition&nbsp;negative</span></span></span></td>\n",
    "</tr>\n",
    "<tr style=\"font-size:90%;\">\n",
    "<td style=\"border:none;vertical-align:bottom;padding:0 2px 0 0;color:#999999;\" colspan=\"2\" rowspan=\"2\"></td>\n",
    "<td style=\"background:#eeffcc;\"><a href=\"https://en.wikipedia.org/wiki/True_positive_rate\" class=\"mw-redirect\" title=\"True positive rate\">True positive rate</a> (TPR), <a href=\"https://en.wikipedia.org/wiki/Recall_(information_retrieval)\" class=\"mw-redirect\" title=\"Recall (information retrieval)\">Recall</a>, <a href=\"https://en.wikipedia.org/wiki/Sensitivity_(tests)\" class=\"mw-redirect\" title=\"Sensitivity (tests)\">Sensitivity</a>, probability&nbsp;of&nbsp;detection <span style=\"font-size:118%;white-space:nowrap;\">= <span class=\"sfrac nowrap\" style=\"display:inline-block; vertical-align:-0.5em; font-size:85%; text-align:center;\"><span style=\"display:block; line-height:1em; margin:0 0.1em;\">Σ True positive</span><span class=\"visualhide\">/</span><span style=\"display:block; line-height:1em; margin:0 0.1em; border-top:1px solid;\">Σ&nbsp;Condition&nbsp;positive</span></span></span></td>\n",
    "<td style=\"background:#eeddbb;\"><a href=\"https://en.wikipedia.org/wiki/False_positive_rate\" title=\"False positive rate\">False positive rate</a> (FPR), <a href=\"https://en.wikipedia.org/wiki/Information_retrieval\" title=\"Information retrieval\"><span class=\"nowrap\">Fall-out</span></a>, probability&nbsp;of&nbsp;false&nbsp;alarm <span style=\"font-size:118%;white-space:nowrap;\">= <span class=\"sfrac nowrap\" style=\"display:inline-block; vertical-align:-0.5em; font-size:85%; text-align:center;\"><span style=\"display:block; line-height:1em; margin:0 0.1em;\">Σ False positive</span><span class=\"visualhide\">/</span><span style=\"display:block; line-height:1em; margin:0 0.1em; border-top:1px solid;\">Σ&nbsp;Condition&nbsp;negative</span></span></span></td>\n",
    "<td style=\"background:#eeeeee;\"><a href=\"https://en.wikipedia.org/wiki/Positive_likelihood_ratio\" class=\"mw-redirect\" title=\"Positive likelihood ratio\">Positive likelihood ratio</a> <span class=\"nowrap\">(LR+)</span> <span style=\"font-size:118%;white-space:nowrap;\">= <span class=\"sfrac nowrap\" style=\"display:inline-block; vertical-align:-0.5em; font-size:85%; text-align:center;\"><span style=\"display:block; line-height:1em; margin:0 0.1em;\">TPR</span><span class=\"visualhide\">/</span><span style=\"display:block; line-height:1em; margin:0 0.1em; border-top:1px solid;\">FPR</span></span></span></td>\n",
    "<td style=\"background:#dddddd;\" rowspan=\"2\"><a href=\"https://en.wikipedia.org/wiki/Diagnostic_odds_ratio\" title=\"Diagnostic odds ratio\">Diagnostic odds ratio</a> (DOR) <span style=\"font-size:118%;white-space:nowrap;\">= <span class=\"sfrac nowrap\" style=\"display:inline-block; vertical-align:-0.5em; font-size:85%; text-align:center;\"><span style=\"display:block; line-height:1em; margin:0 0.1em;\">LR+</span><span class=\"visualhide\">/</span><span style=\"display:block; line-height:1em; margin:0 0.1em; border-top:1px solid;\">LR−</span></span></span></td>\n",
    "<td style=\"background:#ddffdd;border-left:double silver;line-height:2;\" rowspan=\"2\"><a href=\"https://en.wikipedia.org/wiki/F1_score\" title=\"F1 score\">F<sub>1</sub> score</a> = <span style=\"font-size:118%;white-space:nowrap;\"><span class=\"sfrac nowrap\" style=\"display:inline-block; vertical-align:-0.5em; font-size:85%; text-align:center;\"><span style=\"display:block; line-height:1em; margin:0 0.1em;\">2</span><span class=\"visualhide\">/</span><span style=\"display:block; line-height:1em; margin:0 0.1em; border-top:1px solid;\"><span class=\"sfrac nowrap\" style=\"display:inline-block; vertical-align:-0.5em; font-size:85%; text-align:center;\"><span style=\"display:block; line-height:1em; margin:0 0.1em;\">1</span><span class=\"visualhide\">/</span><span style=\"display:block; line-height:1em; margin:0 0.1em; border-top:1px solid;\">Recall</span></span>&nbsp;+&nbsp;<span class=\"sfrac nowrap\" style=\"display:inline-block; vertical-align:-0.5em; font-size:85%; text-align:center;\"><span style=\"display:block; line-height:1em; margin:0 0.1em;\">1</span><span class=\"visualhide\">/</span><span style=\"display:block; line-height:1em; margin:0 0.1em; border-top:1px solid;\">Precision</span></span></span></span></span></td>\n",
    "</tr>\n",
    "<tr style=\"font-size:90%;\">\n",
    "<td style=\"background:#ffeecc;\"><a href=\"https://en.wikipedia.org/wiki/False_negative_rate\" class=\"mw-redirect\" title=\"False negative rate\">False negative rate</a> (FNR), Miss&nbsp;rate <span style=\"font-size:118%;white-space:nowrap;\">= <span class=\"sfrac nowrap\" style=\"display:inline-block; vertical-align:-0.5em; font-size:85%; text-align:center;\"><span style=\"display:block; line-height:1em; margin:0 0.1em;\">Σ False negative</span><span class=\"visualhide\">/</span><span style=\"display:block; line-height:1em; margin:0 0.1em; border-top:1px solid;\">Σ&nbsp;Condition&nbsp;positive</span></span></span></td>\n",
    "<td style=\"background:#ddeebb;\"><a href=\"https://en.wikipedia.org/wiki/True_negative_rate\" class=\"mw-redirect\" title=\"True negative rate\">True negative rate</a> (TNR), <a href=\"https://en.wikipedia.org/wiki/Specificity_(tests)\" class=\"mw-redirect\" title=\"Specificity (tests)\">Specificity</a> (SPC) <span style=\"font-size:118%;white-space:nowrap;\">= <span class=\"sfrac nowrap\" style=\"display:inline-block; vertical-align:-0.5em; font-size:85%; text-align:center;\"><span style=\"display:block; line-height:1em; margin:0 0.1em;\">Σ True negative</span><span class=\"visualhide\">/</span><span style=\"display:block; line-height:1em; margin:0 0.1em; border-top:1px solid;\">Σ&nbsp;Condition&nbsp;negative</span></span></span></td>\n",
    "<td style=\"background:#cccccc;\"><a href=\"https://en.wikipedia.org/wiki/Negative_likelihood_ratio\" class=\"mw-redirect\" title=\"Negative likelihood ratio\">Negative likelihood ratio</a> <span class=\"nowrap\">(LR−)</span> <span style=\"font-size:118%;white-space:nowrap;\">= <span class=\"sfrac nowrap\" style=\"display:inline-block; vertical-align:-0.5em; font-size:85%; text-align:center;\"><span style=\"display:block; line-height:1em; margin:0 0.1em;\">FNR</span><span class=\"visualhide\">/</span><span style=\"display:block; line-height:1em; margin:0 0.1em; border-top:1px solid;\">TNR</span></span></span></td>\n",
    "</tr>\n",
    "</tbody></table>"
   ]
  },
  {
   "cell_type": "markdown",
   "metadata": {
    "slideshow": {
     "slide_type": "slide"
    }
   },
   "source": [
    "## Precision and recall\n",
    "<table class=\"wikitable\" align=\"center\" style=\"text-align: center ; border: none ; background: transparent\">\n",
    "<tbody><tr>\n",
    "<td style=\"border: none\" colspan=\"2\"></td>\n",
    "<td style=\"background: #eeeebb\" colspan=\"2\"><b>True condition</b></td>\n",
    "</tr>\n",
    "<tr>\n",
    "<td style=\"border: none\"></td>\n",
    "<td style=\"background: #dddddd\"><a href=\"https://en.wikipedia.org/wiki/Statistical_population\" title=\"Statistical population\" target=\"_blank\">Total population</a></td>\n",
    "<td style=\"background: #ffffcc\">Condition positive</td>\n",
    "<td style=\"background: #ddddaa\">Condition negative</td>\n",
    "<td style=\"background: #eee ; font-size: 90%\"><a href=\"https://en.wikipedia.org/wiki/Prevalence\" title=\"Prevalence\" target=\"_blank\">Prevalence</a> <span style=\"font-size: 118% ; white-space: nowrap\">= <span class=\"sfrac nowrap\" style=\"display: inline-block ; vertical-align: -0.5em ; font-size: 85% ; text-align: center\"><span style=\"display: block ; line-height: 1em ; margin: 0 0.1em\">Σ&nbsp;Condition positive</span><span class=\"visualhide\">/</span><span style=\"display: block ; line-height: 1em ; margin: 0 0.1em ; border-top: 1px solid\">Σ&nbsp;Total population</span></span></span></td>\n",
    "<td style=\"background: #eee ; border-left: double silver ; font-size: 90%\" colspan=\"2\"><a href=\"https://en.wikipedia.org/wiki/Accuracy_and_precision\" title=\"Accuracy and precision\" target=\"_blank\">Accuracy</a> (ACC) = <span style=\"font-size: 118%\"><span class=\"sfrac nowrap\" style=\"display: inline-block ; vertical-align: -0.5em ; font-size: 85% ; text-align: center\"><span style=\"display: block ; line-height: 1em ; margin: 0 0.1em\">Σ&nbsp;True positive + Σ True negative</span><span class=\"visualhide\">/</span><span style=\"display: block ; line-height: 1em ; margin: 0 0.1em ; border-top: 1px solid\">Σ&nbsp;Total population</span></span></span></td>\n",
    "</tr>\n",
    "<tr>\n",
    "<td style=\"background: #bbeeee\" rowspan=\"2\"><b>Predicted<br>\n",
    "condition</b></td>\n",
    "<td style=\"background: #ccffff\">Predicted condition<br>\n",
    "positive</td>\n",
    "<td style=\"background: #ccffcc\"><span style=\"color: #006600\"><b><a href=\"https://en.wikipedia.org/wiki/True_positive\" class=\"mw-redirect\" title=\"True positive\" target=\"_blank\">True positive</a></b>,<br>\n",
    "<a href=\"https://en.wikipedia.org/wiki/Statistical_power\" title=\"Statistical power\" target=\"_blank\">Power</a></span></td>\n",
    "<td style=\"background: #eedddd\"><span style=\"color: #cc0000\"><b><a href=\"https://en.wikipedia.org/wiki/False_positive\" class=\"mw-redirect\" title=\"False positive\" target=\"_blank\">False positive</a></b>,<br>\n",
    "<a href=\"https://en.wikipedia.org/wiki/Type_I_error\" class=\"mw-redirect\" title=\"Type I error\" target=\"_blank\">Type I error</a></span></td>\n",
    "<td style=\"background: #ccffee;border-top: double silver;font-size: 90%;font-weight: bold;\"><a href=\"https://en.wikipedia.org/wiki/Positive_predictive_value\" class=\"mw-redirect\" title=\"Positive predictive value\" target=\"_blank\">Positive predictive value</a> (PPV), <a href=\"https://en.wikipedia.org/wiki/Precision_(information_retrieval)\" class=\"mw-redirect\" title=\"Precision (information retrieval)\" target=\"_blank\">Precision</a> = <span style=\"font-size: 118% ; white-space: nowrap\"><span class=\"sfrac nowrap\" style=\"display: inline-block ; vertical-align: -0.5em ; font-size: 85% ; text-align: center\"><span style=\"display: block ; line-height: 1em ; margin: 0 0.1em\">Σ True positive</span><span class=\"visualhide\">/</span><span style=\"display: block ; line-height: 1em ; margin: 0 0.1em ; border-top: 1px solid\">Σ&nbsp;Predicted&nbsp;condition&nbsp;positive</span></span></span></td>\n",
    "<td style=\"background: #eee ; border-top: double silver ; font-size: 90%\" colspan=\"2\"><a href=\"https://en.wikipedia.org/wiki/False_discovery_rate\" title=\"False discovery rate\" target=\"_blank\">False discovery rate</a> (FDR) = <span style=\"font-size: 118% ; white-space: nowrap\"><span class=\"sfrac nowrap\" style=\"display: inline-block ; vertical-align: -0.5em ; font-size: 85% ; text-align: center\"><span style=\"display: block ; line-height: 1em ; margin: 0 0.1em\">Σ False positive</span><span class=\"visualhide\">/</span><span style=\"display: block ; line-height: 1em ; margin: 0 0.1em ; border-top: 1px solid\">Σ&nbsp;Predicted&nbsp;condition&nbsp;positive</span></span></span></td>\n",
    "</tr>\n",
    "<tr>\n",
    "<td style=\"background: #aadddd\">Predicted condition<br>\n",
    "negative</td>\n",
    "<td style=\"background: #ffdddd\"><span style=\"color: #cc0000\"><b><a href=\"https://en.wikipedia.org/wiki/False_negative\" class=\"mw-redirect\" title=\"False negative\" target=\"_blank\">False negative</a></b>,<br>\n",
    "<a href=\"https://en.wikipedia.org/wiki/Type_II_error\" class=\"mw-redirect\" title=\"Type II error\" target=\"_blank\">Type II error</a></span></td>\n",
    "<td style=\"background: #bbeebb\"><span style=\"color: #006600\"><b><a href=\"https://en.wikipedia.org/wiki/True_negative\" class=\"mw-redirect\" title=\"True negative\" target=\"_blank\">True negative</a></b></span></td>\n",
    "<td style=\"background: #eee ; border-bottom: double silver ; font-size: 90%\"><a href=\"https://en.wikipedia.org/wiki/False_omission_rate\" class=\"mw-redirect\" title=\"False omission rate\" target=\"_blank\">False omission rate</a> (FOR) = <span style=\"font-size: 118% ; white-space: nowrap\"><span class=\"sfrac nowrap\" style=\"display: inline-block ; vertical-align: -0.5em ; font-size: 85% ; text-align: center\"><span style=\"display: block ; line-height: 1em ; margin: 0 0.1em\">Σ False negative</span><span class=\"visualhide\">/</span><span style=\"display: block ; line-height: 1em ; margin: 0 0.1em ; border-top: 1px solid\">Σ&nbsp;Predicted&nbsp;condition&nbsp;negative</span></span></span></td>\n",
    "<td style=\"background: #eee ; border-bottom: double silver ; font-size: 90%\" colspan=\"2\"><a href=\"https://en.wikipedia.org/wiki/Negative_predictive_value\" class=\"mw-redirect\" title=\"Negative predictive value\" target=\"_blank\">Negative predictive value</a> (NPV) = <span style=\"font-size: 118% ; white-space: nowrap\"><span class=\"sfrac nowrap\" style=\"display: inline-block ; vertical-align: -0.5em ; font-size: 85% ; text-align: center\"><span style=\"display: block ; line-height: 1em ; margin: 0 0.1em\">Σ True negative</span><span class=\"visualhide\">/</span><span style=\"display: block ; line-height: 1em ; margin: 0 0.1em ; border-top: 1px solid\">Σ&nbsp;Predicted&nbsp;condition&nbsp;negative</span></span></span></td>\n",
    "</tr>\n",
    "<tr style=\"font-size: 90%\">\n",
    "<td style=\"border: none ; vertical-align: bottom ; padding: 0 2px 0 0 ; color: #999999\" colspan=\"2\" rowspan=\"2\"></td>\n",
    "<td style=\"background: #eeffcc;font-weight: bold;\"><a href=\"https://en.wikipedia.org/wiki/True_positive_rate\" class=\"mw-redirect\" title=\"True positive rate\" target=\"_blank\">True positive rate</a> (TPR), <a href=\"https://en.wikipedia.org/wiki/Recall_(information_retrieval)\" class=\"mw-redirect\" title=\"Recall (information retrieval)\" target=\"_blank\">Recall</a>, <a href=\"https://en.wikipedia.org/wiki/Sensitivity_(tests)\" class=\"mw-redirect\" title=\"Sensitivity (tests)\" target=\"_blank\">Sensitivity</a>, probability&nbsp;of&nbsp;detection <span style=\"font-size: 118% ; white-space: nowrap\">= <span class=\"sfrac nowrap\" style=\"display: inline-block ; vertical-align: -0.5em ; font-size: 85% ; text-align: center\"><span style=\"display: block ; line-height: 1em ; margin: 0 0.1em\">Σ True positive</span><span class=\"visualhide\">/</span><span style=\"display: block ; line-height: 1em ; margin: 0 0.1em ; border-top: 1px solid\">Σ&nbsp;Condition&nbsp;positive</span></span></span></td>\n",
    "<td style=\"background: #eee\"><a href=\"https://en.wikipedia.org/wiki/False_positive_rate\" title=\"False positive rate\" target=\"_blank\">False positive rate</a> (FPR), <a href=\"https://en.wikipedia.org/wiki/Information_retrieval\" title=\"Information retrieval\" target=\"_blank\"><span class=\"nowrap\">Fall-out</span></a>, probability&nbsp;of&nbsp;false&nbsp;alarm <span style=\"font-size: 118% ; white-space: nowrap\">= <span class=\"sfrac nowrap\" style=\"display: inline-block ; vertical-align: -0.5em ; font-size: 85% ; text-align: center\"><span style=\"display: block ; line-height: 1em ; margin: 0 0.1em\">Σ False positive</span><span class=\"visualhide\">/</span><span style=\"display: block ; line-height: 1em ; margin: 0 0.1em ; border-top: 1px solid\">Σ&nbsp;Condition&nbsp;negative</span></span></span></td>\n",
    "<td style=\"background: #eeeeee\"><a href=\"https://en.wikipedia.org/wiki/Positive_likelihood_ratio\" class=\"mw-redirect\" title=\"Positive likelihood ratio\" target=\"_blank\">Positive likelihood ratio</a> <span class=\"nowrap\">(LR+)</span> <span style=\"font-size: 118% ; white-space: nowrap\">= <span class=\"sfrac nowrap\" style=\"display: inline-block ; vertical-align: -0.5em ; font-size: 85% ; text-align: center\"><span style=\"display: block ; line-height: 1em ; margin: 0 0.1em\">TPR</span><span class=\"visualhide\">/</span><span style=\"display: block ; line-height: 1em ; margin: 0 0.1em ; border-top: 1px solid\">FPR</span></span></span></td>\n",
    "<td style=\"background: #eee\" rowspan=\"2\"><a href=\"https://en.wikipedia.org/wiki/Diagnostic_odds_ratio\" title=\"Diagnostic odds ratio\" target=\"_blank\">Diagnostic odds ratio</a> (DOR) <span style=\"font-size: 118% ; white-space: nowrap\">= <span class=\"sfrac nowrap\" style=\"display: inline-block ; vertical-align: -0.5em ; font-size: 85% ; text-align: center\"><span style=\"display: block ; line-height: 1em ; margin: 0 0.1em\">LR+</span><span class=\"visualhide\">/</span><span style=\"display: block ; line-height: 1em ; margin: 0 0.1em ; border-top: 1px solid\">LR−</span></span></span></td>\n",
    "<td style=\"background: #ddffdd;border-left: double silver;line-height: 2;font-weight: bold;\" rowspan=\"2\"><a href=\"https://en.wikipedia.org/wiki/F1_score\" title=\"F1 score\" target=\"_blank\">F<sub>1</sub> score</a> = <span style=\"font-size: 118% ; white-space: nowrap\"><span class=\"sfrac nowrap\" style=\"display: inline-block ; vertical-align: -0.5em ; font-size: 85% ; text-align: center\"><span style=\"display: block ; line-height: 1em ; margin: 0 0.1em\">2</span><span class=\"visualhide\">/</span><span style=\"display: block ; line-height: 1em ; margin: 0 0.1em ; border-top: 1px solid\"><span class=\"sfrac nowrap\" style=\"display: inline-block ; vertical-align: -0.5em ; font-size: 85% ; text-align: center\"><span style=\"display: block ; line-height: 1em ; margin: 0 0.1em\">1</span><span class=\"visualhide\">/</span><span style=\"display: block ; line-height: 1em ; margin: 0 0.1em ; border-top: 1px solid\">Recall</span></span>&nbsp;+&nbsp;<span class=\"sfrac nowrap\" style=\"display: inline-block ; vertical-align: -0.5em ; font-size: 85% ; text-align: center\"><span style=\"display: block ; line-height: 1em ; margin: 0 0.1em\">1</span><span class=\"visualhide\">/</span><span style=\"display: block ; line-height: 1em ; margin: 0 0.1em ; border-top: 1px solid\">Precision</span></span></span></span></span></td>\n",
    "</tr>\n",
    "<tr style=\"font-size: 90%\">\n",
    "<td style=\"background: #eee\"><a href=\"https://en.wikipedia.org/wiki/False_negative_rate\" class=\"mw-redirect\" title=\"False negative rate\" target=\"_blank\">False negative rate</a> (FNR), Miss&nbsp;rate <span style=\"font-size: 118% ; white-space: nowrap\">= <span class=\"sfrac nowrap\" style=\"display: inline-block ; vertical-align: -0.5em ; font-size: 85% ; text-align: center\"><span style=\"display: block ; line-height: 1em ; margin: 0 0.1em\">Σ False negative</span><span class=\"visualhide\">/</span><span style=\"display: block ; line-height: 1em ; margin: 0 0.1em ; border-top: 1px solid\">Σ&nbsp;Condition&nbsp;positive</span></span></span></td>\n",
    "<td style=\"background: #eee\"><a href=\"https://en.wikipedia.org/wiki/True_negative_rate\" class=\"mw-redirect\" title=\"True negative rate\" target=\"_blank\">True negative rate</a> (TNR), <a href=\"https://en.wikipedia.org/wiki/Specificity_(tests)\" class=\"mw-redirect\" title=\"Specificity (tests)\" target=\"_blank\">Specificity</a> (SPC) <span style=\"font-size: 118% ; white-space: nowrap\">= <span class=\"sfrac nowrap\" style=\"display: inline-block ; vertical-align: -0.5em ; font-size: 85% ; text-align: center\"><span style=\"display: block ; line-height: 1em ; margin: 0 0.1em\">Σ True negative</span><span class=\"visualhide\">/</span><span style=\"display: block ; line-height: 1em ; margin: 0 0.1em ; border-top: 1px solid\">Σ&nbsp;Condition&nbsp;negative</span></span></span></td>\n",
    "<td style=\"background: #eee\"><a href=\"https://en.wikipedia.org/wiki/Negative_likelihood_ratio\" class=\"mw-redirect\" title=\"Negative likelihood ratio\" target=\"_blank\">Negative likelihood ratio</a> <span class=\"nowrap\">(LR−)</span> <span style=\"font-size: 118% ; white-space: nowrap\">= <span class=\"sfrac nowrap\" style=\"display: inline-block ; vertical-align: -0.5em ; font-size: 85% ; text-align: center\"><span style=\"display: block ; line-height: 1em ; margin: 0 0.1em\">FNR</span><span class=\"visualhide\">/</span><span style=\"display: block ; line-height: 1em ; margin: 0 0.1em ; border-top: 1px solid\">TNR</span></span></span></td>\n",
    "</tr>\n",
    "</tbody></table>"
   ]
  },
  {
   "cell_type": "markdown",
   "metadata": {
    "slideshow": {
     "slide_type": "slide"
    }
   },
   "source": [
    "## Receiver operating characteristic (ROC)\n",
    "<table class=\"wikitable\" align=\"center\" style=\"text-align: center ; border: none ; background: transparent\">\n",
    "<tbody><tr>\n",
    "<td style=\"border: none\" colspan=\"2\"></td>\n",
    "<td style=\"background: #eeeebb\" colspan=\"2\"><b>True condition</b></td>\n",
    "</tr>\n",
    "<tr>\n",
    "<td style=\"border: none\"></td>\n",
    "<td style=\"background: #dddddd\"><a href=\"https://en.wikipedia.org/wiki/Statistical_population\" title=\"Statistical population\" target=\"_blank\">Total population</a></td>\n",
    "<td style=\"background: #ffffcc\">Condition positive</td>\n",
    "<td style=\"background: #ddddaa\">Condition negative</td>\n",
    "<td style=\"background: #eee ; font-size: 90%\"><a href=\"https://en.wikipedia.org/wiki/Prevalence\" title=\"Prevalence\" target=\"_blank\">Prevalence</a> <span style=\"font-size: 118% ; white-space: nowrap\">= <span class=\"sfrac nowrap\" style=\"display: inline-block ; vertical-align: -0.5em ; font-size: 85% ; text-align: center\"><span style=\"display: block ; line-height: 1em ; margin: 0 0.1em\">Σ&nbsp;Condition positive</span><span class=\"visualhide\">/</span><span style=\"display: block ; line-height: 1em ; margin: 0 0.1em ; border-top: 1px solid\">Σ&nbsp;Total population</span></span></span></td>\n",
    "<td style=\"background: #eee ; border-left: double silver ; font-size: 90%\" colspan=\"2\"><a href=\"https://en.wikipedia.org/wiki/Accuracy_and_precision\" title=\"Accuracy and precision\" target=\"_blank\">Accuracy</a> (ACC) = <span style=\"font-size: 118%\"><span class=\"sfrac nowrap\" style=\"display: inline-block ; vertical-align: -0.5em ; font-size: 85% ; text-align: center\"><span style=\"display: block ; line-height: 1em ; margin: 0 0.1em\">Σ&nbsp;True positive + Σ True negative</span><span class=\"visualhide\">/</span><span style=\"display: block ; line-height: 1em ; margin: 0 0.1em ; border-top: 1px solid\">Σ&nbsp;Total population</span></span></span></td>\n",
    "</tr>\n",
    "<tr>\n",
    "<td style=\"background: #bbeeee\" rowspan=\"2\"><b>Predicted<br>\n",
    "condition</b></td>\n",
    "<td style=\"background: #ccffff\">Predicted condition<br>\n",
    "positive</td>\n",
    "<td style=\"background: #ccffcc\"><span style=\"color: #006600\"><b><a href=\"https://en.wikipedia.org/wiki/True_positive\" class=\"mw-redirect\" title=\"True positive\" target=\"_blank\">True positive</a></b>,<br>\n",
    "<a href=\"https://en.wikipedia.org/wiki/Statistical_power\" title=\"Statistical power\" target=\"_blank\">Power</a></span></td>\n",
    "<td style=\"background: #eedddd\"><span style=\"color: #cc0000\"><b><a href=\"https://en.wikipedia.org/wiki/False_positive\" class=\"mw-redirect\" title=\"False positive\" target=\"_blank\">False positive</a></b>,<br>\n",
    "<a href=\"https://en.wikipedia.org/wiki/Type_I_error\" class=\"mw-redirect\" title=\"Type I error\" target=\"_blank\">Type I error</a></span></td>\n",
    "<td style=\"background: #eee ; border-top: double silver ; font-size: 90%\"><a href=\"https://en.wikipedia.org/wiki/Positive_predictive_value\" class=\"mw-redirect\" title=\"Positive predictive value\" target=\"_blank\">Positive predictive value</a> (PPV), <a href=\"https://en.wikipedia.org/wiki/Precision_(information_retrieval)\" class=\"mw-redirect\" title=\"Precision (information retrieval)\" target=\"_blank\">Precision</a> = <span style=\"font-size: 118% ; white-space: nowrap\"><span class=\"sfrac nowrap\" style=\"display: inline-block ; vertical-align: -0.5em ; font-size: 85% ; text-align: center\"><span style=\"display: block ; line-height: 1em ; margin: 0 0.1em\">Σ True positive</span><span class=\"visualhide\">/</span><span style=\"display: block ; line-height: 1em ; margin: 0 0.1em ; border-top: 1px solid\">Σ&nbsp;Predicted&nbsp;condition&nbsp;positive</span></span></span></td>\n",
    "<td style=\"background: #eee ; border-top: double silver ; font-size: 90%\" colspan=\"2\"><a href=\"https://en.wikipedia.org/wiki/False_discovery_rate\" title=\"False discovery rate\" target=\"_blank\">False discovery rate</a> (FDR) = <span style=\"font-size: 118% ; white-space: nowrap\"><span class=\"sfrac nowrap\" style=\"display: inline-block ; vertical-align: -0.5em ; font-size: 85% ; text-align: center\"><span style=\"display: block ; line-height: 1em ; margin: 0 0.1em\">Σ False positive</span><span class=\"visualhide\">/</span><span style=\"display: block ; line-height: 1em ; margin: 0 0.1em ; border-top: 1px solid\">Σ&nbsp;Predicted&nbsp;condition&nbsp;positive</span></span></span></td>\n",
    "</tr>\n",
    "<tr>\n",
    "<td style=\"background: #aadddd\">Predicted condition<br>\n",
    "negative</td>\n",
    "<td style=\"background: #ffdddd\"><span style=\"color: #cc0000\"><b><a href=\"https://en.wikipedia.org/wiki/False_negative\" class=\"mw-redirect\" title=\"False negative\" target=\"_blank\">False negative</a></b>,<br>\n",
    "<a href=\"https://en.wikipedia.org/wiki/Type_II_error\" class=\"mw-redirect\" title=\"Type II error\" target=\"_blank\">Type II error</a></span></td>\n",
    "<td style=\"background: #bbeebb\"><span style=\"color: #006600\"><b><a href=\"https://en.wikipedia.org/wiki/True_negative\" class=\"mw-redirect\" title=\"True negative\" target=\"_blank\">True negative</a></b></span></td>\n",
    "<td style=\"background: #eee ; border-bottom: double silver ; font-size: 90%\"><a href=\"https://en.wikipedia.org/wiki/False_omission_rate\" class=\"mw-redirect\" title=\"False omission rate\" target=\"_blank\">False omission rate</a> (FOR) = <span style=\"font-size: 118% ; white-space: nowrap\"><span class=\"sfrac nowrap\" style=\"display: inline-block ; vertical-align: -0.5em ; font-size: 85% ; text-align: center\"><span style=\"display: block ; line-height: 1em ; margin: 0 0.1em\">Σ False negative</span><span class=\"visualhide\">/</span><span style=\"display: block ; line-height: 1em ; margin: 0 0.1em ; border-top: 1px solid\">Σ&nbsp;Predicted&nbsp;condition&nbsp;negative</span></span></span></td>\n",
    "<td style=\"background: #eee ; border-bottom: double silver ; font-size: 90%\" colspan=\"2\"><a href=\"https://en.wikipedia.org/wiki/Negative_predictive_value\" class=\"mw-redirect\" title=\"Negative predictive value\" target=\"_blank\">Negative predictive value</a> (NPV) = <span style=\"font-size: 118% ; white-space: nowrap\"><span class=\"sfrac nowrap\" style=\"display: inline-block ; vertical-align: -0.5em ; font-size: 85% ; text-align: center\"><span style=\"display: block ; line-height: 1em ; margin: 0 0.1em\">Σ True negative</span><span class=\"visualhide\">/</span><span style=\"display: block ; line-height: 1em ; margin: 0 0.1em ; border-top: 1px solid\">Σ&nbsp;Predicted&nbsp;condition&nbsp;negative</span></span></span></td>\n",
    "</tr>\n",
    "<tr style=\"font-size: 90%\">\n",
    "<td style=\"border: none ; vertical-align: bottom ; padding: 0 2px 0 0 ; color: #999999\" colspan=\"2\" rowspan=\"2\"></td>\n",
    "<td style=\"background: #eeffcc; font-weight: bold\"><a href=\"https://en.wikipedia.org/wiki/True_positive_rate\" class=\"mw-redirect\" title=\"True positive rate\" target=\"_blank\">True positive rate</a> (TPR), <a href=\"https://en.wikipedia.org/wiki/Recall_(information_retrieval)\" class=\"mw-redirect\" title=\"Recall (information retrieval)\" target=\"_blank\">Recall</a>, <a href=\"https://en.wikipedia.org/wiki/Sensitivity_(tests)\" class=\"mw-redirect\" title=\"Sensitivity (tests)\" target=\"_blank\">Sensitivity</a>, probability&nbsp;of&nbsp;detection <span style=\"font-size: 118% ; white-space: nowrap\">= <span class=\"sfrac nowrap\" style=\"display: inline-block ; vertical-align: -0.5em ; font-size: 85% ; text-align: center\"><span style=\"display: block ; line-height: 1em ; margin: 0 0.1em\">Σ True positive</span><span class=\"visualhide\">/</span><span style=\"display: block ; line-height: 1em ; margin: 0 0.1em ; border-top: 1px solid\">Σ&nbsp;Condition&nbsp;positive</span></span></span></td>\n",
    "<td style=\"background: #eeddbb; font-weight: bold\"><a href=\"https://en.wikipedia.org/wiki/False_positive_rate\" title=\"False positive rate\" target=\"_blank\">False positive rate</a> (FPR), <a href=\"https://en.wikipedia.org/wiki/Information_retrieval\" title=\"Information retrieval\" target=\"_blank\"><span class=\"nowrap\">Fall-out</span></a>, probability&nbsp;of&nbsp;false&nbsp;alarm <span style=\"font-size: 118% ; white-space: nowrap\">= <span class=\"sfrac nowrap\" style=\"display: inline-block ; vertical-align: -0.5em ; font-size: 85% ; text-align: center\"><span style=\"display: block ; line-height: 1em ; margin: 0 0.1em\">Σ False positive</span><span class=\"visualhide\">/</span><span style=\"display: block ; line-height: 1em ; margin: 0 0.1em ; border-top: 1px solid\">Σ&nbsp;Condition&nbsp;negative</span></span></span></td>\n",
    "<td style=\"background: #eeeeee\"><a href=\"https://en.wikipedia.org/wiki/Positive_likelihood_ratio\" class=\"mw-redirect\" title=\"Positive likelihood ratio\" target=\"_blank\">Positive likelihood ratio</a> <span class=\"nowrap\">(LR+)</span> <span style=\"font-size: 118% ; white-space: nowrap\">= <span class=\"sfrac nowrap\" style=\"display: inline-block ; vertical-align: -0.5em ; font-size: 85% ; text-align: center\"><span style=\"display: block ; line-height: 1em ; margin: 0 0.1em\">TPR</span><span class=\"visualhide\">/</span><span style=\"display: block ; line-height: 1em ; margin: 0 0.1em ; border-top: 1px solid\">FPR</span></span></span></td>\n",
    "<td style=\"background: #eee\" rowspan=\"2\"><a href=\"https://en.wikipedia.org/wiki/Diagnostic_odds_ratio\" title=\"Diagnostic odds ratio\" target=\"_blank\">Diagnostic odds ratio</a> (DOR) <span style=\"font-size: 118% ; white-space: nowrap\">= <span class=\"sfrac nowrap\" style=\"display: inline-block ; vertical-align: -0.5em ; font-size: 85% ; text-align: center\"><span style=\"display: block ; line-height: 1em ; margin: 0 0.1em\">LR+</span><span class=\"visualhide\">/</span><span style=\"display: block ; line-height: 1em ; margin: 0 0.1em ; border-top: 1px solid\">LR−</span></span></span></td>\n",
    "<td style=\"background: #eee;border-left: double silver;line-height: 2;\" rowspan=\"2\"><a href=\"https://en.wikipedia.org/wiki/F1_score\" title=\"F1 score\" target=\"_blank\">F<sub>1</sub> score</a> = <span style=\"font-size: 118% ; white-space: nowrap\"><span class=\"sfrac nowrap\" style=\"display: inline-block ; vertical-align: -0.5em ; font-size: 85% ; text-align: center\"><span style=\"display: block ; line-height: 1em ; margin: 0 0.1em\">2</span><span class=\"visualhide\">/</span><span style=\"display: block ; line-height: 1em ; margin: 0 0.1em ; border-top: 1px solid\"><span class=\"sfrac nowrap\" style=\"display: inline-block ; vertical-align: -0.5em ; font-size: 85% ; text-align: center\"><span style=\"display: block ; line-height: 1em ; margin: 0 0.1em\">1</span><span class=\"visualhide\">/</span><span style=\"display: block ; line-height: 1em ; margin: 0 0.1em ; border-top: 1px solid\">Recall</span></span>&nbsp;+&nbsp;<span class=\"sfrac nowrap\" style=\"display: inline-block ; vertical-align: -0.5em ; font-size: 85% ; text-align: center\"><span style=\"display: block ; line-height: 1em ; margin: 0 0.1em\">1</span><span class=\"visualhide\">/</span><span style=\"display: block ; line-height: 1em ; margin: 0 0.1em ; border-top: 1px solid\">Precision</span></span></span></span></span></td>\n",
    "</tr>\n",
    "<tr style=\"font-size: 90%\">\n",
    "<td style=\"background: #eee\"><a href=\"https://en.wikipedia.org/wiki/False_negative_rate\" class=\"mw-redirect\" title=\"False negative rate\" target=\"_blank\">False negative rate</a> (FNR), Miss&nbsp;rate <span style=\"font-size: 118% ; white-space: nowrap\">= <span class=\"sfrac nowrap\" style=\"display: inline-block ; vertical-align: -0.5em ; font-size: 85% ; text-align: center\"><span style=\"display: block ; line-height: 1em ; margin: 0 0.1em\">Σ False negative</span><span class=\"visualhide\">/</span><span style=\"display: block ; line-height: 1em ; margin: 0 0.1em ; border-top: 1px solid\">Σ&nbsp;Condition&nbsp;positive</span></span></span></td>\n",
    "<td style=\"background: #eee\"><a href=\"https://en.wikipedia.org/wiki/True_negative_rate\" class=\"mw-redirect\" title=\"True negative rate\" target=\"_blank\">True negative rate</a> (TNR), <a href=\"https://en.wikipedia.org/wiki/Specificity_(tests)\" class=\"mw-redirect\" title=\"Specificity (tests)\" target=\"_blank\">Specificity</a> (SPC) <span style=\"font-size: 118% ; white-space: nowrap\">= <span class=\"sfrac nowrap\" style=\"display: inline-block ; vertical-align: -0.5em ; font-size: 85% ; text-align: center\"><span style=\"display: block ; line-height: 1em ; margin: 0 0.1em\">Σ True negative</span><span class=\"visualhide\">/</span><span style=\"display: block ; line-height: 1em ; margin: 0 0.1em ; border-top: 1px solid\">Σ&nbsp;Condition&nbsp;negative</span></span></span></td>\n",
    "<td style=\"background: #eee\"><a href=\"https://en.wikipedia.org/wiki/Negative_likelihood_ratio\" class=\"mw-redirect\" title=\"Negative likelihood ratio\" target=\"_blank\">Negative likelihood ratio</a> <span class=\"nowrap\">(LR−)</span> <span style=\"font-size: 118% ; white-space: nowrap\">= <span class=\"sfrac nowrap\" style=\"display: inline-block ; vertical-align: -0.5em ; font-size: 85% ; text-align: center\"><span style=\"display: block ; line-height: 1em ; margin: 0 0.1em\">FNR</span><span class=\"visualhide\">/</span><span style=\"display: block ; line-height: 1em ; margin: 0 0.1em ; border-top: 1px solid\">TNR</span></span></span></td>\n",
    "</tr>\n",
    "</tbody></table>\n",
    "\n",
    "Interactive example: http://arogozhnikov.github.io/2015/10/05/roc-curve.html\n",
    "  - Blue distribution: Condition positive<br>\n",
    "  - Red distribution: Condition negative"
   ]
  },
  {
   "cell_type": "markdown",
   "metadata": {},
   "source": [
    "pipeline in sklearn http://scikit-learn.org/stable/modules/generated/sklearn.pipeline.Pipeline.html"
   ]
  },
  {
   "cell_type": "code",
   "execution_count": 3,
   "metadata": {},
   "outputs": [
    {
     "name": "stdout",
     "output_type": "stream",
     "text": [
      "[0.  0.5 0.5 1. ]\n",
      "[0.5 0.5 1.  1. ]\n",
      "[0.8  0.4  0.35 0.1 ]\n"
     ]
    }
   ],
   "source": [
    "# toy demo\n",
    "import numpy as np\n",
    "from sklearn import metrics\n",
    "y = np.array([1, 1, 2, 2])\n",
    "scores = np.array([0.1, 0.4, 0.35, 0.8])\n",
    "fpr, tpr, thresholds = metrics.roc_curve(y, scores, pos_label=2)\n",
    "print (fpr)\n",
    "print (tpr)\n",
    "print (thresholds)"
   ]
  },
  {
   "cell_type": "code",
   "execution_count": 4,
   "metadata": {
    "slideshow": {
     "slide_type": "slide"
    }
   },
   "outputs": [],
   "source": [
    "from sklearn.datasets import fetch_20newsgroups\n",
    "\n",
    "categories = ['comp.graphics', 'comp.sys.mac.hardware']\n",
    "twenty_train = fetch_20newsgroups(subset='train', categories=categories, shuffle=True, random_state=42)\n",
    "twenty_test = fetch_20newsgroups(subset='test', categories=categories, shuffle=True, random_state=42)\n",
    "\n",
    "from sklearn.feature_extraction.text import CountVectorizer\n",
    "from sklearn.feature_extraction.text import TfidfTransformer\n",
    "\n",
    "from sklearn.naive_bayes import MultinomialNB\n",
    "from sklearn.naive_bayes import GaussianNB\n",
    "\n",
    "from sklearn.base import BaseEstimator, TransformerMixin\n",
    "class SparseToDenseArray(BaseEstimator, TransformerMixin):\n",
    "    def __init__(self):\n",
    "        pass\n",
    "\n",
    "    def transform(self, X, *_):\n",
    "        if hasattr(X, 'toarray'):\n",
    "            return X.toarray()\n",
    "        return X\n",
    "\n",
    "    def fit(self, *_):\n",
    "        return self\n",
    "\n",
    "from sklearn.decomposition import NMF\n",
    "\n",
    "# nmf = NMF(n_components=50, init='random', random_state=0)\n",
    "\n",
    "# \"The purpose of the pipeline is to assemble several steps that can \n",
    "#  be cross-validated together while setting different parameters.\"\n",
    "from sklearn.pipeline import Pipeline\n",
    "pipeline1 = Pipeline([\n",
    "    ('vect', CountVectorizer(min_df=1, stop_words='english')),\n",
    "    ('tfidf', TfidfTransformer()),\n",
    "    ('reduce_dim', NMF(n_components=50, init='random', random_state=0)),\n",
    "    ('clf', MultinomialNB()),\n",
    "])\n",
    "pipeline2 = Pipeline([\n",
    "    ('vect', CountVectorizer(min_df=1, stop_words='english')),\n",
    "    ('tfidf', TfidfTransformer()),\n",
    "    ('reduce_dim', NMF(n_components=50, init='random', random_state=0)),\n",
    "    ('toarr', SparseToDenseArray()),\n",
    "    ('clf', GaussianNB()),\n",
    "])\n",
    "\n",
    "from sklearn.metrics import confusion_matrix\n",
    "from sklearn.metrics import precision_score\n",
    "from sklearn.metrics import recall_score\n",
    "from sklearn.metrics import roc_curve\n",
    "from sklearn.metrics import auc"
   ]
  },
  {
   "cell_type": "code",
   "execution_count": 3,
   "metadata": {
    "collapsed": true,
    "slideshow": {
     "slide_type": "skip"
    }
   },
   "outputs": [],
   "source": [
    "import matplotlib.pyplot as plt\n",
    "%matplotlib inline"
   ]
  },
  {
   "cell_type": "code",
   "execution_count": 4,
   "metadata": {
    "collapsed": true,
    "slideshow": {
     "slide_type": "subslide"
    }
   },
   "outputs": [],
   "source": [
    "def plot_roc(fpr, tpr):\n",
    "    fig, ax = plt.subplots()\n",
    "\n",
    "    roc_auc = auc(fpr,tpr)\n",
    "\n",
    "    ax.plot(fpr, tpr, lw=2, label= 'area under curve = %0.4f' % roc_auc)\n",
    "\n",
    "    ax.grid(color='0.7', linestyle='--', linewidth=1)\n",
    "\n",
    "    ax.set_xlim([-0.1, 1.1])\n",
    "    ax.set_ylim([0.0, 1.05])\n",
    "    ax.set_xlabel('False Positive Rate',fontsize=15)\n",
    "    ax.set_ylabel('True Positive Rate',fontsize=15)\n",
    "\n",
    "    ax.legend(loc=\"lower right\")\n",
    "\n",
    "    for label in ax.get_xticklabels()+ax.get_yticklabels():\n",
    "        label.set_fontsize(15)\n",
    "\n",
    "def fit_predict_and_plot_roc(pipe, train_data, train_label, test_data, test_label):\n",
    "    pipe.fit(train_data, train_label)\n",
    "    # pipeline1.predict(twenty_test.data)\n",
    "\n",
    "    prob_score = pipe.predict_proba(test_data)\n",
    "\n",
    "    fpr, tpr, _ = roc_curve(test_label, prob_score[:,1])\n",
    "\n",
    "    plot_roc(fpr, tpr)\n",
    "    return pipe"
   ]
  },
  {
   "cell_type": "code",
   "execution_count": 5,
   "metadata": {
    "slideshow": {
     "slide_type": "slide"
    }
   },
   "outputs": [
    {
     "data": {
      "text/plain": [
       "Pipeline(steps=[('vect', CountVectorizer(analyzer=u'word', binary=False, decode_error=u'strict',\n",
       "        dtype=<type 'numpy.int64'>, encoding=u'utf-8', input=u'content',\n",
       "        lowercase=True, max_df=1.0, max_features=None, min_df=1,\n",
       "        ngram_range=(1, 1), preprocessor=None, stop_words='english',\n",
       "     ...=None, tol=0.0001, verbose=0)), ('clf', MultinomialNB(alpha=1.0, class_prior=None, fit_prior=True))])"
      ]
     },
     "execution_count": 5,
     "metadata": {},
     "output_type": "execute_result"
    },
    {
     "data": {
      "image/png": "[encoded data removed]",
      "text/plain": [
       "<matplotlib.figure.Figure at 0x103fa1050>"
      ]
     },
     "metadata": {},
     "output_type": "display_data"
    }
   ],
   "source": [
    "fit_predict_and_plot_roc(pipeline1, twenty_train.data, twenty_train.target, twenty_test.data, twenty_test.target)"
   ]
  },
  {
   "cell_type": "code",
   "execution_count": 6,
   "metadata": {},
   "outputs": [
    {
     "data": {
      "text/plain": [
       "Pipeline(steps=[('vect', CountVectorizer(analyzer=u'word', binary=False, decode_error=u'strict',\n",
       "        dtype=<type 'numpy.int64'>, encoding=u'utf-8', input=u'content',\n",
       "        lowercase=True, max_df=1.0, max_features=None, min_df=1,\n",
       "        ngram_range=(1, 1), preprocessor=None, stop_words='english',\n",
       "     ...ss=None, tol=0.0001, verbose=0)), ('toarr', SparseToDenseArray()), ('clf', GaussianNB(priors=None))])"
      ]
     },
     "execution_count": 6,
     "metadata": {},
     "output_type": "execute_result"
    },
    {
     "data": {
      "image/png": "[encoded data removed]",
      "text/plain": [
       "<matplotlib.figure.Figure at 0x10de76710>"
      ]
     },
     "metadata": {},
     "output_type": "display_data"
    }
   ],
   "source": [
    "fit_predict_and_plot_roc(pipeline2, twenty_train.data, twenty_train.target, twenty_test.data, twenty_test.target)"
   ]
  },
  {
   "cell_type": "code",
   "execution_count": 7,
   "metadata": {},
   "outputs": [
    {
     "data": {
      "text/plain": [
       "Pipeline(steps=[('vect', CountVectorizer(analyzer=u'word', binary=False, decode_error=u'strict',\n",
       "        dtype=<type 'numpy.int64'>, encoding=u'utf-8', input=u'content',\n",
       "        lowercase=True, max_df=1.0, max_features=None, min_df=1,\n",
       "        ngram_range=(1, 1), preprocessor=None, stop_words='english',\n",
       "     ...idf=True)), ('reduce_dim', None), ('toarr', SparseToDenseArray()), ('clf', GaussianNB(priors=None))])"
      ]
     },
     "execution_count": 7,
     "metadata": {},
     "output_type": "execute_result"
    },
    {
     "data": {
      "image/png": "[encoded data removed]",
      "text/plain": [
       "<matplotlib.figure.Figure at 0x10e0d3350>"
      ]
     },
     "metadata": {},
     "output_type": "display_data"
    }
   ],
   "source": [
    "# GaussianNB classifier doesn't work well with sparse data, in which\n",
    "# case the predict_proba(test_data) gives out binary results\n",
    "pipeline2.set_params(reduce_dim=None)\n",
    "fit_predict_and_plot_roc(pipeline2, twenty_train.data, twenty_train.target, twenty_test.data, twenty_test.target)"
   ]
  },
  {
   "cell_type": "markdown",
   "metadata": {},
   "source": [
    "# Stemming & Lemmatization"
   ]
  },
  {
   "cell_type": "markdown",
   "metadata": {},
   "source": [
    "### use stronger stopping words"
   ]
  },
  {
   "cell_type": "code",
   "execution_count": 8,
   "metadata": {},
   "outputs": [
    {
     "name": "stdout",
     "output_type": "stream",
     "text": [
      "# of stop_words_skt:\t\t 318\n",
      "# of stop_words_en:\t\t 153\n",
      "# of punctuation:\t\t 32\n",
      "# of combined_stopwords:\t 384\n"
     ]
    }
   ],
   "source": [
    "from sklearn.feature_extraction import text\n",
    "stop_words_skt = text.ENGLISH_STOP_WORDS\n",
    "from nltk.corpus import stopwords\n",
    "#nltk.download('stopwords' )\n",
    "stop_words_en = stopwords.words('english')\n",
    "\n",
    "print \"# of stop_words_skt:\\t\\t %s\" % len(stop_words_skt)\n",
    "print \"# of stop_words_en:\\t\\t %s\" % len(stop_words_en)\n",
    "from string import punctuation\n",
    "print \"# of punctuation:\\t\\t %s\" % len(punctuation)\n",
    "combined_stopwords = set.union(set(stop_words_en),set(punctuation),set(stop_words_skt))\n",
    "print \"# of combined_stopwords:\\t %s\" % len(combined_stopwords)"
   ]
  },
  {
   "cell_type": "code",
   "execution_count": 9,
   "metadata": {
    "collapsed": true
   },
   "outputs": [],
   "source": [
    "#combined_stopwords"
   ]
  },
  {
   "cell_type": "markdown",
   "metadata": {
    "collapsed": true
   },
   "source": [
    "## Nltk for stemming\n",
    "1. Download NLTK package\n",
    "  1. `pip install nltk`\n",
    "2. Have the stopwords corpus on your computer\n",
    "  1. `nltk.download()` if you want to download any data in NLTK\n",
    "  2. instruction for downloading can be found http://www.nltk.org/data.html\n",
    "3. More detailed information can be found \n",
    "  1. http://www.nltk.org/api/nltk.stem.html#module-nltk.stem\n",
    "  2. https://www.kaggle.com/alvations/basic-nlp-with-nltk"
   ]
  },
  {
   "cell_type": "markdown",
   "metadata": {},
   "source": [
    "## Stemming and Lemmatization\n",
    "Often we want to map the different forms of the same word to the same root word, e.g. \"walks\", \"walking\", \"walked\" should all be the same as \"walk\".\n",
    "\n",
    "The stemming and lemmatization process are hand-written regex rules written find the root word.\n",
    "\n",
    "1. Stemming: Trying to shorten a word with simple regex rules\n",
    "\n",
    "2. Lemmatization: Trying to find the root word with linguistics rules (with the use of regexes)"
   ]
  },
  {
   "cell_type": "code",
   "execution_count": 10,
   "metadata": {},
   "outputs": [
    {
     "name": "stdout",
     "output_type": "stream",
     "text": [
      "-------------------- PorterStemmer --------------------\n",
      "grow\n",
      "doe\n",
      "leav\n",
      "fairli\n",
      "articl\n",
      "-------------------- SnowballStemmer --------------------\n",
      "grow\n",
      "doe\n",
      "leav\n",
      "fair\n",
      "articl\n"
     ]
    }
   ],
   "source": [
    "#popular stemmers, Lemmatizer\n",
    "import nltk\n",
    "ps = nltk.stem.PorterStemmer()\n",
    "test_list = ['grows','does','leaves','fairly','article']\n",
    "print \"-\"*20 + \" PorterStemmer \" + \"-\"*20\n",
    "for item in test_list:\n",
    "    print ps.stem(item)\n",
    "print \"-\"*20 + \" SnowballStemmer \" + \"-\"*20\n",
    "sno = nltk.stem.SnowballStemmer('english')\n",
    "for item in test_list:\n",
    "    print sno.stem(item)   "
   ]
  },
  {
   "cell_type": "markdown",
   "metadata": {
    "collapsed": true
   },
   "source": [
    "### Lemmatizer\n",
    "1. Lemmatize using WordNet’s built-in morphy function. Returns the input word unchanged if it cannot be found in WordNet. The default pos=NOUN.\n",
    "2. The lemmatizer is actually pretty complicated, it needs Parts of Speech (POS) tags\n",
    "3. 'pos_tag' takes the tokenized sentence as input, i.e. list of string,and returns a tuple of (word, tg), i.e. list of tuples of strings\n",
    "  1. pos_tag uses  Penn Treebank ://www.ling.upenn.edu/courses/Fall_2003/ling001/penn_treebank_pos.html\n",
    "  2. We can just map some of them to wordnet\n",
    "  3. In the wordnet (ADJ, ADJ_SAT, ADV, NOUN, VERB = 'a', 's', 'r', 'n', 'v', POS_LIST = [NOUN, VERB, ADJ, ADV])\n",
    "     You can find detailed information here http://www.nltk.org/_modules/nltk/corpus/reader/wordnet.html\n"
   ]
  },
  {
   "cell_type": "code",
   "execution_count": 11,
   "metadata": {},
   "outputs": [
    {
     "name": "stdout",
     "output_type": "stream",
     "text": [
      "-------------------- WordNetLemmatizer --------------------\n",
      "grows\n",
      "doe\n",
      "leaf\n",
      "fairly\n",
      "article\n",
      "-------------------- Another example for WordNetLemmatizer --------------------\n",
      "walking\n",
      "walk\n",
      "walked\n",
      "<WordNetLemmatizer>\n"
     ]
    }
   ],
   "source": [
    "import nltk\n",
    "#nltk.download()#, if you need \"corpora/wordnet\", choose it\n",
    "wnl = nltk.wordnet.WordNetLemmatizer()\n",
    "#lemmatize(word, pos='n')\n",
    "print \"-\"*20 + \" WordNetLemmatizer \" + \"-\"*20\n",
    "for item in test_list:\n",
    "    print wnl.lemmatize(item)\n",
    "print \"-\"*20 + \" Another example for WordNetLemmatizer \" + \"-\"*20\n",
    "for word in ['walking', 'walks', 'walked']:\n",
    "    print wnl.lemmatize(word)\n",
    "print wnl"
   ]
  },
  {
   "cell_type": "code",
   "execution_count": 12,
   "metadata": {},
   "outputs": [
    {
     "name": "stdout",
     "output_type": "stream",
     "text": [
      "[('He', 'PRP'), ('is', 'VBZ'), ('walking', 'VBG'), ('to', 'TO'), ('school', 'NN')]\n",
      "mapping to Verb, Noun, Adjective, Adverbial\n"
     ]
    },
    {
     "data": {
      "text/plain": [
       "['he', u'be', u'walk', 'to', 'school']"
      ]
     },
     "execution_count": 12,
     "metadata": {},
     "output_type": "execute_result"
    }
   ],
   "source": [
    "# one example for advanced stemming\n",
    "#The lemmatizer is actually pretty complicated, it needs Parts of Speech (POS) tags\n",
    "from nltk import pos_tag\n",
    "#nltk.download('punkt')#, if you need \"tokenizers/punkt/english.pickle\", choose it\n",
    "# nltk.download('averaged_perceptron_tagger')\n",
    "wnl = nltk.wordnet.WordNetLemmatizer()\n",
    "walking_tagged = pos_tag(nltk.word_tokenize('He is walking to school'))\n",
    "print(walking_tagged)\n",
    "print \"mapping to Verb, Noun, Adjective, Adverbial\"\n",
    "\n",
    "def penn2morphy(penntag):\n",
    "    \"\"\" Converts Penn Treebank tags to WordNet. \"\"\"\n",
    "    morphy_tag = {'NN':'n', 'JJ':'a',\n",
    "                  'VB':'v', 'RB':'r'}\n",
    "    try:\n",
    "        return morphy_tag[penntag[:2]]\n",
    "    except:\n",
    "        return 'n' \n",
    "def lemmatize_sent_demo(text): \n",
    "    # Text input is string, returns array of lowercased strings(words).\n",
    "    return [wnl.lemmatize(word.lower(), pos=penn2morphy(tag)) \n",
    "            for word, tag in pos_tag(nltk.word_tokenize(text))]\n",
    "def lemmatize_sent(list_word): \n",
    "    # Text input is string, returns array of lowercased strings(words).\n",
    "    return [wnl.lemmatize(word.lower(), pos=penn2morphy(tag)) \n",
    "            for word, tag in pos_tag(list_word)]\n",
    "lemmatize_sent_demo('He is walking to school')"
   ]
  },
  {
   "cell_type": "code",
   "execution_count": 13,
   "metadata": {
    "collapsed": true
   },
   "outputs": [],
   "source": [
    "# tokenize -> stem -> remove punctuation & stop words\n",
    "import numpy as np\n",
    "import matplotlib.pyplot as plt\n",
    "from pickle import dump\n",
    "\n",
    "from sklearn.datasets import fetch_20newsgroups\n",
    "comp_categories = [ 'comp.graphics', 'comp.os.ms-windows.misc', 'comp.sys.ibm.pc.hardware', 'comp.sys.mac.hardware']\n",
    "rec_categories = ['rec.autos', 'rec.motorcycles', 'rec.sport.baseball', 'rec.sport.hockey']\n",
    "twenty_train = fetch_20newsgroups(subset='train', categories=comp_categories+rec_categories, shuffle=True, random_state=42,)\n",
    "twenty_test = fetch_20newsgroups(subset='test', categories=comp_categories+rec_categories, shuffle=True, random_state=42,)\n",
    "counts = []"
   ]
  },
  {
   "cell_type": "code",
   "execution_count": 14,
   "metadata": {},
   "outputs": [
    {
     "data": {
      "text/plain": [
       "4732"
      ]
     },
     "execution_count": 14,
     "metadata": {},
     "output_type": "execute_result"
    }
   ],
   "source": [
    "len(twenty_train.data)"
   ]
  },
  {
   "cell_type": "markdown",
   "metadata": {},
   "source": [
    "CountVectorizer().build_analyzer()  \"\"\"Return a callable that handles preprocessing and tokenization\"\"\"\n",
    "https://github.com/scikit-learn/scikit-learn/blob/a24c8b46/sklearn/feature_extraction/text.py#L247\n"
   ]
  },
  {
   "cell_type": "code",
   "execution_count": 15,
   "metadata": {
    "collapsed": true
   },
   "outputs": [],
   "source": [
    "# overwrite analyzer with callable function:\n",
    "from sklearn.feature_extraction.text import CountVectorizer\n",
    "analyzer = CountVectorizer().build_analyzer()\n",
    "def stemmed_words(doc):\n",
    "    return (stemmer.stem(w) for w in analyzer(doc))\n",
    "def stem_rmv_punc(doc):\n",
    "    return (word for word in lemmatize_sent(analyzer(doc)) if word not in combined_stopwords and not word.isdigit())"
   ]
  },
  {
   "cell_type": "code",
   "execution_count": 16,
   "metadata": {},
   "outputs": [
    {
     "name": "stdout",
     "output_type": "stream",
     "text": [
      "(4732, 69068)\n",
      "(4732, 24849)\n",
      "(4732, 16292)\n",
      "(4732, 12640)\n"
     ]
    }
   ],
   "source": [
    "from sklearn.feature_extraction.text import CountVectorizer\n",
    "min_dfs = range(1,5)\n",
    "for min_df in min_dfs:\n",
    "    count_vect1 = CountVectorizer(min_df=min_df,analyzer=stem_rmv_punc)\n",
    "    X_train_counts1 = count_vect1.fit_transform(twenty_train.data)\n",
    "    print X_train_counts1.shape"
   ]
  },
  {
   "cell_type": "code",
   "execution_count": 17,
   "metadata": {
    "scrolled": false
   },
   "outputs": [
    {
     "data": {
      "text/plain": [
       "CountVectorizer(analyzer=<function stem_rmv_punc at 0x12f91b050>,\n",
       "        binary=False, decode_error=u'strict', dtype=<type 'numpy.int64'>,\n",
       "        encoding=u'utf-8', input=u'content', lowercase=True, max_df=1.0,\n",
       "        max_features=None, min_df=4, ngram_range=(1, 1), preprocessor=None,\n",
       "        stop_words=None, strip_accents=None,\n",
       "        token_pattern=u'(?u)\\\\b\\\\w\\\\w+\\\\b', tokenizer=None,\n",
       "        vocabulary=None)"
      ]
     },
     "execution_count": 17,
     "metadata": {},
     "output_type": "execute_result"
    }
   ],
   "source": [
    "count_vect1"
   ]
  },
  {
   "cell_type": "markdown",
   "metadata": {},
   "source": [
    "# Classifiers\n",
    "\n",
    "http://scikit-learn.org/stable/modules/naive_bayes.html"
   ]
  }
 ],
 "metadata": {
  "kernelspec": {
   "display_name": "Python 3",
   "language": "python",
   "name": "python3"
  },
  "language_info": {
   "codemirror_mode": {
    "name": "ipython",
    "version": 3
   },
   "file_extension": ".py",
   "mimetype": "text/x-python",
   "name": "python",
   "nbconvert_exporter": "python",
   "pygments_lexer": "ipython3",
   "version": "3.6.4"
  }
 },
 "nbformat": 4,
 "nbformat_minor": 2
}
