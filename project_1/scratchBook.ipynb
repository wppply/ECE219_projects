{
 "cells": [
  {
   "cell_type": "markdown",
   "metadata": {},
   "source": [
    "# Problem a)"
   ]
  },
  {
   "cell_type": "code",
   "execution_count": 2,
   "metadata": {},
   "outputs": [
    {
     "name": "stdout",
     "output_type": "stream",
     "text": [
      "[584, 591, 590, 578, 594, 598, 597, 600]\n"
     ]
    },
    {
     "data": {
      "text/plain": [
       "<Container object of 8 artists>"
      ]
     },
     "execution_count": 2,
     "metadata": {},
     "output_type": "execute_result"
    },
    {
     "data": {
      "image/png": "[encoded data removed]",
      "text/plain": [
       "<matplotlib.figure.Figure at 0x10cfea9b0>"
      ]
     },
     "metadata": {},
     "output_type": "display_data"
    }
   ],
   "source": [
    "from sklearn.datasets import fetch_20newsgroups\n",
    "import matplotlib.pyplot as plt\n",
    "import numpy as np\n",
    "\n",
    "\n",
    "categories =['comp.graphics','comp.os.ms-windows.misc','comp.sys.ibm.pc.hardware','comp.sys.mac.hardware','rec.autos','rec.motorcycles','rec.sport.baseball','rec.sport.hockey']\n",
    "dataLen = []\n",
    "train_datas =[]\n",
    "for cat in categories:\n",
    "    raw_train = fetch_20newsgroups(subset='train',categories = [cat],shuffle=True, random_state =42)\n",
    "    train_datas.append(raw_train.data)\n",
    "    dataLen.append(len(raw_train.data))\n",
    "print(dataLen)\n",
    "# the histogram of the data\n",
    "plt.barh(categories,dataLen)"
   ]
  },
  {
   "cell_type": "markdown",
   "metadata": {},
   "source": [
    "# Problem b)"
   ]
  },
  {
   "cell_type": "markdown",
   "metadata": {},
   "source": [
    "### Stopping words"
   ]
  },
  {
   "cell_type": "code",
   "execution_count": 1,
   "metadata": {},
   "outputs": [
    {
     "name": "stdout",
     "output_type": "stream",
     "text": [
      "[nltk_data] Downloading package stopwords to\n",
      "[nltk_data]     /Users/shuangyu/nltk_data...\n",
      "[nltk_data]   Package stopwords is already up-to-date!\n"
     ]
    }
   ],
   "source": [
    "# tokenize -> stem -> remove punctuation & stop words\n",
    "import numpy as np\n",
    "import nltk\n",
    "import matplotlib.pyplot as plt\n",
    "from pickle import dump\n",
    "\n",
    "from sklearn.feature_extraction import text\n",
    "stop_words_skt = text.ENGLISH_STOP_WORDS\n",
    "from nltk.corpus import stopwords\n",
    "nltk.download('stopwords' )\n",
    "stop_words_en = stopwords.words('english')\n",
    "from string import punctuation\n",
    "combined_stopwords = set.union(set(stop_words_en),set(punctuation),set(stop_words_skt))\n",
    "\n"
   ]
  },
  {
   "cell_type": "markdown",
   "metadata": {},
   "source": [
    "### lemmatizer"
   ]
  },
  {
   "cell_type": "code",
   "execution_count": 2,
   "metadata": {},
   "outputs": [
    {
     "name": "stdout",
     "output_type": "stream",
     "text": [
      "[nltk_data] Downloading package punkt to /Users/shuangyu/nltk_data...\n",
      "[nltk_data]   Package punkt is already up-to-date!\n",
      "[nltk_data] Downloading package averaged_perceptron_tagger to\n",
      "[nltk_data]     /Users/shuangyu/nltk_data...\n",
      "[nltk_data]   Package averaged_perceptron_tagger is already up-to-\n",
      "[nltk_data]       date!\n",
      "[nltk_data] Downloading package wordnet to\n",
      "[nltk_data]     /Users/shuangyu/nltk_data...\n",
      "[nltk_data]   Package wordnet is already up-to-date!\n"
     ]
    },
    {
     "data": {
      "text/plain": [
       "['h',\n",
       " 'e',\n",
       " ' ',\n",
       " 'i',\n",
       " 's',\n",
       " ' ',\n",
       " 'w',\n",
       " 'a',\n",
       " 'l',\n",
       " 'k',\n",
       " 'i',\n",
       " 'n',\n",
       " 'g',\n",
       " ' ',\n",
       " 't',\n",
       " 'o',\n",
       " ' ',\n",
       " 's',\n",
       " 'c',\n",
       " 'h',\n",
       " 'o',\n",
       " 'o',\n",
       " 'l']"
      ]
     },
     "execution_count": 2,
     "metadata": {},
     "output_type": "execute_result"
    }
   ],
   "source": [
    "import nltk\n",
    "nltk.download('punkt')\n",
    "nltk.download('averaged_perceptron_tagger')\n",
    "nltk.download('wordnet')\n",
    "from nltk import pos_tag\n",
    "#nltk.download('punkt')#, if you need \"tokenizers/punkt/english.pickle\", choose it\n",
    "# nltk.download('averaged_perceptron_tagger')\n",
    "wnl = nltk.wordnet.WordNetLemmatizer()\n",
    "\n",
    "def penn2morphy(penntag):\n",
    "    \"\"\" Converts Penn Treebank tags to WordNet. \"\"\"\n",
    "    morphy_tag = {'NN':'n', 'JJ':'a',\n",
    "                  'VB':'v', 'RB':'r'}\n",
    "    try:\n",
    "        return morphy_tag[penntag[:2]]\n",
    "    except:\n",
    "        return 'n' \n",
    "def lemmatize_sent_demo(text): \n",
    "    # Text input is string, returns array of lowercased strings(words).\n",
    "    return [wnl.lemmatize(word.lower(), pos=penn2morphy(tag)) \n",
    "            for word, tag in pos_tag(nltk.word_tokenize(text))]\n",
    "def lemmatize_sent(list_word): \n",
    "    # Text input is string, returns array of lowercased strings(words).\n",
    "    return [wnl.lemmatize(word.lower(), pos=penn2morphy(tag)) \n",
    "            for word, tag in pos_tag(list_word)]\n",
    "# lemmatize_sent('He is walking to school')"
   ]
  },
  {
   "cell_type": "code",
   "execution_count": 3,
   "metadata": {},
   "outputs": [],
   "source": [
    "# overwrite analyzer with callable function:\n",
    "from sklearn.feature_extraction.text import CountVectorizer\n",
    "analyzer = CountVectorizer().build_analyzer()\n",
    "def stemmed_words(doc):\n",
    "    return (stemmer.stem(w) for w in analyzer(doc))\n",
    "def stem_rmv_punc(doc):\n",
    "    return (word for word in lemmatize_sent(analyzer(doc)) if word not in combined_stopwords and not word.isdigit())"
   ]
  },
  {
   "cell_type": "code",
   "execution_count": 4,
   "metadata": {},
   "outputs": [],
   "source": [
    "# tokenize -> stem -> remove punctuation & stop words\n",
    "import numpy as np\n",
    "import matplotlib.pyplot as plt\n",
    "from pickle import dump\n",
    "\n",
    "from sklearn.datasets import fetch_20newsgroups\n",
    "comp_categories = [ 'comp.graphics', 'comp.os.ms-windows.misc', 'comp.sys.ibm.pc.hardware', 'comp.sys.mac.hardware']\n",
    "rec_categories = ['rec.autos', 'rec.motorcycles', 'rec.sport.baseball', 'rec.sport.hockey']\n",
    "twenty_train = fetch_20newsgroups(subset='train', categories=comp_categories+rec_categories, shuffle=True, random_state=42,)\n",
    "twenty_test = fetch_20newsgroups(subset='test', categories=comp_categories+rec_categories, shuffle=True, random_state=42,)\n",
    "counts = []"
   ]
  },
  {
   "cell_type": "code",
   "execution_count": 28,
   "metadata": {},
   "outputs": [
    {
     "name": "stdout",
     "output_type": "stream",
     "text": [
      "(4732, 12640) (3150, 12640)\n"
     ]
    }
   ],
   "source": [
    "from sklearn.feature_extraction.text import CountVectorizer\n",
    "min_dfs = range(1,5)    \n",
    "def TF_builder(min_df,twenty_train,twenty_test):\n",
    "    count_vect = CountVectorizer(min_df=min_df,analyzer=stem_rmv_punc)\n",
    "    X_train_counts = count_vect.fit_transform(twenty_train)\n",
    "    X_test_counts = count_vect.transform(twenty_test)\n",
    "    return X_train_counts,X_test_counts\n",
    "\n",
    "for min_df in min_dfs[3:]:\n",
    "    X_train_counts,X_test_counts = TF_builder(min_df,twenty_train.data,twenty_test.data)\n",
    "    print(X_train_counts.shape, X_test_counts.shape) "
   ]
  },
  {
   "cell_type": "code",
   "execution_count": 30,
   "metadata": {},
   "outputs": [],
   "source": [
    "#TDIDF of 8 classes\n",
    "from sklearn.feature_extraction.text import TfidfTransformer\n",
    "\n",
    "def TFIDF_builder(X_train_counts1,X_test_counts1 ):\n",
    "    tfidf_transformer = TfidfTransformer()\n",
    "    train_tfidf = tfidf_transformer.fit_transform(X_train_counts1)\n",
    "    test_tfidf = tfidf_transformer.transform(X_test_counts1)\n",
    "    return train_tfidf,test_tfidf\n",
    "\n",
    "train_tfidf,test_tfidf = TFIDF_builder(X_train_counts, X_test_counts)"
   ]
  },
  {
   "cell_type": "markdown",
   "metadata": {},
   "source": [
    "# probelm c)"
   ]
  },
  {
   "cell_type": "code",
   "execution_count": 9,
   "metadata": {},
   "outputs": [],
   "source": [
    "#TFICF \n",
    "new_cats = [\"comp.sys.ibm.pc.hardware\", \"comp.sys.mac.hardware\", \"misc.forsale\", \"soc.religion.christian\"]\n",
    "new_bigstring = []\n",
    "for cat in new_cats:\n",
    "    new_train = fetch_20newsgroups(subset='train',categories = [cat], shuffle=True, random_state =42)\n",
    "    #stem\n",
    "    new_bigstring.append(\" \".join(new_train.data))\n",
    "# print(len(new_bigstring))\n",
    "count_vect_c = CountVectorizer(min_df=min_df,analyzer=stem_rmv_punc)\n",
    "new_count= count_vect_c.fit_transform(new_bigstring)"
   ]
  },
  {
   "cell_type": "code",
   "execution_count": 10,
   "metadata": {},
   "outputs": [
    {
     "name": "stdout",
     "output_type": "stream",
     "text": [
      "(4, 1759)\n"
     ]
    }
   ],
   "source": [
    "print(new_count.shape)"
   ]
  },
  {
   "cell_type": "code",
   "execution_count": 11,
   "metadata": {},
   "outputs": [
    {
     "name": "stdout",
     "output_type": "stream",
     "text": [
      "['card', 'com', 'controller', 'drive', 'edu', 'ide', 'line', 'organization', 'subject', 'use']\n",
      "['apple', 'drive', 'edu', 'line', 'mac', 'organization', 'post', 'problem', 'subject', 'use']\n",
      "['com', 'edu', 'line', 'new', 'offer', 'organization', 'post', 'sale', 'subject', 'university']\n",
      "['believe', 'edu', 'god', 'know', 'line', 'organization', 'people', 'say', 'subject', 'think']\n"
     ]
    }
   ],
   "source": [
    "# find the top 10\n",
    "new_sort = new_count.toarray()\n",
    "#print(type(new_sort))\n",
    "index=[]\n",
    "i = 0\n",
    "for termCount in new_sort:\n",
    "    termCount.sort()\n",
    "    index.append(np.argwhere(new_count.toarray()[i]>=termCount[::-1][:10][-1]))\n",
    "    i+=1\n",
    "#print not in order\n",
    "for x in range(len(index)):\n",
    "    print([count_vect_c.get_feature_names()[i[0]] for i in index[x] ])"
   ]
  },
  {
   "cell_type": "markdown",
   "metadata": {},
   "source": [
    "# Problem d)\n",
    "functions get LSI and NMF"
   ]
  },
  {
   "cell_type": "code",
   "execution_count": 44,
   "metadata": {},
   "outputs": [
    {
     "name": "stdout",
     "output_type": "stream",
     "text": [
      "(4732, 50)\n",
      "(3150, 50)\n"
     ]
    }
   ],
   "source": [
    "#LSI\n",
    "from sklearn.decomposition import TruncatedSVD\n",
    "def LSI_deduction(train_tfidf,test_tfidf):\n",
    "    SVD = TruncatedSVD(n_components=50)\n",
    "    train_LSI = SVD.fit_transform(train_tfidf)\n",
    "    test_LSI = SVD.transform(test_tfidf)\n",
    "    return train_LSI,test_LSI\n",
    "\n",
    "train_LSI,test_LSI = LSI_deduction(train_tfidf,test_tfidf)\n",
    "print(train_LSI.shape)\n",
    "print(test_LSI.shape)\n",
    "\n"
   ]
  },
  {
   "cell_type": "code",
   "execution_count": 45,
   "metadata": {},
   "outputs": [
    {
     "name": "stdout",
     "output_type": "stream",
     "text": [
      "(4732, 50)\n",
      "(3150, 50)\n"
     ]
    }
   ],
   "source": [
    "#NMF\n",
    "from sklearn.decomposition import NMF\n",
    "def NMF_deduction(train_tfidf,test_tfidf):\n",
    "    model = NMF(n_components=50, init='random', random_state=0)\n",
    "    train_NMF = model.fit_transform(train_tfidf)\n",
    "    test_NMF = model.transform(test_tfidf)\n",
    "    return train_NMF,test_NMF\n",
    "\n",
    "\n",
    "train_NMF,test_NMF = NMF_deduction(train_tfidf,test_tfidf)\n",
    "print(train_NMF.shape)\n",
    "print(test_NMF.shape)"
   ]
  },
  {
   "cell_type": "markdown",
   "metadata": {},
   "source": [
    "# Problem e)"
   ]
  },
  {
   "cell_type": "code",
   "execution_count": null,
   "metadata": {},
   "outputs": [],
   "source": []
  },
  {
   "cell_type": "markdown",
   "metadata": {},
   "source": [
    "# Problem g)"
   ]
  },
  {
   "cell_type": "code",
   "execution_count": 22,
   "metadata": {},
   "outputs": [
    {
     "name": "stdout",
     "output_type": "stream",
     "text": [
      "4732 2 7223\n"
     ]
    },
    {
     "data": {
      "text/plain": [
       "array([ True,  True,  True, ...,  True,  True, False])"
      ]
     },
     "execution_count": 22,
     "metadata": {},
     "output_type": "execute_result"
    }
   ],
   "source": [
    "# #combine sub documents\n",
    "# bin_class_data = []\n",
    "\n",
    "# #0 for 'comp.graphics','comp.os.ms-windows.misc','comp.sys.ibm.pc.hardware','comp.sys.mac.hardware'\n",
    "# bin_class_data.append(raw_train.data[0]+raw_train.data[1]+raw_train.data[2]+raw_train.data[3])\n",
    "# #1 for 'rec.autos','rec.motorcycles','rec.sport.baseball','rec.sport.hockey'\n",
    "# bin_class_data.append(raw_train.data[4]+raw_train.data[5]+raw_train.data[6]+raw_train.data[7])\n",
    "\n",
    "# print(len(raw_train.data),len(bin_class_data),len(bin_class_data[0]))\n",
    "# raw_train.target>3"
   ]
  },
  {
   "cell_type": "code",
   "execution_count": 46,
   "metadata": {},
   "outputs": [],
   "source": [
    "#naive Bayes\n",
    "from sklearn.naive_bayes import MultinomialNB\n",
    "\n",
    "clf = MultinomialNB().fit(train_NMF, twenty_train.target>3)\n",
    "\n"
   ]
  },
  {
   "cell_type": "code",
   "execution_count": 48,
   "metadata": {},
   "outputs": [
    {
     "ename": "SyntaxError",
     "evalue": "unexpected EOF while parsing (<ipython-input-48-55dd3a62e8fc>, line 3)",
     "output_type": "error",
     "traceback": [
      "\u001b[0;36m  File \u001b[0;32m\"<ipython-input-48-55dd3a62e8fc>\"\u001b[0;36m, line \u001b[0;32m3\u001b[0m\n\u001b[0;31m    #     print('%r => %s' % (doc, [\"tech\",\"rec\"][category]))\u001b[0m\n\u001b[0m                                                             ^\u001b[0m\n\u001b[0;31mSyntaxError\u001b[0m\u001b[0;31m:\u001b[0m unexpected EOF while parsing\n"
     ]
    }
   ],
   "source": [
    "predicted = clf.predict(test_NMF)\n",
    "for doc, category in zip(twenty_test.data, predicted):\n",
    "     print('%r => %s' % (doc, [\"tech\",\"rec\"][category]))\n"
   ]
  },
  {
   "cell_type": "code",
   "execution_count": null,
   "metadata": {},
   "outputs": [],
   "source": []
  }
 ],
 "metadata": {
  "kernelspec": {
   "display_name": "Python 3",
   "language": "python",
   "name": "python3"
  },
  "language_info": {
   "codemirror_mode": {
    "name": "ipython",
    "version": 3
   },
   "file_extension": ".py",
   "mimetype": "text/x-python",
   "name": "python",
   "nbconvert_exporter": "python",
   "pygments_lexer": "ipython3",
   "version": "3.6.4"
  }
 },
 "nbformat": 4,
 "nbformat_minor": 2
}
