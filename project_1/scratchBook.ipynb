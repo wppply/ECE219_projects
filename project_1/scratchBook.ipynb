{
 "cells": [
  {
   "cell_type": "markdown",
   "metadata": {},
   "source": [
    "# Problem a)"
   ]
  },
  {
   "cell_type": "code",
   "execution_count": 2,
   "metadata": {},
   "outputs": [
    {
     "name": "stdout",
     "output_type": "stream",
     "text": [
      "[584, 591, 590, 578, 594, 598, 597, 600]\n"
     ]
    },
    {
     "data": {
      "text/plain": [
       "<Container object of 8 artists>"
      ]
     },
     "execution_count": 2,
     "metadata": {},
     "output_type": "execute_result"
    },
    {
     "data": {
      "image/png": "[encoded data removed]",
      "text/plain": [
       "<matplotlib.figure.Figure at 0x10cfea9b0>"
      ]
     },
     "metadata": {},
     "output_type": "display_data"
    }
   ],
   "source": [
    "from sklearn.datasets import fetch_20newsgroups\n",
    "import matplotlib.pyplot as plt\n",
    "import numpy as np\n",
    "\n",
    "\n",
    "categories =['comp.graphics','comp.os.ms-windows.misc','comp.sys.ibm.pc.hardware','comp.sys.mac.hardware','rec.autos','rec.motorcycles','rec.sport.baseball','rec.sport.hockey']\n",
    "dataLen = []\n",
    "train_datas =[]\n",
    "for cat in categories:\n",
    "    raw_train = fetch_20newsgroups(subset='train',categories = [cat],shuffle=True, random_state =42)\n",
    "    train_datas.append(raw_train.data)\n",
    "    dataLen.append(len(raw_train.data))\n",
    "print(dataLen)\n",
    "# the histogram of the data\n",
    "plt.barh(categories,dataLen)"
   ]
  },
  {
   "cell_type": "markdown",
   "metadata": {},
   "source": [
    "# Problem b)"
   ]
  },
  {
   "cell_type": "markdown",
   "metadata": {},
   "source": [
    "### Stopping words"
   ]
  },
  {
   "cell_type": "code",
   "execution_count": 1,
   "metadata": {},
   "outputs": [
    {
     "name": "stdout",
     "output_type": "stream",
     "text": [
      "[nltk_data] Downloading package stopwords to\n",
      "[nltk_data]     /Users/shuangyu/nltk_data...\n",
      "[nltk_data]   Package stopwords is already up-to-date!\n"
     ]
    }
   ],
   "source": [
    "# tokenize -> stem -> remove punctuation & stop words\n",
    "import numpy as np\n",
    "import nltk\n",
    "import matplotlib.pyplot as plt\n",
    "from pickle import dump\n",
    "\n",
    "from sklearn.feature_extraction import text\n",
    "stop_words_skt = text.ENGLISH_STOP_WORDS\n",
    "from nltk.corpus import stopwords\n",
    "nltk.download('stopwords' )\n",
    "stop_words_en = stopwords.words('english')\n",
    "from string import punctuation\n",
    "combined_stopwords = set.union(set(stop_words_en),set(punctuation),set(stop_words_skt))\n",
    "\n"
   ]
  },
  {
   "cell_type": "markdown",
   "metadata": {},
   "source": [
    "### lemmatizer"
   ]
  },
  {
   "cell_type": "code",
   "execution_count": 2,
   "metadata": {},
   "outputs": [
    {
     "name": "stdout",
     "output_type": "stream",
     "text": [
      "[nltk_data] Downloading package punkt to /Users/shuangyu/nltk_data...\n",
      "[nltk_data]   Package punkt is already up-to-date!\n",
      "[nltk_data] Downloading package averaged_perceptron_tagger to\n",
      "[nltk_data]     /Users/shuangyu/nltk_data...\n",
      "[nltk_data]   Package averaged_perceptron_tagger is already up-to-\n",
      "[nltk_data]       date!\n",
      "[nltk_data] Downloading package wordnet to\n",
      "[nltk_data]     /Users/shuangyu/nltk_data...\n",
      "[nltk_data]   Package wordnet is already up-to-date!\n"
     ]
    },
    {
     "data": {
      "text/plain": [
       "['h',\n",
       " 'e',\n",
       " ' ',\n",
       " 'i',\n",
       " 's',\n",
       " ' ',\n",
       " 'w',\n",
       " 'a',\n",
       " 'l',\n",
       " 'k',\n",
       " 'i',\n",
       " 'n',\n",
       " 'g',\n",
       " ' ',\n",
       " 't',\n",
       " 'o',\n",
       " ' ',\n",
       " 's',\n",
       " 'c',\n",
       " 'h',\n",
       " 'o',\n",
       " 'o',\n",
       " 'l']"
      ]
     },
     "execution_count": 2,
     "metadata": {},
     "output_type": "execute_result"
    }
   ],
   "source": [
    "import nltk\n",
    "nltk.download('punkt')\n",
    "nltk.download('averaged_perceptron_tagger')\n",
    "nltk.download('wordnet')\n",
    "from nltk import pos_tag\n",
    "#nltk.download('punkt')#, if you need \"tokenizers/punkt/english.pickle\", choose it\n",
    "# nltk.download('averaged_perceptron_tagger')\n",
    "wnl = nltk.wordnet.WordNetLemmatizer()\n",
    "\n",
    "def penn2morphy(penntag):\n",
    "    \"\"\" Converts Penn Treebank tags to WordNet. \"\"\"\n",
    "    morphy_tag = {'NN':'n', 'JJ':'a',\n",
    "                  'VB':'v', 'RB':'r'}\n",
    "    try:\n",
    "        return morphy_tag[penntag[:2]]\n",
    "    except:\n",
    "        return 'n' \n",
    "def lemmatize_sent_demo(text): \n",
    "    # Text input is string, returns array of lowercased strings(words).\n",
    "    return [wnl.lemmatize(word.lower(), pos=penn2morphy(tag)) \n",
    "            for word, tag in pos_tag(nltk.word_tokenize(text))]\n",
    "def lemmatize_sent(list_word): \n",
    "    # Text input is string, returns array of lowercased strings(words).\n",
    "    return [wnl.lemmatize(word.lower(), pos=penn2morphy(tag)) \n",
    "            for word, tag in pos_tag(list_word)]\n",
    "# lemmatize_sent('He is walking to school')"
   ]
  },
  {
   "cell_type": "code",
   "execution_count": 3,
   "metadata": {},
   "outputs": [],
   "source": [
    "# overwrite analyzer with callable function:\n",
    "from sklearn.feature_extraction.text import CountVectorizer\n",
    "analyzer = CountVectorizer().build_analyzer()\n",
    "def stemmed_words(doc):\n",
    "    return (stemmer.stem(w) for w in analyzer(doc))\n",
    "def stem_rmv_punc(doc):\n",
    "    return (word for word in lemmatize_sent(analyzer(doc)) if word not in combined_stopwords and not word.isdigit())"
   ]
  },
  {
   "cell_type": "code",
   "execution_count": 4,
   "metadata": {},
   "outputs": [],
   "source": [
    "# tokenize -> stem -> remove punctuation & stop words\n",
    "import numpy as np\n",
    "import matplotlib.pyplot as plt\n",
    "from pickle import dump\n",
    "\n",
    "from sklearn.datasets import fetch_20newsgroups\n",
    "comp_categories = [ 'comp.graphics', 'comp.os.ms-windows.misc', 'comp.sys.ibm.pc.hardware', 'comp.sys.mac.hardware']\n",
    "rec_categories = ['rec.autos', 'rec.motorcycles', 'rec.sport.baseball', 'rec.sport.hockey']\n",
    "twenty_train = fetch_20newsgroups(subset='train', categories=comp_categories+rec_categories, shuffle=True, random_state=42,)\n",
    "twenty_test = fetch_20newsgroups(subset='test', categories=comp_categories+rec_categories, shuffle=True, random_state=42,)\n",
    "counts = []"
   ]
  },
  {
   "cell_type": "markdown",
   "metadata": {},
   "source": [
    "### TFxIDF"
   ]
  },
  {
   "cell_type": "code",
   "execution_count": 28,
   "metadata": {},
   "outputs": [
    {
     "name": "stdout",
     "output_type": "stream",
     "text": [
      "(4732, 12640) (3150, 12640)\n"
     ]
    }
   ],
   "source": [
    "from sklearn.feature_extraction.text import CountVectorizer\n",
    "min_dfs = range(1,5)    \n",
    "def TF_builder(min_df,twenty_train,twenty_test):\n",
    "    count_vect = CountVectorizer(min_df=min_df,analyzer=stem_rmv_punc)\n",
    "    X_train_counts = count_vect.fit_transform(twenty_train)\n",
    "    X_test_counts = count_vect.transform(twenty_test)\n",
    "    return X_train_counts,X_test_counts\n",
    "\n",
    "for min_df in min_dfs[3:]:\n",
    "    X_train_counts,X_test_counts = TF_builder(min_df,twenty_train.data,twenty_test.data)\n",
    "    print(X_train_counts.shape, X_test_counts.shape) "
   ]
  },
  {
   "cell_type": "code",
   "execution_count": 30,
   "metadata": {},
   "outputs": [],
   "source": [
    "#TDIDF of 8 classes\n",
    "from sklearn.feature_extraction.text import TfidfTransformer\n",
    "\n",
    "def TFIDF_builder(X_train_counts1,X_test_counts1 ):\n",
    "    tfidf_transformer = TfidfTransformer()\n",
    "    train_tfidf = tfidf_transformer.fit_transform(X_train_counts1)\n",
    "    test_tfidf = tfidf_transformer.transform(X_test_counts1)\n",
    "    return train_tfidf,test_tfidf\n",
    "\n",
    "train_tfidf,test_tfidf = TFIDF_builder(X_train_counts, X_test_counts)"
   ]
  },
  {
   "cell_type": "markdown",
   "metadata": {},
   "source": [
    "# probelm c)"
   ]
  },
  {
   "cell_type": "code",
   "execution_count": 9,
   "metadata": {},
   "outputs": [],
   "source": [
    "#TFICF \n",
    "new_cats = [\"comp.sys.ibm.pc.hardware\", \"comp.sys.mac.hardware\", \"misc.forsale\", \"soc.religion.christian\"]\n",
    "new_bigstring = []\n",
    "for cat in new_cats:\n",
    "    new_train = fetch_20newsgroups(subset='train',categories = [cat], shuffle=True, random_state =42)\n",
    "    #stem\n",
    "    new_bigstring.append(\" \".join(new_train.data))\n",
    "# print(len(new_bigstring))\n",
    "count_vect_c = CountVectorizer(min_df=min_df,analyzer=stem_rmv_punc)\n",
    "new_count= count_vect_c.fit_transform(new_bigstring)"
   ]
  },
  {
   "cell_type": "code",
   "execution_count": 10,
   "metadata": {},
   "outputs": [
    {
     "name": "stdout",
     "output_type": "stream",
     "text": [
      "(4, 1759)\n"
     ]
    }
   ],
   "source": [
    "print(new_count.shape)"
   ]
  },
  {
   "cell_type": "code",
   "execution_count": 11,
   "metadata": {},
   "outputs": [
    {
     "name": "stdout",
     "output_type": "stream",
     "text": [
      "['card', 'com', 'controller', 'drive', 'edu', 'ide', 'line', 'organization', 'subject', 'use']\n",
      "['apple', 'drive', 'edu', 'line', 'mac', 'organization', 'post', 'problem', 'subject', 'use']\n",
      "['com', 'edu', 'line', 'new', 'offer', 'organization', 'post', 'sale', 'subject', 'university']\n",
      "['believe', 'edu', 'god', 'know', 'line', 'organization', 'people', 'say', 'subject', 'think']\n"
     ]
    }
   ],
   "source": [
    "# find the top 10\n",
    "new_sort = new_count.toarray()\n",
    "#print(type(new_sort))\n",
    "index=[]\n",
    "i = 0\n",
    "for termCount in new_sort:\n",
    "    termCount.sort()\n",
    "    index.append(np.argwhere(new_count.toarray()[i]>=termCount[::-1][:10][-1]))\n",
    "    i+=1\n",
    "#print not in order\n",
    "for x in range(len(index)):\n",
    "    print([count_vect_c.get_feature_names()[i[0]] for i in index[x] ])"
   ]
  },
  {
   "cell_type": "markdown",
   "metadata": {},
   "source": [
    "# Problem d)\n",
    "functions get LSI and NMF"
   ]
  },
  {
   "cell_type": "markdown",
   "metadata": {},
   "source": [
    "### LSI"
   ]
  },
  {
   "cell_type": "code",
   "execution_count": 44,
   "metadata": {},
   "outputs": [
    {
     "name": "stdout",
     "output_type": "stream",
     "text": [
      "(4732, 50)\n",
      "(3150, 50)\n"
     ]
    }
   ],
   "source": [
    "\n",
    "from sklearn.decomposition import TruncatedSVD\n",
    "def LSI_deduction(train_tfidf,test_tfidf):\n",
    "    SVD = TruncatedSVD(n_components=50)\n",
    "    train_LSI = SVD.fit_transform(train_tfidf)\n",
    "    test_LSI = SVD.transform(test_tfidf)\n",
    "    return train_LSI,test_LSI\n",
    "\n",
    "train_LSI,test_LSI = LSI_deduction(train_tfidf,test_tfidf)\n",
    "print(train_LSI.shape)\n",
    "print(test_LSI.shape)\n",
    "\n"
   ]
  },
  {
   "cell_type": "markdown",
   "metadata": {},
   "source": [
    "### NMF"
   ]
  },
  {
   "cell_type": "code",
   "execution_count": 99,
   "metadata": {},
   "outputs": [
    {
     "name": "stdout",
     "output_type": "stream",
     "text": [
      "(4732, 50)\n",
      "(3150, 50)\n"
     ]
    }
   ],
   "source": [
    "#NMF\n",
    "from sklearn.decomposition import NMF\n",
    "def NMF_deduction(train_tfidf,test_tfidf):\n",
    "    model = NMF(n_components=50, init='random', random_state=0)\n",
    "    train_NMF = model.fit_transform(train_tfidf)\n",
    "    test_NMF = model.transform(test_tfidf)\n",
    "    return train_NMF,test_NMF\n",
    "\n",
    "\n",
    "train_NMF,test_NMF = NMF_deduction(train_tfidf,test_tfidf)\n",
    "print(train_NMF.shape)\n",
    "print(test_NMF.shape)"
   ]
  },
  {
   "cell_type": "markdown",
   "metadata": {},
   "source": [
    "# Problem e) SVM"
   ]
  },
  {
   "cell_type": "markdown",
   "metadata": {},
   "source": [
    "### ROC plot function"
   ]
  },
  {
   "cell_type": "code",
   "execution_count": 74,
   "metadata": {},
   "outputs": [],
   "source": [
    "from sklearn.metrics import confusion_matrix\n",
    "from sklearn.metrics import precision_score\n",
    "from sklearn.metrics import recall_score\n",
    "from sklearn.metrics import roc_curve\n",
    "from sklearn.metrics import auc\n",
    "from sklearn.metrics import accuracy_score"
   ]
  },
  {
   "cell_type": "code",
   "execution_count": 75,
   "metadata": {},
   "outputs": [],
   "source": [
    "def plot_roc(fpr, tpr):\n",
    "    fig, ax = plt.subplots()\n",
    "\n",
    "    roc_auc = auc(fpr,tpr)\n",
    "\n",
    "    ax.plot(fpr, tpr, lw=2, label= 'area under curve = %0.4f' % roc_auc)\n",
    "\n",
    "    ax.grid(color='0.7', linestyle='--', linewidth=1)\n",
    "\n",
    "    ax.set_xlim([0, 1.1])\n",
    "    ax.set_ylim([0.0, 1.05])\n",
    "    ax.set_xlabel('False Positive Rate',fontsize=15)\n",
    "    ax.set_ylabel('True Positive Rate',fontsize=15)\n",
    "\n",
    "    ax.legend(loc=\"lower right\")\n",
    "\n",
    "    for label in ax.get_xticklabels()+ax.get_yticklabels():\n",
    "        label.set_fontsize(15)\n",
    "\n",
    "def fit_predict_and_plot_roc(pipe, train_data, train_label, test_data, test_label):\n",
    "    pipe.fit(train_data, train_label)\n",
    "    # pipeline1.predict(twenty_test.data)\n",
    "\n",
    "    prob_score = pipe.predict_proba(test_data)\n",
    "\n",
    "    fpr, tpr, _ = roc_curve(test_label, prob_score[:,1])\n",
    "\n",
    "    plot_roc(fpr, tpr)\n",
    "    return pipe\n",
    "\n",
    "def print_result(train_label, predicted_label):   \n",
    "    print(\"Confusion_matrix is \\n\", confusion_matrix(train_label,predicted_label))\n",
    "    print(\"Accuracy is \\n\",accuracy_score(train_label,predicted_label))\n",
    "    print(\"Recall score is \\n\", recall_score(train_label,predicted_label,average='macro'))\n",
    "    print(\"Precision score is \\n\", precision_score(train_label,predicted_label,average='macro'))"
   ]
  },
  {
   "cell_type": "code",
   "execution_count": 76,
   "metadata": {},
   "outputs": [],
   "source": [
    "# try plot with pipe\n",
    "\n",
    "\n",
    "# from sklearn.pipeline import Pipeline\n",
    "# pipeline_svm_hard = Pipeline([\n",
    "#     ('vect', CountVectorizer(min_df=5,analyzer=stem_rmv_punc)),\n",
    "#     ('tfidf', TfidfTransformer()),\n",
    "#     ('reduce_dim', NMF(n_components=50, init='random', random_state=0)),\n",
    "#     ('clf', svm.SVC(probability=True,C = 1000)),\n",
    "# ])\n",
    "\n",
    "# Pipe_svm_hard = fit_predict_and_plot_roc(pipeline_svm_hard, twenty_train.data, twenty_train.target>3, twenty_test.data, twenty_test.target>3)\n",
    "# # Calculate confusion matrix && accuracy && recall && precision \n",
    "# pred = Pipe_svm_hard.predict(twenty_test.data)#########\n",
    "# print_result(twenty_test.target>3,pred)\n",
    "\n"
   ]
  },
  {
   "cell_type": "markdown",
   "metadata": {},
   "source": [
    "### hard svm"
   ]
  },
  {
   "cell_type": "code",
   "execution_count": 113,
   "metadata": {},
   "outputs": [
    {
     "name": "stdout",
     "output_type": "stream",
     "text": [
      "Confusion_matrix is \n",
      " [[1498   62]\n",
      " [  44 1546]]\n",
      "Accuracy is \n",
      " 0.9663492063492064\n",
      "Recall score is \n",
      " 0.9662917271407838\n",
      "Precision score is \n",
      " 0.9664542075614146\n"
     ]
    },
    {
     "data": {
      "image/png": "[encoded data removed]",
      "text/plain": [
       "<matplotlib.figure.Figure at 0x14116f390>"
      ]
     },
     "metadata": {},
     "output_type": "display_data"
    }
   ],
   "source": [
    "clf_SVM_hard = svm.SVC(kernel='linear', probability=True,C = 1000)\n",
    "clf_SVM_hard.fit(train_LSI, twenty_train.target>3)\n",
    "pred = clf_SVM_hard.predict(test_LSI)\n",
    "prob_score = clf_SVM_hard.predict_proba(test_LSI)\n",
    "\n",
    "print_result(twenty_test.target>3,pred)\n",
    "fpr, tpr, _ = roc_curve(twenty_test.target>3, prob_score[:,1])\n",
    "plot_roc(fpr, tpr)"
   ]
  },
  {
   "cell_type": "markdown",
   "metadata": {},
   "source": [
    "### soft svm "
   ]
  },
  {
   "cell_type": "code",
   "execution_count": 114,
   "metadata": {},
   "outputs": [
    {
     "name": "stdout",
     "output_type": "stream",
     "text": [
      "Confusion_matrix is \n",
      " [[   0 1560]\n",
      " [   0 1590]]\n",
      "Accuracy is \n",
      " 0.5047619047619047\n",
      "Recall score is \n",
      " 0.5\n",
      "Precision score is \n",
      " 0.2523809523809524\n"
     ]
    },
    {
     "name": "stderr",
     "output_type": "stream",
     "text": [
      "/Users/shuangyu/ECE219_projects/project_1/.env/lib/python3.6/site-packages/sklearn/metrics/classification.py:1135: UndefinedMetricWarning: Precision is ill-defined and being set to 0.0 in labels with no predicted samples.\n",
      "  'precision', 'predicted', average, warn_for)\n"
     ]
    },
    {
     "data": {
      "image/png": "[encoded data removed]",
      "text/plain": [
       "<matplotlib.figure.Figure at 0x1419ce940>"
      ]
     },
     "metadata": {},
     "output_type": "display_data"
    }
   ],
   "source": [
    "clf_SVM_soft = svm.SVC(kernel='linear', probability=True,C = 0.001)\n",
    "clf_SVM_soft.fit(train_LSI, twenty_train.target>3)\n",
    "pred = clf_SVM_soft.predict(test_LSI)\n",
    "prob_score = clf_SVM_soft.predict_proba(test_LSI)\n",
    "\n",
    "print_result(twenty_test.target>3,pred)\n",
    "fpr, tpr, _ = roc_curve(twenty_test.target>3, prob_score[:,1])\n",
    "plot_roc(fpr, tpr)"
   ]
  },
  {
   "cell_type": "markdown",
   "metadata": {},
   "source": [
    "# Problem f) cross validation\n",
    "find the best Gammaby "
   ]
  },
  {
   "cell_type": "code",
   "execution_count": 127,
   "metadata": {},
   "outputs": [
    {
     "name": "stdout",
     "output_type": "stream",
     "text": [
      "---------- k = -3 ----------\n"
     ]
    },
    {
     "ename": "ValueError",
     "evalue": "Found input variables with inconsistent numbers of samples: [947, 3150]",
     "output_type": "error",
     "traceback": [
      "\u001b[0;31m---------------------------------------------------------------------------\u001b[0m",
      "\u001b[0;31mValueError\u001b[0m                                Traceback (most recent call last)",
      "\u001b[0;32m<ipython-input-127-727e95b29183>\u001b[0m in \u001b[0;36m<module>\u001b[0;34m()\u001b[0m\n\u001b[1;32m     24\u001b[0m         \u001b[0mprob_score\u001b[0m \u001b[0;34m=\u001b[0m \u001b[0mclf_SVM\u001b[0m\u001b[0;34m.\u001b[0m\u001b[0mpredict_proba\u001b[0m\u001b[0;34m(\u001b[0m\u001b[0mtest_NMF\u001b[0m\u001b[0;34m)\u001b[0m\u001b[0;34m\u001b[0m\u001b[0m\n\u001b[1;32m     25\u001b[0m \u001b[0;34m\u001b[0m\u001b[0m\n\u001b[0;32m---> 26\u001b[0;31m         \u001b[0mprint_result\u001b[0m\u001b[0;34m(\u001b[0m\u001b[0mtwenty_train\u001b[0m\u001b[0;34m.\u001b[0m\u001b[0mtarget\u001b[0m\u001b[0;34m[\u001b[0m\u001b[0mtest_index\u001b[0m\u001b[0;34m]\u001b[0m\u001b[0;34m>\u001b[0m\u001b[0;36m3\u001b[0m\u001b[0;34m,\u001b[0m\u001b[0mpred\u001b[0m\u001b[0;34m)\u001b[0m\u001b[0;34m\u001b[0m\u001b[0m\n\u001b[0m\u001b[1;32m     27\u001b[0m \u001b[0;34m\u001b[0m\u001b[0m\n\u001b[1;32m     28\u001b[0m \u001b[0;34m\u001b[0m\u001b[0m\n",
      "\u001b[0;32m<ipython-input-75-de215ec5bcf8>\u001b[0m in \u001b[0;36mprint_result\u001b[0;34m(train_label, predicted_label)\u001b[0m\n\u001b[1;32m     30\u001b[0m \u001b[0;34m\u001b[0m\u001b[0m\n\u001b[1;32m     31\u001b[0m \u001b[0;32mdef\u001b[0m \u001b[0mprint_result\u001b[0m\u001b[0;34m(\u001b[0m\u001b[0mtrain_label\u001b[0m\u001b[0;34m,\u001b[0m \u001b[0mpredicted_label\u001b[0m\u001b[0;34m)\u001b[0m\u001b[0;34m:\u001b[0m\u001b[0;34m\u001b[0m\u001b[0m\n\u001b[0;32m---> 32\u001b[0;31m     \u001b[0mprint\u001b[0m\u001b[0;34m(\u001b[0m\u001b[0;34m\"Confusion_matrix is \\n\"\u001b[0m\u001b[0;34m,\u001b[0m \u001b[0mconfusion_matrix\u001b[0m\u001b[0;34m(\u001b[0m\u001b[0mtrain_label\u001b[0m\u001b[0;34m,\u001b[0m\u001b[0mpredicted_label\u001b[0m\u001b[0;34m)\u001b[0m\u001b[0;34m)\u001b[0m\u001b[0;34m\u001b[0m\u001b[0m\n\u001b[0m\u001b[1;32m     33\u001b[0m     \u001b[0mprint\u001b[0m\u001b[0;34m(\u001b[0m\u001b[0;34m\"Accuracy is \\n\"\u001b[0m\u001b[0;34m,\u001b[0m\u001b[0maccuracy_score\u001b[0m\u001b[0;34m(\u001b[0m\u001b[0mtrain_label\u001b[0m\u001b[0;34m,\u001b[0m\u001b[0mpredicted_label\u001b[0m\u001b[0;34m)\u001b[0m\u001b[0;34m)\u001b[0m\u001b[0;34m\u001b[0m\u001b[0m\n\u001b[1;32m     34\u001b[0m     \u001b[0mprint\u001b[0m\u001b[0;34m(\u001b[0m\u001b[0;34m\"Recall score is \\n\"\u001b[0m\u001b[0;34m,\u001b[0m \u001b[0mrecall_score\u001b[0m\u001b[0;34m(\u001b[0m\u001b[0mtrain_label\u001b[0m\u001b[0;34m,\u001b[0m\u001b[0mpredicted_label\u001b[0m\u001b[0;34m,\u001b[0m\u001b[0maverage\u001b[0m\u001b[0;34m=\u001b[0m\u001b[0;34m'macro'\u001b[0m\u001b[0;34m)\u001b[0m\u001b[0;34m)\u001b[0m\u001b[0;34m\u001b[0m\u001b[0m\n",
      "\u001b[0;32m~/ECE219_projects/project_1/.env/lib/python3.6/site-packages/sklearn/metrics/classification.py\u001b[0m in \u001b[0;36mconfusion_matrix\u001b[0;34m(y_true, y_pred, labels, sample_weight)\u001b[0m\n\u001b[1;32m    248\u001b[0m \u001b[0;34m\u001b[0m\u001b[0m\n\u001b[1;32m    249\u001b[0m     \"\"\"\n\u001b[0;32m--> 250\u001b[0;31m     \u001b[0my_type\u001b[0m\u001b[0;34m,\u001b[0m \u001b[0my_true\u001b[0m\u001b[0;34m,\u001b[0m \u001b[0my_pred\u001b[0m \u001b[0;34m=\u001b[0m \u001b[0m_check_targets\u001b[0m\u001b[0;34m(\u001b[0m\u001b[0my_true\u001b[0m\u001b[0;34m,\u001b[0m \u001b[0my_pred\u001b[0m\u001b[0;34m)\u001b[0m\u001b[0;34m\u001b[0m\u001b[0m\n\u001b[0m\u001b[1;32m    251\u001b[0m     \u001b[0;32mif\u001b[0m \u001b[0my_type\u001b[0m \u001b[0;32mnot\u001b[0m \u001b[0;32min\u001b[0m \u001b[0;34m(\u001b[0m\u001b[0;34m\"binary\"\u001b[0m\u001b[0;34m,\u001b[0m \u001b[0;34m\"multiclass\"\u001b[0m\u001b[0;34m)\u001b[0m\u001b[0;34m:\u001b[0m\u001b[0;34m\u001b[0m\u001b[0m\n\u001b[1;32m    252\u001b[0m         \u001b[0;32mraise\u001b[0m \u001b[0mValueError\u001b[0m\u001b[0;34m(\u001b[0m\u001b[0;34m\"%s is not supported\"\u001b[0m \u001b[0;34m%\u001b[0m \u001b[0my_type\u001b[0m\u001b[0;34m)\u001b[0m\u001b[0;34m\u001b[0m\u001b[0m\n",
      "\u001b[0;32m~/ECE219_projects/project_1/.env/lib/python3.6/site-packages/sklearn/metrics/classification.py\u001b[0m in \u001b[0;36m_check_targets\u001b[0;34m(y_true, y_pred)\u001b[0m\n\u001b[1;32m     69\u001b[0m     \u001b[0my_pred\u001b[0m \u001b[0;34m:\u001b[0m \u001b[0marray\u001b[0m \u001b[0;32mor\u001b[0m \u001b[0mindicator\u001b[0m \u001b[0mmatrix\u001b[0m\u001b[0;34m\u001b[0m\u001b[0m\n\u001b[1;32m     70\u001b[0m     \"\"\"\n\u001b[0;32m---> 71\u001b[0;31m     \u001b[0mcheck_consistent_length\u001b[0m\u001b[0;34m(\u001b[0m\u001b[0my_true\u001b[0m\u001b[0;34m,\u001b[0m \u001b[0my_pred\u001b[0m\u001b[0;34m)\u001b[0m\u001b[0;34m\u001b[0m\u001b[0m\n\u001b[0m\u001b[1;32m     72\u001b[0m     \u001b[0mtype_true\u001b[0m \u001b[0;34m=\u001b[0m \u001b[0mtype_of_target\u001b[0m\u001b[0;34m(\u001b[0m\u001b[0my_true\u001b[0m\u001b[0;34m)\u001b[0m\u001b[0;34m\u001b[0m\u001b[0m\n\u001b[1;32m     73\u001b[0m     \u001b[0mtype_pred\u001b[0m \u001b[0;34m=\u001b[0m \u001b[0mtype_of_target\u001b[0m\u001b[0;34m(\u001b[0m\u001b[0my_pred\u001b[0m\u001b[0;34m)\u001b[0m\u001b[0;34m\u001b[0m\u001b[0m\n",
      "\u001b[0;32m~/ECE219_projects/project_1/.env/lib/python3.6/site-packages/sklearn/utils/validation.py\u001b[0m in \u001b[0;36mcheck_consistent_length\u001b[0;34m(*arrays)\u001b[0m\n\u001b[1;32m    202\u001b[0m     \u001b[0;32mif\u001b[0m \u001b[0mlen\u001b[0m\u001b[0;34m(\u001b[0m\u001b[0muniques\u001b[0m\u001b[0;34m)\u001b[0m \u001b[0;34m>\u001b[0m \u001b[0;36m1\u001b[0m\u001b[0;34m:\u001b[0m\u001b[0;34m\u001b[0m\u001b[0m\n\u001b[1;32m    203\u001b[0m         raise ValueError(\"Found input variables with inconsistent numbers of\"\n\u001b[0;32m--> 204\u001b[0;31m                          \" samples: %r\" % [int(l) for l in lengths])\n\u001b[0m\u001b[1;32m    205\u001b[0m \u001b[0;34m\u001b[0m\u001b[0m\n\u001b[1;32m    206\u001b[0m \u001b[0;34m\u001b[0m\u001b[0m\n",
      "\u001b[0;31mValueError\u001b[0m: Found input variables with inconsistent numbers of samples: [947, 3150]"
     ]
    }
   ],
   "source": [
    "from sklearn.model_selection import KFold\n",
    "ks = list(range(-3,4))\n",
    "#Kfold\n",
    "kf = KFold(n_splits=5)\n",
    "\n",
    "for train_index, test_index in kf.split(twenty_train.data):\n",
    "\n",
    "    data_train = np.array(twenty_train.data)[train_index]\n",
    "    data_test = np.array(twenty_train.data)[test_index]\n",
    "\n",
    "    target_train = np.array(twenty_train.target)[train_index]\n",
    "    target_test = np.array(twenty_train.target)[test_index]\n",
    "\n",
    "    data_train_counts,data_test_counts = TF_builder(5, data_train,data_test)\n",
    "    data_train_tfidf,data_test_tfidf = TFIDF_builder(data_train_counts,data_test_counts)\n",
    "    \n",
    "    data_train_NMF,data_test_NMF = NMF_deduction(data_train_tfidf,data_test_tfidf)\n",
    "    \n",
    "    for k in ks:\n",
    "        print(\"-\"*10,\"k =\",k,\"-\"*10)\n",
    "        clf_SVM = svm.SVC(kernel='linear', probability=True,C = 10**k)\n",
    "        clf_SVM.fit(train_LSI, twenty_train.target>3)\n",
    "        pred = clf_SVM.predict(test_NMF)\n",
    "        prob_score = clf_SVM.predict_proba(test_NMF)\n",
    "        \n",
    "        print_result(twenty_train.target[test_index]>3,pred)\n",
    "        \n",
    "        \n",
    "    "
   ]
  },
  {
   "cell_type": "markdown",
   "metadata": {},
   "source": [
    "# Problem g) Naive Bayes"
   ]
  },
  {
   "cell_type": "code",
   "execution_count": 103,
   "metadata": {},
   "outputs": [
    {
     "name": "stdout",
     "output_type": "stream",
     "text": [
      "Confusion_matrix is \n",
      " [[1400  160]\n",
      " [  32 1558]]\n",
      "Accuracy is \n",
      " 0.939047619047619\n",
      "Recall score is \n",
      " 0.9386550556361877\n",
      "Precision score is \n",
      " 0.9422610414864627\n"
     ]
    },
    {
     "data": {
      "image/png": "[encoded data removed]",
      "text/plain": [
       "<matplotlib.figure.Figure at 0x141226550>"
      ]
     },
     "metadata": {},
     "output_type": "display_data"
    }
   ],
   "source": [
    "#naive Bayes\n",
    "from sklearn.naive_bayes import MultinomialNB\n",
    "\n",
    "# X_train_counts,X_test_counts = TF_builder(min_df,twenty_train.data,twenty_test.data)\n",
    "# train_tfidf,test_tfidf = TFIDF_builder(X_train_counts, X_test_counts)\n",
    "# train_NMF,test_NMF = NMF_deduction(train_tfidf,test_tfidf)\n",
    "\n",
    "clf_NB = MultinomialNB().fit(train_NMF, twenty_train.target>3)\n",
    "pred = clf_NB.predict(test_NMF)\n",
    "prob_score = clf_NB.predict_proba(test_NMF)\n",
    "\n",
    "print_result(twenty_test.target>3,pred)\n",
    "fpr, tpr, _ = roc_curve(twenty_test.target>3, prob_score[:,1])\n",
    "plot_roc(fpr, tpr)\n",
    "\n"
   ]
  },
  {
   "cell_type": "markdown",
   "metadata": {},
   "source": [
    "# Problem h) Logistic Regression"
   ]
  },
  {
   "cell_type": "markdown",
   "metadata": {},
   "source": [
    "### L2 Norm"
   ]
  },
  {
   "cell_type": "code",
   "execution_count": 104,
   "metadata": {},
   "outputs": [
    {
     "name": "stdout",
     "output_type": "stream",
     "text": [
      "Confusion_matrix is \n",
      " [[1389  171]\n",
      " [  42 1548]]\n",
      "Accuracy is \n",
      " 0.9323809523809524\n",
      "Recall score is \n",
      " 0.9319847605224963\n",
      "Precision score is \n",
      " 0.9355867276938106\n"
     ]
    },
    {
     "data": {
      "image/png": "[encoded data removed]",
      "text/plain": [
       "<matplotlib.figure.Figure at 0x141200e10>"
      ]
     },
     "metadata": {},
     "output_type": "display_data"
    }
   ],
   "source": [
    "from sklearn.linear_model import LogisticRegression\n",
    "\n",
    "\n",
    "clf_LR = LogisticRegression().fit(train_NMF, twenty_train.target>3)\n",
    "pred = clf_LR.predict(test_NMF)\n",
    "prob_score = clf_LR.predict_proba(test_NMF)\n",
    "\n",
    "print_result(twenty_test.target>3,pred)\n",
    "fpr, tpr, _ = roc_curve(twenty_test.target>3, prob_score[:,1])\n",
    "plot_roc(fpr, tpr)"
   ]
  },
  {
   "cell_type": "markdown",
   "metadata": {},
   "source": [
    "# Problem I) Logistic Regression with regularization "
   ]
  },
  {
   "cell_type": "markdown",
   "metadata": {},
   "source": [
    "### L1 Norm with regulization "
   ]
  },
  {
   "cell_type": "code",
   "execution_count": 109,
   "metadata": {},
   "outputs": [
    {
     "name": "stdout",
     "output_type": "stream",
     "text": [
      "-------- C= -3 --------\n",
      "Confusion_matrix is \n",
      " [[1560    0]\n",
      " [1590    0]]\n",
      "Accuracy is \n",
      " 0.49523809523809526\n",
      "Recall score is \n",
      " 0.5\n",
      "Precision score is \n",
      " 0.24761904761904763\n",
      "-------- C= -2 --------\n",
      "Confusion_matrix is \n",
      " [[1560    0]\n",
      " [1590    0]]\n",
      "Accuracy is \n",
      " 0.49523809523809526\n",
      "Recall score is \n",
      " 0.5\n",
      "Precision score is \n",
      " 0.24761904761904763\n",
      "-------- C= -1 --------\n",
      "Confusion_matrix is \n",
      " [[ 921  639]\n",
      " [  70 1520]]\n",
      "Accuracy is \n",
      " 0.7749206349206349\n",
      "Recall score is \n",
      " 0.7731797290759554\n",
      "Precision score is \n",
      " 0.8166969609299817\n",
      "-------- C= 0 --------\n",
      "Confusion_matrix is \n",
      " [[1478   82]\n",
      " [  39 1551]]\n",
      "Accuracy is \n",
      " 0.9615873015873015\n",
      "Recall score is \n",
      " 0.9614537977745525\n",
      "Precision score is \n",
      " 0.962038517540138\n",
      "-------- C= 1 --------\n",
      "Confusion_matrix is \n",
      " [[1487   73]\n",
      " [  50 1540]]\n",
      "Accuracy is \n",
      " 0.960952380952381\n",
      "Recall score is \n",
      " 0.9608792936623125\n",
      "Precision score is \n",
      " 0.9611059055389664\n",
      "-------- C= 2 --------\n",
      "Confusion_matrix is \n",
      " [[1488   72]\n",
      " [  56 1534]]\n",
      "Accuracy is \n",
      " 0.9593650793650793\n",
      "Recall score is \n",
      " 0.9593130140299952\n",
      "Precision score is \n",
      " 0.9594493447499339\n",
      "-------- C= 3 --------\n",
      "Confusion_matrix is \n",
      " [[1488   72]\n",
      " [  54 1536]]\n",
      "Accuracy is \n",
      " 0.96\n",
      "Recall score is \n",
      " 0.9599419448476052\n",
      "Precision score is \n",
      " 0.9601022126720483\n"
     ]
    },
    {
     "name": "stderr",
     "output_type": "stream",
     "text": [
      "/Users/shuangyu/ECE219_projects/project_1/.env/lib/python3.6/site-packages/sklearn/metrics/classification.py:1135: UndefinedMetricWarning: Precision is ill-defined and being set to 0.0 in labels with no predicted samples.\n",
      "  'precision', 'predicted', average, warn_for)\n"
     ]
    }
   ],
   "source": [
    "Cs = list(range(-3,4))\n",
    "for C in Cs:\n",
    "    print('-'*8,\"C=\",C,\"-\"*8)\n",
    "    clf_LR = LogisticRegression(penalty='l1', C = 10**C).fit(train_NMF, twenty_train.target>3)\n",
    "    pred = clf_LR.predict(test_NMF)\n",
    "    prob_score = clf_LR.predict_proba(test_NMF)\n",
    "    \n",
    "    print_result(twenty_test.target>3,pred)\n",
    "#     fpr, tpr, _ = roc_curve(twenty_test.target>3, prob_score[:,1])\n",
    "#     plot_roc(fpr, tpr)\n",
    "    \n",
    "    "
   ]
  },
  {
   "cell_type": "markdown",
   "metadata": {},
   "source": [
    "### Norm l2 with regulization"
   ]
  },
  {
   "cell_type": "code",
   "execution_count": 110,
   "metadata": {},
   "outputs": [
    {
     "name": "stdout",
     "output_type": "stream",
     "text": [
      "-------- C= -3 --------\n",
      "Confusion_matrix is \n",
      " [[   0 1560]\n",
      " [   0 1590]]\n",
      "Accuracy is \n",
      " 0.5047619047619047\n",
      "Recall score is \n",
      " 0.5\n",
      "Precision score is \n",
      " 0.2523809523809524\n",
      "-------- C= -2 --------\n",
      "Confusion_matrix is \n",
      " [[ 229 1331]\n",
      " [   0 1590]]\n",
      "Accuracy is \n",
      " 0.5774603174603175\n",
      "Recall score is \n",
      " 0.5733974358974359\n",
      "Precision score is \n",
      " 0.7721670660732626\n",
      "-------- C= -1 --------\n",
      "Confusion_matrix is \n",
      " [[1215  345]\n",
      " [  22 1568]]\n",
      "Accuracy is \n",
      " 0.8834920634920634\n",
      "Recall score is \n",
      " 0.8825048379293663\n",
      "Precision score is \n",
      " 0.9009350142686237\n",
      "-------- C= 0 --------\n",
      "Confusion_matrix is \n",
      " [[1389  171]\n",
      " [  42 1548]]\n",
      "Accuracy is \n",
      " 0.9323809523809524\n",
      "Recall score is \n",
      " 0.9319847605224963\n",
      "Precision score is \n",
      " 0.9355867276938106\n",
      "-------- C= 1 --------\n",
      "Confusion_matrix is \n",
      " [[1456  104]\n",
      " [  48 1542]]\n",
      "Accuracy is \n",
      " 0.9517460317460318\n",
      "Recall score is \n",
      " 0.9515723270440252\n",
      "Precision score is \n",
      " 0.9524508156459244\n",
      "-------- C= 2 --------\n",
      "Confusion_matrix is \n",
      " [[1474   86]\n",
      " [  56 1534]]\n",
      "Accuracy is \n",
      " 0.954920634920635\n",
      "Recall score is \n",
      " 0.9548258345428157\n",
      "Precision score is \n",
      " 0.9551561365286856\n",
      "-------- C= 3 --------\n",
      "Confusion_matrix is \n",
      " [[1488   72]\n",
      " [  57 1533]]\n",
      "Accuracy is \n",
      " 0.959047619047619\n",
      "Recall score is \n",
      " 0.9589985486211902\n",
      "Precision score is \n",
      " 0.9591234915161964\n"
     ]
    },
    {
     "name": "stderr",
     "output_type": "stream",
     "text": [
      "/Users/shuangyu/ECE219_projects/project_1/.env/lib/python3.6/site-packages/sklearn/metrics/classification.py:1135: UndefinedMetricWarning: Precision is ill-defined and being set to 0.0 in labels with no predicted samples.\n",
      "  'precision', 'predicted', average, warn_for)\n"
     ]
    }
   ],
   "source": [
    "Cs = list(range(-3,4))\n",
    "for C in Cs:\n",
    "    print('-'*8,\"C=\",C,\"-\"*8)\n",
    "    clf_LR = LogisticRegression(penalty='l2', C = 10**C).fit(train_NMF, twenty_train.target>3)\n",
    "    pred = clf_LR.predict(test_NMF)\n",
    "    prob_score = clf_LR.predict_proba(test_NMF)\n",
    "    \n",
    "    print_result(twenty_test.target>3,pred)"
   ]
  },
  {
   "cell_type": "code",
   "execution_count": null,
   "metadata": {},
   "outputs": [],
   "source": []
  }
 ],
 "metadata": {
  "kernelspec": {
   "display_name": "Python 3",
   "language": "python",
   "name": "python3"
  },
  "language_info": {
   "codemirror_mode": {
    "name": "ipython",
    "version": 3
   },
   "file_extension": ".py",
   "mimetype": "text/x-python",
   "name": "python",
   "nbconvert_exporter": "python",
   "pygments_lexer": "ipython3",
   "version": "3.6.4"
  }
 },
 "nbformat": 4,
 "nbformat_minor": 2
}
