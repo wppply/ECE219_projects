{
 "cells": [
  {
   "cell_type": "markdown",
   "metadata": {},
   "source": [
    "# Problem a)"
   ]
  },
  {
   "cell_type": "code",
   "execution_count": 2,
   "metadata": {},
   "outputs": [
    {
     "name": "stdout",
     "output_type": "stream",
     "text": [
      "[584, 591, 590, 578, 594, 598, 597, 600]\n"
     ]
    },
    {
     "data": {
      "text/plain": [
       "<Container object of 8 artists>"
      ]
     },
     "execution_count": 2,
     "metadata": {},
     "output_type": "execute_result"
    },
    {
     "data": {
      "image/png": "[encoded data removed]",
      "text/plain": [
       "<matplotlib.figure.Figure at 0x10fd32b00>"
      ]
     },
     "metadata": {},
     "output_type": "display_data"
    }
   ],
   "source": [
    "from sklearn.datasets import fetch_20newsgroups\n",
    "import matplotlib.pyplot as plt\n",
    "import numpy as np\n",
    "\n",
    "\n",
    "categories =['comp.graphics','comp.os.ms-windows.misc','comp.sys.ibm.pc.hardware','comp.sys.mac.hardware','rec.autos','rec.motorcycles','rec.sport.baseball','rec.sport.hockey']\n",
    "dataLen = []\n",
    "train_datas =[]\n",
    "for cat in categories:\n",
    "    raw_train = fetch_20newsgroups(subset='train',categories = [cat],shuffle=True, random_state =42)\n",
    "    train_datas.append(raw_train.data)\n",
    "    dataLen.append(len(raw_train.data))\n",
    "print(dataLen)\n",
    "# the histogram of the data\n",
    "plt.barh(categories,dataLen)"
   ]
  },
  {
   "cell_type": "markdown",
   "metadata": {},
   "source": [
    "# Problem b)"
   ]
  },
  {
   "cell_type": "markdown",
   "metadata": {},
   "source": [
    "### Stopping words"
   ]
  },
  {
   "cell_type": "code",
   "execution_count": 1,
   "metadata": {},
   "outputs": [
    {
     "name": "stdout",
     "output_type": "stream",
     "text": [
      "[nltk_data] Downloading package stopwords to\n",
      "[nltk_data]     /Users/shuangyu/nltk_data...\n",
      "[nltk_data]   Package stopwords is already up-to-date!\n"
     ]
    }
   ],
   "source": [
    "# tokenize -> stem -> remove punctuation & stop words\n",
    "import numpy as np\n",
    "import nltk\n",
    "import matplotlib.pyplot as plt\n",
    "from pickle import dump\n",
    "\n",
    "from sklearn.feature_extraction import text\n",
    "stop_words_skt = text.ENGLISH_STOP_WORDS\n",
    "from nltk.corpus import stopwords\n",
    "nltk.download('stopwords' )\n",
    "stop_words_en = stopwords.words('english')\n",
    "from string import punctuation\n",
    "combined_stopwords = set.union(set(stop_words_en),set(punctuation),set(stop_words_skt))\n",
    "\n"
   ]
  },
  {
   "cell_type": "markdown",
   "metadata": {},
   "source": [
    "### lemmatizer"
   ]
  },
  {
   "cell_type": "code",
   "execution_count": 2,
   "metadata": {},
   "outputs": [
    {
     "name": "stdout",
     "output_type": "stream",
     "text": [
      "[nltk_data] Downloading package punkt to /Users/shuangyu/nltk_data...\n",
      "[nltk_data]   Package punkt is already up-to-date!\n",
      "[nltk_data] Downloading package averaged_perceptron_tagger to\n",
      "[nltk_data]     /Users/shuangyu/nltk_data...\n",
      "[nltk_data]   Package averaged_perceptron_tagger is already up-to-\n",
      "[nltk_data]       date!\n",
      "[nltk_data] Downloading package wordnet to\n",
      "[nltk_data]     /Users/shuangyu/nltk_data...\n",
      "[nltk_data]   Package wordnet is already up-to-date!\n"
     ]
    }
   ],
   "source": [
    "import nltk\n",
    "nltk.download('punkt')\n",
    "nltk.download('averaged_perceptron_tagger')\n",
    "nltk.download('wordnet')\n",
    "from nltk import pos_tag\n",
    "#nltk.download('punkt')#, if you need \"tokenizers/punkt/english.pickle\", choose it\n",
    "# nltk.download('averaged_perceptron_tagger')\n",
    "wnl = nltk.wordnet.WordNetLemmatizer()\n",
    "\n",
    "def penn2morphy(penntag):\n",
    "    \"\"\" Converts Penn Treebank tags to WordNet. \"\"\"\n",
    "    morphy_tag = {'NN':'n', 'JJ':'a',\n",
    "                  'VB':'v', 'RB':'r'}\n",
    "    try:\n",
    "        return morphy_tag[penntag[:2]]\n",
    "    except:\n",
    "        return 'n' \n",
    "def lemmatize_sent_demo(text): \n",
    "    # Text input is string, returns array of lowercased strings(words).\n",
    "    return [wnl.lemmatize(word.lower(), pos=penn2morphy(tag)) \n",
    "            for word, tag in pos_tag(nltk.word_tokenize(text))]\n",
    "def lemmatize_sent(list_word): \n",
    "    # Text input is string, returns array of lowercased strings(words).\n",
    "    return [wnl.lemmatize(word.lower(), pos=penn2morphy(tag)) \n",
    "            for word, tag in pos_tag(list_word)]\n",
    "# lemmatize_sent('He is walking to school')"
   ]
  },
  {
   "cell_type": "code",
   "execution_count": 3,
   "metadata": {},
   "outputs": [],
   "source": [
    "# overwrite analyzer with callable function:\n",
    "from sklearn.feature_extraction.text import CountVectorizer\n",
    "analyzer = CountVectorizer().build_analyzer()\n",
    "def stemmed_words(doc):\n",
    "    return (stemmer.stem(w) for w in analyzer(doc))\n",
    "def stem_rmv_punc(doc):\n",
    "    return (word for word in lemmatize_sent(analyzer(doc)) if word not in combined_stopwords and not word.isdigit())"
   ]
  },
  {
   "cell_type": "code",
   "execution_count": 4,
   "metadata": {},
   "outputs": [],
   "source": [
    "# tokenize -> stem -> remove punctuation & stop words\n",
    "import numpy as np\n",
    "import matplotlib.pyplot as plt\n",
    "from pickle import dump\n",
    "\n",
    "from sklearn.datasets import fetch_20newsgroups\n",
    "comp_categories = [ 'comp.graphics', 'comp.os.ms-windows.misc', 'comp.sys.ibm.pc.hardware', 'comp.sys.mac.hardware']\n",
    "rec_categories = ['rec.autos', 'rec.motorcycles', 'rec.sport.baseball', 'rec.sport.hockey']\n",
    "twenty_train = fetch_20newsgroups(subset='train', categories=comp_categories+rec_categories, shuffle=True, random_state=42,)\n",
    "twenty_test = fetch_20newsgroups(subset='test', categories=comp_categories+rec_categories, shuffle=True, random_state=42,)\n",
    "counts = []"
   ]
  },
  {
   "cell_type": "markdown",
   "metadata": {},
   "source": [
    "### TFxIDF"
   ]
  },
  {
   "cell_type": "code",
   "execution_count": 17,
   "metadata": {},
   "outputs": [],
   "source": [
    "from sklearn.feature_extraction.text import CountVectorizer\n",
    "min_dfs = [2,5] \n",
    "min_df = 2\n",
    "def TF_builder(min_df,twenty_train,twenty_test):\n",
    "    count_vect = CountVectorizer(min_df=min_df,analyzer=stem_rmv_punc)#####\n",
    "    X_train_counts = count_vect.fit_transform(twenty_train)\n",
    "    X_test_counts = count_vect.transform(twenty_test)\n",
    "    return X_train_counts,X_test_counts\n",
    "\n"
   ]
  },
  {
   "cell_type": "code",
   "execution_count": 19,
   "metadata": {},
   "outputs": [
    {
     "name": "stdout",
     "output_type": "stream",
     "text": [
      "(4732, 10396) (3150, 10396)\n"
     ]
    }
   ],
   "source": [
    "X_train_counts,X_test_counts = TF_builder(min_df,twenty_train.data,twenty_test.data)\n",
    "print(X_train_counts.shape, X_test_counts.shape) "
   ]
  },
  {
   "cell_type": "code",
   "execution_count": 7,
   "metadata": {},
   "outputs": [],
   "source": [
    "#TDIDF of 8 classes\n",
    "from sklearn.feature_extraction.text import TfidfTransformer\n",
    "\n",
    "def TFIDF_builder(X_train_counts1,X_test_counts1 ):\n",
    "    tfidf_transformer = TfidfTransformer()\n",
    "    train_tfidf = tfidf_transformer.fit_transform(X_train_counts1)\n",
    "    test_tfidf = tfidf_transformer.transform(X_test_counts1)\n",
    "    return train_tfidf,test_tfidf\n",
    "\n",
    "train_tfidf,test_tfidf = TFIDF_builder(X_train_counts, X_test_counts)"
   ]
  },
  {
   "cell_type": "markdown",
   "metadata": {},
   "source": [
    "# probelm c)"
   ]
  },
  {
   "cell_type": "code",
   "execution_count": 9,
   "metadata": {},
   "outputs": [
    {
     "name": "stdout",
     "output_type": "stream",
     "text": [
      "(20, 10225)\n"
     ]
    }
   ],
   "source": [
    "#TFICF \n",
    "all_category = ['comp.sys.ibm.pc.hardware','comp.sys.mac.hardware','misc.forsale','soc.religion.christian','alt.atheism','comp.graphics','comp.os.ms-windows.misc','comp.windows.x','rec.autos','rec.motorcycles','rec.sport.baseball','rec.sport.hockey','sci.crypt','sci.electronics','sci.med','sci.space','talk.politics.guns','talk.politics.mideast','talk.politics.misc','talk.religion.misc']\n",
    "new_bigstring_class = []\n",
    "for cat in all_category:\n",
    "    new_train = fetch_20newsgroups(subset='train',categories = [cat], shuffle=True, random_state =42)\n",
    "    #stem\n",
    "    new_bigstring_class.append(\" \".join(new_train.data))\n",
    "# print(len(new_bigstring_class))\n",
    "count_vect_class = CountVectorizer(min_df=min_dfs[1],analyzer=stem_rmv_punc)\n",
    "new_tf_class= count_vect_class.fit_transform(new_bigstring_class)\n",
    "print(new_tf_class.shape)\n",
    "tficf_transformer = TfidfTransformer()\n",
    "train_tficf = tficf_transformer.fit_transform(new_tf_class)"
   ]
  },
  {
   "cell_type": "code",
   "execution_count": 10,
   "metadata": {},
   "outputs": [
    {
     "name": "stdout",
     "output_type": "stream",
     "text": [
      "['com', 'controller', 'drive', 'edu', 'ide', 'line', 'organization', 'scsi', 'subject', 'use']\n",
      "['apple', 'edu', 'line', 'mac', 'organization', 'post', 'problem', 'scsi', 'subject', 'use']\n",
      "['com', 'edu', 'line', 'new', 'offer', 'organization', 'post', 'sale', 'subject', 'university']\n",
      "['christian', 'church', 'edu', 'god', 'jesus', 'know', 'line', 'people', 'say', 'subject']\n"
     ]
    }
   ],
   "source": [
    "# find the top 10\n",
    "new_sort = train_tficf.toarray()\n",
    "#print(type(new_sort))\n",
    "index=[]\n",
    "i = 0\n",
    "for termCount in new_sort:\n",
    "    termCount.sort()\n",
    "    index.append(np.argwhere(train_tficf.toarray()[i]>=termCount[::-1][:10][-1]))\n",
    "    i+=1\n",
    "#print not in order\n",
    "for x in range(4):\n",
    "    print([count_vect_class.get_feature_names()[i[0]] for i in index[x] ])"
   ]
  },
  {
   "cell_type": "markdown",
   "metadata": {},
   "source": [
    "# Problem d)\n",
    "functions get LSI and NMF"
   ]
  },
  {
   "cell_type": "markdown",
   "metadata": {},
   "source": [
    "### Reimport the data and calculate TFxIDF"
   ]
  },
  {
   "cell_type": "code",
   "execution_count": 24,
   "metadata": {},
   "outputs": [
    {
     "name": "stdout",
     "output_type": "stream",
     "text": [
      "(4732, 24849) (3150, 24849)\n"
     ]
    }
   ],
   "source": [
    "from sklearn.datasets import fetch_20newsgroups\n",
    "comp_categories = [ 'comp.graphics', 'comp.os.ms-windows.misc', 'comp.sys.ibm.pc.hardware', 'comp.sys.mac.hardware']\n",
    "rec_categories = ['rec.autos', 'rec.motorcycles', 'rec.sport.baseball', 'rec.sport.hockey']\n",
    "twenty_train = fetch_20newsgroups(subset='train', categories=comp_categories+rec_categories, shuffle=True, random_state=42,)\n",
    "twenty_test = fetch_20newsgroups(subset='test', categories=comp_categories+rec_categories, shuffle=True, random_state=42,)\n",
    "##change parameters here\n",
    "X_train_counts,X_test_counts = TF_builder(2,twenty_train.data,twenty_test.data)\n",
    "train_tfidf,test_tfidf = TFIDF_builder(X_train_counts, X_test_counts)\n",
    "print(X_train_counts.shape, X_test_counts.shape) "
   ]
  },
  {
   "cell_type": "markdown",
   "metadata": {},
   "source": [
    "### LSI"
   ]
  },
  {
   "cell_type": "code",
   "execution_count": 25,
   "metadata": {},
   "outputs": [
    {
     "name": "stdout",
     "output_type": "stream",
     "text": [
      "(4732, 50)\n",
      "(3150, 50)\n"
     ]
    }
   ],
   "source": [
    "\n",
    "from sklearn.decomposition import TruncatedSVD\n",
    "def LSI_deduction(train_tfidf,test_tfidf):\n",
    "    SVD = TruncatedSVD(n_components=50)\n",
    "    train_LSI = SVD.fit_transform(train_tfidf)\n",
    "    test_LSI = SVD.transform(test_tfidf)\n",
    "    return train_LSI,test_LSI\n",
    "\n",
    "train_LSI,test_LSI = LSI_deduction(train_tfidf,test_tfidf)\n",
    "print(train_LSI.shape)\n",
    "print(test_LSI.shape)\n"
   ]
  },
  {
   "cell_type": "markdown",
   "metadata": {},
   "source": [
    "### NMF"
   ]
  },
  {
   "cell_type": "code",
   "execution_count": 26,
   "metadata": {},
   "outputs": [
    {
     "name": "stdout",
     "output_type": "stream",
     "text": [
      "(4732, 50)\n",
      "(3150, 50)\n"
     ]
    }
   ],
   "source": [
    "#NMF\n",
    "from sklearn.decomposition import NMF\n",
    "def NMF_deduction(train_tfidf,test_tfidf):\n",
    "    model = NMF(n_components=50, init='random', random_state=0)\n",
    "    train_NMF = model.fit_transform(train_tfidf)\n",
    "    test_NMF = model.transform(test_tfidf)\n",
    "    return train_NMF,test_NMF\n",
    "\n",
    "train_NMF,test_NMF = NMF_deduction(train_tfidf,test_tfidf)\n",
    "print(train_NMF.shape)\n",
    "print(test_NMF.shape)"
   ]
  },
  {
   "cell_type": "markdown",
   "metadata": {},
   "source": [
    "# Problem e) SVM"
   ]
  },
  {
   "cell_type": "markdown",
   "metadata": {},
   "source": [
    "### ROC plot function"
   ]
  },
  {
   "cell_type": "code",
   "execution_count": 12,
   "metadata": {},
   "outputs": [],
   "source": [
    "from sklearn.metrics import confusion_matrix\n",
    "from sklearn.metrics import precision_score\n",
    "from sklearn.metrics import recall_score\n",
    "from sklearn.metrics import roc_curve\n",
    "from sklearn.metrics import auc\n",
    "from sklearn.metrics import accuracy_score"
   ]
  },
  {
   "cell_type": "code",
   "execution_count": 13,
   "metadata": {},
   "outputs": [],
   "source": [
    "def plot_roc(fpr, tpr):\n",
    "    fig, ax = plt.subplots()\n",
    "\n",
    "    roc_auc = auc(fpr,tpr)\n",
    "\n",
    "    ax.plot(fpr, tpr, lw=2, label= 'area under curve = %0.4f' % roc_auc)\n",
    "\n",
    "    ax.grid(color='0.7', linestyle='--', linewidth=1)\n",
    "\n",
    "    ax.set_xlim([0, 1.1])\n",
    "    ax.set_ylim([0.0, 1.05])\n",
    "    ax.set_xlabel('False Positive Rate',fontsize=15)\n",
    "    ax.set_ylabel('True Positive Rate',fontsize=15)\n",
    "\n",
    "    ax.legend(loc=\"lower right\")\n",
    "\n",
    "    for label in ax.get_xticklabels()+ax.get_yticklabels():\n",
    "        label.set_fontsize(15)\n",
    "\n",
    "def fit_predict_and_plot_roc(pipe, train_data, train_label, test_data, test_label):\n",
    "    pipe.fit(train_data, train_label)\n",
    "    # pipeline1.predict(twenty_test.data)\n",
    "\n",
    "    prob_score = pipe.predict_proba(test_data)\n",
    "\n",
    "    fpr, tpr, _ = roc_curve(test_label, prob_score[:,1])\n",
    "\n",
    "    plot_roc(fpr, tpr)\n",
    "    return pipe\n",
    "\n",
    "def print_result(train_label, predicted_label):   \n",
    "    print(\"Confusion_matrix is \\n\", confusion_matrix(train_label,predicted_label))\n",
    "    print(\"Accuracy is \\n\",accuracy_score(train_label,predicted_label))\n",
    "    print(\"Recall score is \\n\", recall_score(train_label,predicted_label,average='macro'))\n",
    "    print(\"Precision score is \\n\", precision_score(train_label,predicted_label,average='macro'))"
   ]
  },
  {
   "cell_type": "code",
   "execution_count": 14,
   "metadata": {},
   "outputs": [],
   "source": [
    "# try plot with pipe\n",
    "\n",
    "\n",
    "# from sklearn.pipeline import Pipeline\n",
    "# pipeline_svm_hard = Pipeline([\n",
    "#     ('vect', CountVectorizer(min_df=5,analyzer=stem_rmv_punc)),\n",
    "#     ('tfidf', TfidfTransformer()),\n",
    "#     ('reduce_dim', NMF(n_components=50, init='random', random_state=0)),\n",
    "#     ('clf', svm.SVC(probability=True,C = 1000)),\n",
    "# ])\n",
    "\n",
    "# Pipe_svm_hard = fit_predict_and_plot_roc(pipeline_svm_hard, twenty_train.data, twenty_train.target>3, twenty_test.data, twenty_test.target>3)\n",
    "# # Calculate confusion matrix && accuracy && recall && precision \n",
    "# pred = Pipe_svm_hard.predict(twenty_test.data)#########\n",
    "# print_result(twenty_test.target>3,pred)\n",
    "\n"
   ]
  },
  {
   "cell_type": "markdown",
   "metadata": {},
   "source": [
    "### hard svm"
   ]
  },
  {
   "cell_type": "code",
   "execution_count": 29,
   "metadata": {},
   "outputs": [
    {
     "name": "stdout",
     "output_type": "stream",
     "text": [
      "Confusion_matrix is \n",
      " [[1506   54]\n",
      " [  31 1559]]\n",
      "Accuracy is \n",
      " 0.973015873015873\n",
      "Recall score is \n",
      " 0.9729438800193517\n",
      "Precision score is \n",
      " 0.9731764239884059\n"
     ]
    },
    {
     "data": {
      "image/png": "[encoded data removed]",
      "text/plain": [
       "<matplotlib.figure.Figure at 0x119473cf8>"
      ]
     },
     "metadata": {},
     "output_type": "display_data"
    }
   ],
   "source": [
    "from sklearn.svm import SVC\n",
    "\n",
    "clf_SVM_hard = SVC(kernel='linear', probability=True,C = 1000) ##change parameters here\n",
    "clf_SVM_hard.fit(train_LSI, twenty_train.target>3)\n",
    "pred = clf_SVM_hard.predict(test_LSI)\n",
    "prob_score = clf_SVM_hard.predict_proba(test_LSI)\n",
    "\n",
    "print_result(twenty_test.target>3,pred)\n",
    "fpr, tpr, _ = roc_curve(twenty_test.target>3, prob_score[:,1])\n",
    "plot_roc(fpr, tpr)"
   ]
  },
  {
   "cell_type": "markdown",
   "metadata": {},
   "source": [
    "### soft svm "
   ]
  },
  {
   "cell_type": "code",
   "execution_count": 103,
   "metadata": {},
   "outputs": [
    {
     "name": "stdout",
     "output_type": "stream",
     "text": [
      "Confusion_matrix is \n",
      " [[   0 1560]\n",
      " [   0 1590]]\n",
      "Accuracy is \n",
      " 0.5047619047619047\n",
      "Recall score is \n",
      " 0.5\n",
      "Precision score is \n",
      " 0.2523809523809524\n"
     ]
    },
    {
     "name": "stderr",
     "output_type": "stream",
     "text": [
      "/Users/shuangyu/ECE219_projects/project_1/.env/lib/python3.6/site-packages/sklearn/metrics/classification.py:1135: UndefinedMetricWarning: Precision is ill-defined and being set to 0.0 in labels with no predicted samples.\n",
      "  'precision', 'predicted', average, warn_for)\n"
     ]
    },
    {
     "data": {
      "image/png": "[encoded data removed]",
      "text/plain": [
       "<matplotlib.figure.Figure at 0x1209cd780>"
      ]
     },
     "metadata": {},
     "output_type": "display_data"
    }
   ],
   "source": [
    "clf_SVM_soft = SVC(kernel='linear', probability=True,C = 0.001)##change parameters here\n",
    "clf_SVM_soft.fit(train_LSI, twenty_train.target>3)\n",
    "pred = clf_SVM_soft.predict(test_LSI)\n",
    "prob_score = clf_SVM_soft.predict_proba(test_LSI)\n",
    "\n",
    "print_result(twenty_test.target>3,pred)\n",
    "fpr, tpr, _ = roc_curve(twenty_test.target>3, prob_score[:,1])\n",
    "plot_roc(fpr, tpr)"
   ]
  },
  {
   "cell_type": "markdown",
   "metadata": {},
   "source": [
    "# Problem f) cross validation\n",
    "find the best Gamma"
   ]
  },
  {
   "cell_type": "code",
   "execution_count": 95,
   "metadata": {},
   "outputs": [
    {
     "name": "stdout",
     "output_type": "stream",
     "text": [
      "---------- k = -3 ----------\n"
     ]
    },
    {
     "name": "stderr",
     "output_type": "stream",
     "text": [
      "/Users/shuangyu/ECE219_projects/project_1/.env/lib/python3.6/site-packages/sklearn/metrics/classification.py:1135: UndefinedMetricWarning: Precision is ill-defined and being set to 0.0 in labels with no predicted samples.\n",
      "  'precision', 'predicted', average, warn_for)\n"
     ]
    },
    {
     "name": "stdout",
     "output_type": "stream",
     "text": [
      "Confusion_matrix is \n",
      " [[  0 513]\n",
      " [  0 434]]\n",
      "Accuracy is \n",
      " 0.4582893347412883\n",
      "Recall score is \n",
      " 0.5\n",
      "Precision score is \n",
      " 0.22914466737064415\n",
      "---------- k = -2 ----------\n",
      "Confusion_matrix is \n",
      " [[  0 513]\n",
      " [  0 434]]\n",
      "Accuracy is \n",
      " 0.4582893347412883\n",
      "Recall score is \n",
      " 0.5\n",
      "Precision score is \n",
      " 0.22914466737064415\n",
      "---------- k = -1 ----------\n",
      "Confusion_matrix is \n",
      " [[492  21]\n",
      " [  9 425]]\n",
      "Accuracy is \n",
      " 0.9683210137275607\n",
      "Recall score is \n",
      " 0.96916350014822\n",
      "Precision score is \n",
      " 0.9674753631749953\n",
      "---------- k = 0 ----------\n",
      "Confusion_matrix is \n",
      " [[498  15]\n",
      " [ 10 424]]\n",
      "Accuracy is \n",
      " 0.9736008447729673\n",
      "Recall score is \n",
      " 0.9738593796318753\n",
      "Precision score is \n",
      " 0.9730731978548239\n",
      "---------- k = 1 ----------\n",
      "Confusion_matrix is \n",
      " [[502  11]\n",
      " [ 10 424]]\n",
      "Accuracy is \n",
      " 0.9778247096092925\n",
      "Recall score is \n",
      " 0.9777580151094583\n",
      "Precision score is \n",
      " 0.9775906968390804\n",
      "---------- k = 2 ----------\n",
      "Confusion_matrix is \n",
      " [[499  14]\n",
      " [ 10 424]]\n",
      "Accuracy is \n",
      " 0.9746568109820486\n",
      "Recall score is \n",
      " 0.974834038501271\n",
      "Precision score is \n",
      " 0.9741950821289842\n",
      "---------- k = 3 ----------\n",
      "Confusion_matrix is \n",
      " [[499  14]\n",
      " [ 10 424]]\n",
      "Accuracy is \n",
      " 0.9746568109820486\n",
      "Recall score is \n",
      " 0.974834038501271\n",
      "Precision score is \n",
      " 0.9741950821289842\n",
      "---------- k = -3 ----------\n",
      "Confusion_matrix is \n",
      " [[441   0]\n",
      " [506   0]]\n",
      "Accuracy is \n",
      " 0.4656810982048574\n",
      "Recall score is \n",
      " 0.5\n",
      "Precision score is \n",
      " 0.2328405491024287\n",
      "---------- k = -2 ----------\n",
      "Confusion_matrix is \n",
      " [[441   0]\n",
      " [506   0]]\n",
      "Accuracy is \n",
      " 0.4656810982048574\n",
      "Recall score is \n",
      " 0.5\n",
      "Precision score is \n",
      " 0.2328405491024287\n",
      "---------- k = -1 ----------\n",
      "Confusion_matrix is \n",
      " [[428  13]\n",
      " [ 10 496]]\n",
      "Accuracy is \n",
      " 0.9757127771911299\n",
      "Recall score is \n",
      " 0.9753793480501556\n",
      "Precision score is \n",
      " 0.9758143373612868\n",
      "---------- k = 0 ----------\n",
      "Confusion_matrix is \n",
      " [[428  13]\n",
      " [  9 497]]\n",
      "Accuracy is \n",
      " 0.9767687434002112\n",
      "Recall score is \n",
      " 0.9763674903426456\n",
      "Precision score is \n",
      " 0.9769574191232557\n",
      "---------- k = 1 ----------\n",
      "Confusion_matrix is \n",
      " [[429  12]\n",
      " [ 10 496]]\n",
      "Accuracy is \n",
      " 0.9767687434002112\n",
      "Recall score is \n",
      " 0.9765131348982281\n",
      "Precision score is \n",
      " 0.9767994547378617\n",
      "---------- k = 2 ----------\n",
      "Confusion_matrix is \n",
      " [[433   8]\n",
      " [ 11 495]]\n",
      "Accuracy is \n",
      " 0.9799366420274551\n",
      "Recall score is \n",
      " 0.9800601399980282\n",
      "Precision score is \n",
      " 0.9796603263303065\n",
      "---------- k = 3 ----------\n",
      "Confusion_matrix is \n",
      " [[432   9]\n",
      " [ 11 495]]\n",
      "Accuracy is \n",
      " 0.9788806758183738\n",
      "Recall score is \n",
      " 0.9789263531499557\n",
      "Precision score is \n",
      " 0.9786560786842954\n",
      "---------- k = -3 ----------\n",
      "Confusion_matrix is \n",
      " [[  0 463]\n",
      " [  0 483]]\n",
      "Accuracy is \n",
      " 0.5105708245243129\n",
      "Recall score is \n",
      " 0.5\n",
      "Precision score is \n",
      " 0.25528541226215645\n",
      "---------- k = -2 ----------\n",
      "Confusion_matrix is \n",
      " [[  2 461]\n",
      " [  0 483]]\n",
      "Accuracy is \n",
      " 0.5126849894291755\n",
      "Recall score is \n",
      " 0.5021598272138229\n",
      "Precision score is \n",
      " 0.7558262711864407\n",
      "---------- k = -1 ----------\n",
      "Confusion_matrix is \n",
      " [[444  19]\n",
      " [ 17 466]]\n",
      "Accuracy is \n",
      " 0.9619450317124736\n",
      "Recall score is \n",
      " 0.9618832977833822\n",
      "Precision score is \n",
      " 0.961974193259834\n",
      "---------- k = 0 ----------\n",
      "Confusion_matrix is \n",
      " [[451  12]\n",
      " [ 17 466]]\n",
      "Accuracy is \n",
      " 0.9693446088794926\n",
      "Recall score is \n",
      " 0.9694426930317623\n",
      "Precision score is \n",
      " 0.9692853055823767\n",
      "---------- k = 1 ----------\n",
      "Confusion_matrix is \n",
      " [[451  12]\n",
      " [ 20 463]]\n",
      "Accuracy is \n",
      " 0.9661733615221987\n",
      "Recall score is \n",
      " 0.9663371029696506\n",
      "Precision score is \n",
      " 0.9661369985473237\n",
      "---------- k = 2 ----------\n",
      "Confusion_matrix is \n",
      " [[453  10]\n",
      " [ 18 465]]\n",
      "Accuracy is \n",
      " 0.9704016913319239\n",
      "Recall score is \n",
      " 0.9705673235582147\n",
      "Precision score is \n",
      " 0.9703654039557492\n",
      "---------- k = 3 ----------\n",
      "Confusion_matrix is \n",
      " [[456   7]\n",
      " [ 18 465]]\n",
      "Accuracy is \n",
      " 0.9735729386892178\n",
      "Recall score is \n",
      " 0.9738070643789491\n",
      "Precision score is \n",
      " 0.9735974039905599\n",
      "---------- k = -3 ----------\n",
      "Confusion_matrix is \n",
      " [[  0 465]\n",
      " [  0 481]]\n",
      "Accuracy is \n",
      " 0.5084566596194503\n",
      "Recall score is \n",
      " 0.5\n",
      "Precision score is \n",
      " 0.25422832980972515\n",
      "---------- k = -2 ----------\n",
      "Confusion_matrix is \n",
      " [[  2 463]\n",
      " [  0 481]]\n",
      "Accuracy is \n",
      " 0.5105708245243129\n",
      "Recall score is \n",
      " 0.5021505376344086\n",
      "Precision score is \n",
      " 0.7547669491525424\n",
      "---------- k = -1 ----------\n",
      "Confusion_matrix is \n",
      " [[442  23]\n",
      " [ 13 468]]\n",
      "Accuracy is \n",
      " 0.9619450317124736\n",
      "Recall score is \n",
      " 0.9617553036907875\n",
      "Precision score is \n",
      " 0.9622926971195811\n",
      "---------- k = 0 ----------\n",
      "Confusion_matrix is \n",
      " [[450  15]\n",
      " [ 15 466]]\n",
      "Accuracy is \n",
      " 0.9682875264270613\n",
      "Recall score is \n",
      " 0.9682784521494199\n",
      "Precision score is \n",
      " 0.9682784521494199\n",
      "---------- k = 1 ----------\n",
      "Confusion_matrix is \n",
      " [[452  13]\n",
      " [ 15 466]]\n",
      "Accuracy is \n",
      " 0.9704016913319239\n",
      "Recall score is \n",
      " 0.9704289897838285\n",
      "Precision score is \n",
      " 0.9703701054570326\n",
      "---------- k = 2 ----------\n",
      "Confusion_matrix is \n",
      " [[449  16]\n",
      " [ 15 466]]\n",
      "Accuracy is \n",
      " 0.96723044397463\n",
      "Recall score is \n",
      " 0.9672031833322157\n",
      "Precision score is \n",
      " 0.9672386965231077\n",
      "---------- k = 3 ----------\n",
      "Confusion_matrix is \n",
      " [[452  13]\n",
      " [ 12 469]]\n",
      "Accuracy is \n",
      " 0.9735729386892178\n",
      "Recall score is \n",
      " 0.9735474929023316\n",
      "Precision score is \n",
      " 0.9735834883388181\n",
      "---------- k = -3 ----------\n",
      "Confusion_matrix is \n",
      " [[  0 461]\n",
      " [  0 485]]\n",
      "Accuracy is \n",
      " 0.5126849894291755\n",
      "Recall score is \n",
      " 0.5\n",
      "Precision score is \n",
      " 0.25634249471458775\n",
      "---------- k = -2 ----------\n",
      "Confusion_matrix is \n",
      " [[  3 458]\n",
      " [  0 485]]\n",
      "Accuracy is \n",
      " 0.5158562367864693\n",
      "Recall score is \n",
      " 0.5032537960954447\n",
      "Precision score is \n",
      " 0.7571580063626724\n",
      "---------- k = -1 ----------\n",
      "Confusion_matrix is \n",
      " [[438  23]\n",
      " [ 14 471]]\n",
      "Accuracy is \n",
      " 0.9608879492600423\n",
      "Recall score is \n",
      " 0.9606212402442025\n",
      "Precision score is \n",
      " 0.9612339221095625\n",
      "---------- k = 0 ----------\n",
      "Confusion_matrix is \n",
      " [[441  20]\n",
      " [ 14 471]]\n",
      "Accuracy is \n",
      " 0.9640591966173362\n",
      "Recall score is \n",
      " 0.9638750363396471\n",
      "Precision score is \n",
      " 0.9642487858373805\n",
      "---------- k = 1 ----------\n",
      "Confusion_matrix is \n",
      " [[451  10]\n",
      " [ 12 473]]\n",
      "Accuracy is \n",
      " 0.9767441860465116\n",
      "Recall score is \n",
      " 0.9767828789945658\n",
      "Precision score is \n",
      " 0.9766890698433566\n",
      "---------- k = 2 ----------\n",
      "Confusion_matrix is \n",
      " [[451  10]\n",
      " [ 14 471]]\n",
      "Accuracy is \n",
      " 0.9746300211416491\n",
      "Recall score is \n",
      " 0.9747210233244628\n",
      "Precision score is \n",
      " 0.9745512261641294\n",
      "---------- k = 3 ----------\n",
      "Confusion_matrix is \n",
      " [[451  10]\n",
      " [ 12 473]]\n",
      "Accuracy is \n",
      " 0.9767441860465116\n",
      "Recall score is \n",
      " 0.9767828789945658\n",
      "Precision score is \n",
      " 0.9766890698433566\n"
     ]
    }
   ],
   "source": [
    "from sklearn.model_selection import KFold\n",
    "ks = list(range(-3,4))\n",
    "#Kfold\n",
    "kf = KFold(n_splits=5)\n",
    "\n",
    "accuracy_list = np.zeros([7,5])\n",
    "Recall_list = np.zeros([7,5])\n",
    "Precision_list = np.zeros([7,5])\n",
    "Confusion_matrix = [[[]]*5]*7\n",
    "\n",
    "i = -1\n",
    "for train_index, test_index in kf.split(twenty_train.data):\n",
    "    data_train = np.array(twenty_train.data)[train_index]\n",
    "    data_test = np.array(twenty_train.data)[test_index]\n",
    "\n",
    "    target_train = np.array(twenty_train.target)[train_index]\n",
    "    target_test = np.array(twenty_train.target)[test_index]\n",
    "\n",
    "    data_train_counts,data_test_counts = TF_builder(5, data_train,data_test)## change parameters here\n",
    "    data_train_tfidf,data_test_tfidf = TFIDF_builder(data_train_counts,data_test_counts)\n",
    "    \n",
    "    data_train_LSI,data_test_LSI = LSI_deduction(data_train_tfidf,data_test_tfidf)\n",
    "    i=i+1\n",
    "    for k in ks:\n",
    "        print(\"-\"*10,\"k =\",k,\"-\"*10)\n",
    "        clf_SVM = SVC(kernel='linear', probability=True,C = 10**k)\n",
    "        clf_SVM.fit(data_train_LSI, target_train>3)\n",
    "        pred = clf_SVM.predict(data_test_LSI)\n",
    "        prob_score = clf_SVM.predict_proba(data_test_LSI)\n",
    "        \n",
    "        accuracy_list[ks.index(k),i] = accuracy_score(target_test>3,pred)\n",
    "        Recall_list[ks.index(k),i]   = recall_score(target_test>3,pred,average='macro')\n",
    "        Precision_list[ks.index(k),i]= precision_score(target_test>3,pred,average='macro')\n",
    "        \n",
    "        print_result(target_test>3,pred)\n",
    "    \n",
    "        \n",
    "        \n",
    "    "
   ]
  },
  {
   "cell_type": "code",
   "execution_count": 96,
   "metadata": {},
   "outputs": [
    {
     "name": "stdout",
     "output_type": "stream",
     "text": [
      "accuracy_list\n",
      " [[0.45828933 0.4656811  0.51057082 0.50845666 0.51268499]\n",
      " [0.45828933 0.4656811  0.51268499 0.51057082 0.51585624]\n",
      " [0.96832101 0.97571278 0.96194503 0.96194503 0.96088795]\n",
      " [0.97360084 0.97676874 0.96934461 0.96828753 0.9640592 ]\n",
      " [0.97782471 0.97676874 0.96617336 0.97040169 0.97674419]\n",
      " [0.97465681 0.97993664 0.97040169 0.96723044 0.97463002]\n",
      " [0.97465681 0.97888068 0.97357294 0.97357294 0.97674419]]\n",
      "Recall_list\n",
      " [[0.5        0.5        0.5        0.5        0.5       ]\n",
      " [0.5        0.5        0.50215983 0.50215054 0.5032538 ]\n",
      " [0.9691635  0.97537935 0.9618833  0.9617553  0.96062124]\n",
      " [0.97385938 0.97636749 0.96944269 0.96827845 0.96387504]\n",
      " [0.97775802 0.97651313 0.9663371  0.97042899 0.97678288]\n",
      " [0.97483404 0.98006014 0.97056732 0.96720318 0.97472102]\n",
      " [0.97483404 0.97892635 0.97380706 0.97354749 0.97678288]]\n",
      "Precision_list [[0.22914467 0.23284055 0.25528541 0.25422833 0.25634249]\n",
      " [0.22914467 0.23284055 0.75582627 0.75476695 0.75715801]\n",
      " [0.96747536 0.97581434 0.96197419 0.9622927  0.96123392]\n",
      " [0.9730732  0.97695742 0.96928531 0.96827845 0.96424879]\n",
      " [0.9775907  0.97679945 0.966137   0.97037011 0.97668907]\n",
      " [0.97419508 0.97966033 0.9703654  0.9672387  0.97455123]\n",
      " [0.97419508 0.97865608 0.9735974  0.97358349 0.97668907]]\n"
     ]
    }
   ],
   "source": [
    "print(\"accuracy_list\\n\",accuracy_list)\n",
    "print(\"Recall_list\\n\",Recall_list)\n",
    "print(\"Precision_list\",Precision_list)\n"
   ]
  },
  {
   "cell_type": "markdown",
   "metadata": {},
   "source": [
    "# Problem g) Naive Bayes"
   ]
  },
  {
   "cell_type": "code",
   "execution_count": 86,
   "metadata": {},
   "outputs": [
    {
     "name": "stdout",
     "output_type": "stream",
     "text": [
      "Confusion_matrix is \n",
      " [[1382  178]\n",
      " [  24 1566]]\n",
      "Accuracy is \n",
      " 0.9358730158730159\n",
      "Recall score is \n",
      " 0.9354015481373972\n",
      "Precision score is \n",
      " 0.940433039268143\n"
     ]
    },
    {
     "data": {
      "image/png": "[encoded data removed]",
      "text/plain": [
       "<matplotlib.figure.Figure at 0x12b143be0>"
      ]
     },
     "metadata": {},
     "output_type": "display_data"
    }
   ],
   "source": [
    "#naive Bayes\n",
    "from sklearn.naive_bayes import MultinomialNB\n",
    "\n",
    "# X_train_counts,X_test_counts = TF_builder(min_df,twenty_train.data,twenty_test.data)\n",
    "# train_tfidf,test_tfidf = TFIDF_builder(X_train_counts, X_test_counts)\n",
    "# train_NMF,test_NMF = NMF_deduction(train_tfidf,test_tfidf)\n",
    "\n",
    "clf_NB = MultinomialNB().fit(train_NMF, twenty_train.target>3)\n",
    "pred = clf_NB.predict(test_NMF)\n",
    "prob_score = clf_NB.predict_proba(test_NMF)\n",
    "\n",
    "print_result(twenty_test.target>3,pred)\n",
    "fpr, tpr, _ = roc_curve(twenty_test.target>3, prob_score[:,1])\n",
    "plot_roc(fpr, tpr)\n",
    "\n"
   ]
  },
  {
   "cell_type": "markdown",
   "metadata": {},
   "source": [
    "# Problem h) Logistic Regression"
   ]
  },
  {
   "cell_type": "markdown",
   "metadata": {},
   "source": [
    "### L2 Norm"
   ]
  },
  {
   "cell_type": "code",
   "execution_count": 104,
   "metadata": {},
   "outputs": [
    {
     "name": "stdout",
     "output_type": "stream",
     "text": [
      "Confusion_matrix is \n",
      " [[1487   73]\n",
      " [  35 1555]]\n",
      "Accuracy is \n",
      " 0.9657142857142857\n",
      "Recall score is \n",
      " 0.965596274794388\n",
      "Precision score is \n",
      " 0.9660818236705228\n"
     ]
    },
    {
     "data": {
      "image/png": "[encoded data removed]",
      "text/plain": [
       "<matplotlib.figure.Figure at 0x12088b9b0>"
      ]
     },
     "metadata": {},
     "output_type": "display_data"
    }
   ],
   "source": [
    "from sklearn.linear_model import LogisticRegression\n",
    "\n",
    "\n",
    "clf_LR = LogisticRegression().fit(train_LSI, twenty_train.target>3)\n",
    "pred = clf_LR.predict(test_LSI)\n",
    "prob_score = clf_LR.predict_proba(test_LSI)\n",
    "\n",
    "print_result(twenty_test.target>3,pred)\n",
    "fpr, tpr, _ = roc_curve(twenty_test.target>3, prob_score[:,1])\n",
    "plot_roc(fpr, tpr)"
   ]
  },
  {
   "cell_type": "markdown",
   "metadata": {},
   "source": [
    "# Problem I) Logistic Regression with regularization "
   ]
  },
  {
   "cell_type": "markdown",
   "metadata": {},
   "source": [
    "### L1 Norm with regulization "
   ]
  },
  {
   "cell_type": "code",
   "execution_count": 105,
   "metadata": {},
   "outputs": [
    {
     "name": "stdout",
     "output_type": "stream",
     "text": [
      "-------- C= -3 --------\n",
      "-------- C= -2 --------\n",
      "-------- C= -1 --------\n",
      "-------- C= 0 --------\n",
      "-------- C= 1 --------\n",
      "-------- C= 2 --------\n",
      "-------- C= 3 --------\n",
      "[0.49523809523809526, 0.8888888888888888, 0.9552380952380952, 0.9634920634920635, 0.9711111111111111, 0.9704761904761905, 0.9704761904761905]\n"
     ]
    }
   ],
   "source": [
    "Cs = list(range(-3,4))\n",
    "Accuracy_l1 =[]\n",
    "for C in Cs:\n",
    "    print('-'*8,\"C=\",C,\"-\"*8)\n",
    "    clf_LR = LogisticRegression(penalty='l1', C = 10**C).fit(train_LSI, twenty_train.target>3)\n",
    "    pred = clf_LR.predict(test_LSI)\n",
    "    prob_score = clf_LR.predict_proba(test_LSI)\n",
    "    \n",
    "    Accuracy_l1.append(accuracy_score(twenty_test.target>3,pred))\n",
    "#     fpr, tpr, _ = roc_curve(twenty_test.target>3, prob_score[:,1])\n",
    "#     plot_roc(fpr, tpr)\n",
    "\n",
    "print(Accuracy_l1)\n",
    "    \n",
    "    "
   ]
  },
  {
   "cell_type": "markdown",
   "metadata": {},
   "source": [
    "### Norm l2 with regulization"
   ]
  },
  {
   "cell_type": "code",
   "execution_count": 106,
   "metadata": {},
   "outputs": [
    {
     "name": "stdout",
     "output_type": "stream",
     "text": [
      "-------- C= -3 --------\n",
      "-------- C= -2 --------\n",
      "-------- C= -1 --------\n",
      "-------- C= 0 --------\n",
      "-------- C= 1 --------\n",
      "-------- C= 2 --------\n",
      "-------- C= 3 --------\n",
      "[0.7333333333333333, 0.9453968253968253, 0.9587301587301588, 0.9657142857142857, 0.9695238095238096, 0.9714285714285714, 0.9707936507936508]\n"
     ]
    }
   ],
   "source": [
    "Cs = list(range(-3,4))\n",
    "Accuracy_l2 =[]\n",
    "for C in Cs:\n",
    "    print('-'*8,\"C=\",C,\"-\"*8)\n",
    "    clf_LR = LogisticRegression(penalty='l2', C = 10**C).fit(train_LSI, twenty_train.target>3)\n",
    "    pred = clf_LR.predict(test_LSI)\n",
    "    prob_score = clf_LR.predict_proba(test_LSI)\n",
    "    \n",
    "    Accuracy_l2.append(accuracy_score(twenty_test.target>3,pred))\n",
    "    \n",
    "#     print_result(twenty_test.target>3,pred)\n",
    "print(Accuracy_l2)"
   ]
  },
  {
   "cell_type": "markdown",
   "metadata": {},
   "source": [
    "# Problem ii) Multiclass Classification"
   ]
  },
  {
   "cell_type": "code",
   "execution_count": 26,
   "metadata": {},
   "outputs": [
    {
     "name": "stdout",
     "output_type": "stream",
     "text": [
      "(2352, 12339) (1565, 12339)\n",
      "(2352, 50)\n",
      "(2352, 50)\n"
     ]
    }
   ],
   "source": [
    "# Get data from 4 categories \n",
    "from sklearn.datasets import fetch_20newsgroups\n",
    "categories_multi = ['comp.sys.ibm.pc.hardware','comp.sys.mac.hardware','misc.forsale','soc.religion.christian']\n",
    "train_multi = fetch_20newsgroups(subset='train', categories=categories_multi, shuffle=True, random_state=42,)\n",
    "test_multi = fetch_20newsgroups(subset='test', categories=categories_multi, shuffle=True, random_state=42,)\n",
    "\n",
    "# Perform tfidf on documents from these 4 categories (min_df = 2)\n",
    "TF_train_multi,TF_test_multi = TF_builder(min_dfs[0],train_multi.data,test_multi.data)\n",
    "print(TF_train_multi.shape, TF_test_multi.shape)\n",
    "train_multi_tfidf,test_multi_tfidf = TFIDF_builder(TF_train_multi, TF_test_multi)\n",
    "\n",
    "# NMF on tfidf\n",
    "train_multi_NMF,test_multi_NMF = NMF_deduction(train_multi_tfidf,test_multi_tfidf)\n",
    "print(train_multi_NMF.shape)\n",
    "\n",
    "# LSI of tfidf\n",
    "train_multi_LSI,test_multi_LSI = LSI_deduction(train_multi_tfidf,test_multi_tfidf)\n",
    "print(train_multi_LSI.shape)"
   ]
  },
  {
   "cell_type": "markdown",
   "metadata": {},
   "source": [
    "### Naive Bayes Classification"
   ]
  },
  {
   "cell_type": "code",
   "execution_count": 27,
   "metadata": {},
   "outputs": [
    {
     "name": "stdout",
     "output_type": "stream",
     "text": [
      "Confusion_matrix is \n",
      " [[318  25  43   6]\n",
      " [ 99 238  43   5]\n",
      " [ 68  14 289  19]\n",
      " [  1   0   4 393]]\n",
      "Accuracy is \n",
      " 0.7910543130990415\n",
      "Recall score is \n",
      " 0.7894672837332564\n",
      "Precision score is \n",
      " 0.8012844398855866\n"
     ]
    }
   ],
   "source": [
    "#naive Bayes classifier\n",
    "from sklearn.naive_bayes import MultinomialNB\n",
    "clf_multiNB = MultinomialNB().fit(train_multi_NMF, train_multi.target)\n",
    "pred_NB = clf_multiNB.predict(test_multi_NMF)\n",
    "prob_score_NB = clf_multiNB.predict_proba(test_multi_NMF)\n",
    "\n",
    "#print out result\n",
    "print_result(test_multi.target,pred_NB)"
   ]
  },
  {
   "cell_type": "markdown",
   "metadata": {},
   "source": [
    "### SVM one-to-one (NMF)"
   ]
  },
  {
   "cell_type": "code",
   "execution_count": 28,
   "metadata": {
    "scrolled": true
   },
   "outputs": [
    {
     "name": "stdout",
     "output_type": "stream",
     "text": [
      "Confusion_matrix is \n",
      " [[328  38  26   0]\n",
      " [ 72 285  26   2]\n",
      " [ 46  15 326   3]\n",
      " [ 10   0   7 381]]\n",
      "Accuracy is \n",
      " 0.8434504792332268\n",
      "Recall score is \n",
      " 0.8425445755488828\n",
      "Precision score is \n",
      " 0.8490733476909559\n"
     ]
    }
   ],
   "source": [
    "# SVC assumes the one-vs-one as a multiclass classifier\n",
    "from sklearn.svm import SVC\n",
    "clf_SVM_multi = SVC(kernel='linear', C = 100)\n",
    "clf_SVM_multi.fit(train_multi_NMF,train_multi.target)\n",
    "pred_NMF = clf_SVM_multi.predict(test_multi_NMF)\n",
    "\n",
    "#print out result\n",
    "print_result(test_multi.target,pred_NMF)"
   ]
  },
  {
   "cell_type": "markdown",
   "metadata": {},
   "source": [
    "### SVM one-to-one (LSI)"
   ]
  },
  {
   "cell_type": "code",
   "execution_count": 29,
   "metadata": {},
   "outputs": [
    {
     "name": "stdout",
     "output_type": "stream",
     "text": [
      "Confusion_matrix is \n",
      " [[328  34  29   1]\n",
      " [ 42 319  24   0]\n",
      " [ 22  19 347   2]\n",
      " [  4   1   1 392]]\n",
      "Accuracy is \n",
      " 0.8856230031948882\n",
      "Recall score is \n",
      " 0.8849935838270369\n",
      "Precision score is \n",
      " 0.8853131079914038\n"
     ]
    }
   ],
   "source": [
    "clf_SVM_multi = SVC(kernel='linear', C = 100)\n",
    "clf_SVM_multi.fit(train_multi_LSI,train_multi.target)\n",
    "pred_LSI = clf_SVM_multi.predict(test_multi_LSI)\n",
    "\n",
    "#print out result\n",
    "print_result(test_multi.target,pred_LSI)"
   ]
  },
  {
   "cell_type": "markdown",
   "metadata": {},
   "source": [
    "### SVM one-to-rest(NMF)"
   ]
  },
  {
   "cell_type": "code",
   "execution_count": 30,
   "metadata": {},
   "outputs": [
    {
     "name": "stdout",
     "output_type": "stream",
     "text": [
      "Confusion_matrix is \n",
      " [[293  68  28   3]\n",
      " [ 53 303  25   4]\n",
      " [ 32  17 336   5]\n",
      " [  3   0   3 392]]\n",
      "Accuracy is \n",
      " 0.8460063897763578\n",
      "Recall score is \n",
      " 0.8452312628147158\n",
      "Precision score is \n",
      " 0.8443491483221125\n"
     ]
    }
   ],
   "source": [
    "# LinearSVC assumes one-vs-rest implementation of a multiclass classifier\n",
    "from sklearn.svm import LinearSVC\n",
    "clf_SVM_multi = LinearSVC(loss=\"hinge\", C = 100)\n",
    "clf_SVM_multi.fit(train_multi_NMF,train_multi.target)\n",
    "pred_NMF = clf_SVM_multi.predict(test_multi_NMF)\n",
    "\n",
    "#print out result\n",
    "print_result(test_multi.target,pred_NMF)"
   ]
  },
  {
   "cell_type": "markdown",
   "metadata": {},
   "source": [
    "### SVM one-to-rest(LSI) "
   ]
  },
  {
   "cell_type": "code",
   "execution_count": 31,
   "metadata": {},
   "outputs": [
    {
     "name": "stdout",
     "output_type": "stream",
     "text": [
      "Confusion_matrix is \n",
      " [[315  51  25   1]\n",
      " [ 36 324  23   2]\n",
      " [ 19  18 351   2]\n",
      " [  2   1   2 393]]\n",
      "Accuracy is \n",
      " 0.8837060702875399\n",
      "Recall score is \n",
      " 0.8831417640148795\n",
      "Precision score is \n",
      " 0.88296453138925\n"
     ]
    }
   ],
   "source": [
    "# LinearSVC assumes one-vs-rest implementation of a multiclass classifier\n",
    "from sklearn.svm import LinearSVC\n",
    "clf_SVM_multi = LinearSVC(loss=\"hinge\", C = 100)\n",
    "clf_SVM_multi.fit(train_multi_LSI,train_multi.target)\n",
    "pred_LSI = clf_SVM_multi.predict(test_multi_LSI)\n",
    "\n",
    "#print out result\n",
    "print_result(test_multi.target,pred_LSI)"
   ]
  },
  {
   "cell_type": "code",
   "execution_count": null,
   "metadata": {},
   "outputs": [],
   "source": []
  }
 ],
 "metadata": {
  "kernelspec": {
   "display_name": "Python 3",
   "language": "python",
   "name": "python3"
  },
  "language_info": {
   "codemirror_mode": {
    "name": "ipython",
    "version": 3
   },
   "file_extension": ".py",
   "mimetype": "text/x-python",
   "name": "python",
   "nbconvert_exporter": "python",
   "pygments_lexer": "ipython3",
   "version": "3.6.4"
  }
 },
 "nbformat": 4,
 "nbformat_minor": 2
}
