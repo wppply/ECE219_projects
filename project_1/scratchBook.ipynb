{
 "cells": [
  {
   "cell_type": "markdown",
   "metadata": {},
   "source": [
    "# Problem a)"
   ]
  },
  {
   "cell_type": "code",
   "execution_count": 2,
   "metadata": {},
   "outputs": [
    {
     "name": "stdout",
     "output_type": "stream",
     "text": [
      "[584, 591, 590, 578, 594, 598, 597, 600]\n"
     ]
    },
    {
     "data": {
      "text/plain": [
       "<Container object of 8 artists>"
      ]
     },
     "execution_count": 2,
     "metadata": {},
     "output_type": "execute_result"
    },
    {
     "data": {
      "image/png": "[encoded data removed]",
      "text/plain": [
       "<matplotlib.figure.Figure at 0x115da9630>"
      ]
     },
     "metadata": {},
     "output_type": "display_data"
    }
   ],
   "source": [
    "from sklearn.datasets import fetch_20newsgroups\n",
    "import matplotlib.pyplot as plt\n",
    "import numpy as np\n",
    "\n",
    "\n",
    "categories =['comp.graphics','comp.os.ms-windows.misc','comp.sys.ibm.pc.hardware','comp.sys.mac.hardware','rec.autos','rec.motorcycles','rec.sport.baseball','rec.sport.hockey']\n",
    "dataLen = []\n",
    "train_datas =[]\n",
    "for cat in categories:\n",
    "    raw_train = fetch_20newsgroups(subset='train',categories = [cat],shuffle=True, random_state =42)\n",
    "    train_datas.append(raw_train.data)\n",
    "    dataLen.append(len(raw_train.data))\n",
    "print(dataLen)\n",
    "# the histogram of the data\n",
    "plt.barh(categories,dataLen)"
   ]
  },
  {
   "cell_type": "markdown",
   "metadata": {},
   "source": [
    "# Problem b)"
   ]
  },
  {
   "cell_type": "markdown",
   "metadata": {},
   "source": [
    "### Stopping words"
   ]
  },
  {
   "cell_type": "code",
   "execution_count": 3,
   "metadata": {},
   "outputs": [
    {
     "name": "stdout",
     "output_type": "stream",
     "text": [
      "[nltk_data] Downloading package stopwords to\n",
      "[nltk_data]     /Users/shuangyu/nltk_data...\n",
      "[nltk_data]   Package stopwords is already up-to-date!\n"
     ]
    }
   ],
   "source": [
    "# tokenize -> stem -> remove punctuation & stop words\n",
    "import numpy as np\n",
    "import nltk\n",
    "import matplotlib.pyplot as plt\n",
    "from pickle import dump\n",
    "\n",
    "from sklearn.feature_extraction import text\n",
    "stop_words_skt = text.ENGLISH_STOP_WORDS\n",
    "from nltk.corpus import stopwords\n",
    "nltk.download('stopwords' )\n",
    "stop_words_en = stopwords.words('english')\n",
    "from string import punctuation\n",
    "combined_stopwords = set.union(set(stop_words_en),set(punctuation),set(stop_words_skt))\n",
    "\n"
   ]
  },
  {
   "cell_type": "markdown",
   "metadata": {},
   "source": [
    "### lemmatizer"
   ]
  },
  {
   "cell_type": "code",
   "execution_count": 4,
   "metadata": {},
   "outputs": [
    {
     "name": "stdout",
     "output_type": "stream",
     "text": [
      "[nltk_data] Downloading package punkt to /Users/shuangyu/nltk_data...\n",
      "[nltk_data]   Package punkt is already up-to-date!\n",
      "[nltk_data] Downloading package averaged_perceptron_tagger to\n",
      "[nltk_data]     /Users/shuangyu/nltk_data...\n",
      "[nltk_data]   Package averaged_perceptron_tagger is already up-to-\n",
      "[nltk_data]       date!\n",
      "[nltk_data] Downloading package wordnet to\n",
      "[nltk_data]     /Users/shuangyu/nltk_data...\n",
      "[nltk_data]   Package wordnet is already up-to-date!\n"
     ]
    }
   ],
   "source": [
    "import nltk\n",
    "nltk.download('punkt')\n",
    "nltk.download('averaged_perceptron_tagger')\n",
    "nltk.download('wordnet')\n",
    "from nltk import pos_tag\n",
    "#nltk.download('punkt')#, if you need \"tokenizers/punkt/english.pickle\", choose it\n",
    "# nltk.download('averaged_perceptron_tagger')\n",
    "wnl = nltk.wordnet.WordNetLemmatizer()\n",
    "\n",
    "def penn2morphy(penntag):\n",
    "    \"\"\" Converts Penn Treebank tags to WordNet. \"\"\"\n",
    "    morphy_tag = {'NN':'n', 'JJ':'a',\n",
    "                  'VB':'v', 'RB':'r'}\n",
    "    try:\n",
    "        return morphy_tag[penntag[:2]]\n",
    "    except:\n",
    "        return 'n' \n",
    "def lemmatize_sent_demo(text): \n",
    "    # Text input is string, returns array of lowercased strings(words).\n",
    "    return [wnl.lemmatize(word.lower(), pos=penn2morphy(tag)) \n",
    "            for word, tag in pos_tag(nltk.word_tokenize(text))]\n",
    "def lemmatize_sent(list_word): \n",
    "    # Text input is string, returns array of lowercased strings(words).\n",
    "    return [wnl.lemmatize(word.lower(), pos=penn2morphy(tag)) \n",
    "            for word, tag in pos_tag(list_word)]\n",
    "# lemmatize_sent('He is walking to school')"
   ]
  },
  {
   "cell_type": "code",
   "execution_count": 5,
   "metadata": {},
   "outputs": [],
   "source": [
    "# overwrite analyzer with callable function:\n",
    "from sklearn.feature_extraction.text import CountVectorizer\n",
    "analyzer = CountVectorizer().build_analyzer()\n",
    "def stemmed_words(doc):\n",
    "    return (stemmer.stem(w) for w in analyzer(doc))\n",
    "def stem_rmv_punc(doc):\n",
    "    return (word for word in lemmatize_sent(analyzer(doc)) if word not in combined_stopwords and not word.isdigit())"
   ]
  },
  {
   "cell_type": "code",
   "execution_count": 6,
   "metadata": {},
   "outputs": [],
   "source": [
    "# tokenize -> stem -> remove punctuation & stop words\n",
    "import numpy as np\n",
    "import matplotlib.pyplot as plt\n",
    "from pickle import dump\n",
    "\n",
    "from sklearn.datasets import fetch_20newsgroups\n",
    "comp_categories = [ 'comp.graphics', 'comp.os.ms-windows.misc', 'comp.sys.ibm.pc.hardware', 'comp.sys.mac.hardware']\n",
    "rec_categories = ['rec.autos', 'rec.motorcycles', 'rec.sport.baseball', 'rec.sport.hockey']\n",
    "twenty_train = fetch_20newsgroups(subset='train', categories=comp_categories+rec_categories, shuffle=True, random_state=42,)\n",
    "twenty_test = fetch_20newsgroups(subset='test', categories=comp_categories+rec_categories, shuffle=True, random_state=42,)\n",
    "counts = []"
   ]
  },
  {
   "cell_type": "markdown",
   "metadata": {},
   "source": [
    "### TFxIDF"
   ]
  },
  {
   "cell_type": "code",
   "execution_count": 7,
   "metadata": {},
   "outputs": [
    {
     "name": "stdout",
     "output_type": "stream",
     "text": [
      "[5]\n",
      "(4732, 10396) (3150, 10396)\n"
     ]
    }
   ],
   "source": [
    "from sklearn.feature_extraction.text import CountVectorizer\n",
    "min_dfs = [2,5] \n",
    "print(min_dfs[1:])\n",
    "def TF_builder(min_df,twenty_train,twenty_test):\n",
    "    count_vect = CountVectorizer(min_df=min_df,analyzer=stem_rmv_punc)\n",
    "    X_train_counts = count_vect.fit_transform(twenty_train)\n",
    "    X_test_counts = count_vect.transform(twenty_test)\n",
    "    return X_train_counts,X_test_counts\n",
    "\n",
    "for min_df in min_dfs[1:]:\n",
    "    X_train_counts,X_test_counts = TF_builder(min_df,twenty_train.data,twenty_test.data)\n",
    "    print(X_train_counts.shape, X_test_counts.shape) "
   ]
  },
  {
   "cell_type": "code",
   "execution_count": 8,
   "metadata": {},
   "outputs": [],
   "source": [
    "#TDIDF of 8 classes\n",
    "from sklearn.feature_extraction.text import TfidfTransformer\n",
    "\n",
    "def TFIDF_builder(X_train_counts1,X_test_counts1 ):\n",
    "    tfidf_transformer = TfidfTransformer()\n",
    "    train_tfidf = tfidf_transformer.fit_transform(X_train_counts1)\n",
    "    test_tfidf = tfidf_transformer.transform(X_test_counts1)\n",
    "    return train_tfidf,test_tfidf\n",
    "\n",
    "train_tfidf,test_tfidf = TFIDF_builder(X_train_counts, X_test_counts)"
   ]
  },
  {
   "cell_type": "markdown",
   "metadata": {},
   "source": [
    "# probelm c)"
   ]
  },
  {
   "cell_type": "code",
   "execution_count": 9,
   "metadata": {},
   "outputs": [
    {
     "name": "stdout",
     "output_type": "stream",
     "text": [
      "(20, 10225)\n"
     ]
    }
   ],
   "source": [
    "#TFICF \n",
    "all_category = ['comp.sys.ibm.pc.hardware','comp.sys.mac.hardware','misc.forsale','soc.religion.christian','alt.atheism','comp.graphics','comp.os.ms-windows.misc','comp.windows.x','rec.autos','rec.motorcycles','rec.sport.baseball','rec.sport.hockey','sci.crypt','sci.electronics','sci.med','sci.space','talk.politics.guns','talk.politics.mideast','talk.politics.misc','talk.religion.misc']\n",
    "new_bigstring_class = []\n",
    "for cat in all_category:\n",
    "    new_train = fetch_20newsgroups(subset='train',categories = [cat], shuffle=True, random_state =42)\n",
    "    #stem\n",
    "    new_bigstring_class.append(\" \".join(new_train.data))\n",
    "# print(len(new_bigstring_class))\n",
    "count_vect_class = CountVectorizer(min_df=min_dfs[1],analyzer=stem_rmv_punc)\n",
    "new_tf_class= count_vect_class.fit_transform(new_bigstring_class)\n",
    "print(new_tf_class.shape)\n",
    "tficf_transformer = TfidfTransformer()\n",
    "train_tficf = tficf_transformer.fit_transform(new_tf_class)"
   ]
  },
  {
   "cell_type": "code",
   "execution_count": 10,
   "metadata": {},
   "outputs": [
    {
     "name": "stdout",
     "output_type": "stream",
     "text": [
      "['com', 'controller', 'drive', 'edu', 'ide', 'line', 'organization', 'scsi', 'subject', 'use']\n",
      "['apple', 'edu', 'line', 'mac', 'organization', 'post', 'problem', 'scsi', 'subject', 'use']\n",
      "['com', 'edu', 'line', 'new', 'offer', 'organization', 'post', 'sale', 'subject', 'university']\n",
      "['christian', 'church', 'edu', 'god', 'jesus', 'know', 'line', 'people', 'say', 'subject']\n"
     ]
    }
   ],
   "source": [
    "# find the top 10\n",
    "new_sort = train_tficf.toarray()\n",
    "#print(type(new_sort))\n",
    "index=[]\n",
    "i = 0\n",
    "for termCount in new_sort:\n",
    "    termCount.sort()\n",
    "    index.append(np.argwhere(train_tficf.toarray()[i]>=termCount[::-1][:10][-1]))\n",
    "    i+=1\n",
    "#print not in order\n",
    "for x in range(4):\n",
    "    print([count_vect_class.get_feature_names()[i[0]] for i in index[x] ])"
   ]
  },
  {
   "cell_type": "markdown",
   "metadata": {},
   "source": [
    "# Problem d)\n",
    "functions get LSI and NMF"
   ]
  },
  {
   "cell_type": "markdown",
   "metadata": {},
   "source": [
    "### Reimport the data and calculate TFxIDF"
   ]
  },
  {
   "cell_type": "code",
   "execution_count": 12,
   "metadata": {},
   "outputs": [],
   "source": [
    "from sklearn.datasets import fetch_20newsgroups\n",
    "comp_categories = [ 'comp.graphics', 'comp.os.ms-windows.misc', 'comp.sys.ibm.pc.hardware', 'comp.sys.mac.hardware']\n",
    "rec_categories = ['rec.autos', 'rec.motorcycles', 'rec.sport.baseball', 'rec.sport.hockey']\n",
    "twenty_train = fetch_20newsgroups(subset='train', categories=comp_categories+rec_categories, shuffle=True, random_state=42,)\n",
    "twenty_test = fetch_20newsgroups(subset='test', categories=comp_categories+rec_categories, shuffle=True, random_state=42,)\n",
    "\n",
    "X_train_counts,X_test_counts = TF_builder(5,twenty_train.data,twenty_test.data)\n",
    "train_tfidf,test_tfidf = TFIDF_builder(X_train_counts, X_test_counts)"
   ]
  },
  {
   "cell_type": "markdown",
   "metadata": {},
   "source": [
    "### LSI"
   ]
  },
  {
   "cell_type": "code",
   "execution_count": 13,
   "metadata": {},
   "outputs": [
    {
     "name": "stdout",
     "output_type": "stream",
     "text": [
      "(4732, 50)\n",
      "(3150, 50)\n"
     ]
    }
   ],
   "source": [
    "\n",
    "from sklearn.decomposition import TruncatedSVD\n",
    "def LSI_deduction(train_tfidf,test_tfidf):\n",
    "    SVD = TruncatedSVD(n_components=50)\n",
    "    train_LSI = SVD.fit_transform(train_tfidf)\n",
    "    test_LSI = SVD.transform(test_tfidf)\n",
    "    return train_LSI,test_LSI\n",
    "\n",
    "train_LSI,test_LSI = LSI_deduction(train_tfidf,test_tfidf)\n",
    "print(train_LSI.shape)\n",
    "print(test_LSI.shape)\n"
   ]
  },
  {
   "cell_type": "markdown",
   "metadata": {},
   "source": [
    "### NMF"
   ]
  },
  {
   "cell_type": "code",
   "execution_count": 14,
   "metadata": {},
   "outputs": [
    {
     "name": "stdout",
     "output_type": "stream",
     "text": [
      "(4732, 50)\n",
      "(3150, 50)\n"
     ]
    }
   ],
   "source": [
    "#NMF\n",
    "from sklearn.decomposition import NMF\n",
    "def NMF_deduction(train_tfidf,test_tfidf):\n",
    "    model = NMF(n_components=50, init='random', random_state=0)\n",
    "    train_NMF = model.fit_transform(train_tfidf)\n",
    "    test_NMF = model.transform(test_tfidf)\n",
    "    return train_NMF,test_NMF\n",
    "\n",
    "train_NMF,test_NMF = NMF_deduction(train_tfidf,test_tfidf)\n",
    "print(train_NMF.shape)\n",
    "print(test_NMF.shape)"
   ]
  },
  {
   "cell_type": "markdown",
   "metadata": {},
   "source": [
    "# Problem e) SVM"
   ]
  },
  {
   "cell_type": "markdown",
   "metadata": {},
   "source": [
    "### ROC plot function"
   ]
  },
  {
   "cell_type": "code",
   "execution_count": 15,
   "metadata": {},
   "outputs": [],
   "source": [
    "from sklearn.metrics import confusion_matrix\n",
    "from sklearn.metrics import precision_score\n",
    "from sklearn.metrics import recall_score\n",
    "from sklearn.metrics import roc_curve\n",
    "from sklearn.metrics import auc\n",
    "from sklearn.metrics import accuracy_score"
   ]
  },
  {
   "cell_type": "code",
   "execution_count": 16,
   "metadata": {},
   "outputs": [],
   "source": [
    "def plot_roc(fpr, tpr):\n",
    "    fig, ax = plt.subplots()\n",
    "\n",
    "    roc_auc = auc(fpr,tpr)\n",
    "\n",
    "    ax.plot(fpr, tpr, lw=2, label= 'area under curve = %0.4f' % roc_auc)\n",
    "\n",
    "    ax.grid(color='0.7', linestyle='--', linewidth=1)\n",
    "\n",
    "    ax.set_xlim([0, 1.1])\n",
    "    ax.set_ylim([0.0, 1.05])\n",
    "    ax.set_xlabel('False Positive Rate',fontsize=15)\n",
    "    ax.set_ylabel('True Positive Rate',fontsize=15)\n",
    "\n",
    "    ax.legend(loc=\"lower right\")\n",
    "\n",
    "    for label in ax.get_xticklabels()+ax.get_yticklabels():\n",
    "        label.set_fontsize(15)\n",
    "\n",
    "def fit_predict_and_plot_roc(pipe, train_data, train_label, test_data, test_label):\n",
    "    pipe.fit(train_data, train_label)\n",
    "    # pipeline1.predict(twenty_test.data)\n",
    "\n",
    "    prob_score = pipe.predict_proba(test_data)\n",
    "\n",
    "    fpr, tpr, _ = roc_curve(test_label, prob_score[:,1])\n",
    "\n",
    "    plot_roc(fpr, tpr)\n",
    "    return pipe\n",
    "\n",
    "def print_result(train_label, predicted_label):   \n",
    "    print(\"Confusion_matrix is \\n\", confusion_matrix(train_label,predicted_label))\n",
    "    print(\"Accuracy is \\n\",accuracy_score(train_label,predicted_label))\n",
    "    print(\"Recall score is \\n\", recall_score(train_label,predicted_label,average='macro'))\n",
    "    print(\"Precision score is \\n\", precision_score(train_label,predicted_label,average='macro'))"
   ]
  },
  {
   "cell_type": "code",
   "execution_count": 15,
   "metadata": {},
   "outputs": [],
   "source": [
    "# try plot with pipe\n",
    "\n",
    "\n",
    "# from sklearn.pipeline import Pipeline\n",
    "# pipeline_svm_hard = Pipeline([\n",
    "#     ('vect', CountVectorizer(min_df=5,analyzer=stem_rmv_punc)),\n",
    "#     ('tfidf', TfidfTransformer()),\n",
    "#     ('reduce_dim', NMF(n_components=50, init='random', random_state=0)),\n",
    "#     ('clf', svm.SVC(probability=True,C = 1000)),\n",
    "# ])\n",
    "\n",
    "# Pipe_svm_hard = fit_predict_and_plot_roc(pipeline_svm_hard, twenty_train.data, twenty_train.target>3, twenty_test.data, twenty_test.target>3)\n",
    "# # Calculate confusion matrix && accuracy && recall && precision \n",
    "# pred = Pipe_svm_hard.predict(twenty_test.data)#########\n",
    "# print_result(twenty_test.target>3,pred)\n",
    "\n"
   ]
  },
  {
   "cell_type": "markdown",
   "metadata": {},
   "source": [
    "### hard svm"
   ]
  },
  {
   "cell_type": "code",
   "execution_count": 17,
   "metadata": {},
   "outputs": [
    {
     "name": "stdout",
     "output_type": "stream",
     "text": [
      "Confusion_matrix is \n",
      " [[1500   60]\n",
      " [  36 1554]]\n",
      "Accuracy is \n",
      " 0.9695238095238096\n",
      "Recall score is \n",
      " 0.9694484760522497\n",
      "Precision score is \n",
      " 0.9696938894052045\n"
     ]
    },
    {
     "data": {
      "image/png": "[encoded data removed]",
      "text/plain": [
       "<matplotlib.figure.Figure at 0x12385cc88>"
      ]
     },
     "metadata": {},
     "output_type": "display_data"
    }
   ],
   "source": [
    "from sklearn.svm import SVC\n",
    "clf_SVM_hard = SVC(kernel='linear', probability=True,C = 1000)\n",
    "clf_SVM_hard.fit(train_LSI, twenty_train.target>3)\n",
    "pred = clf_SVM_hard.predict(test_LSI)\n",
    "prob_score = clf_SVM_hard.predict_proba(test_LSI)\n",
    "\n",
    "print_result(twenty_test.target>3,pred)\n",
    "fpr, tpr, _ = roc_curve(twenty_test.target>3, prob_score[:,1])\n",
    "plot_roc(fpr, tpr)"
   ]
  },
  {
   "cell_type": "markdown",
   "metadata": {},
   "source": [
    "### soft svm "
   ]
  },
  {
   "cell_type": "code",
   "execution_count": 18,
   "metadata": {},
   "outputs": [
    {
     "name": "stdout",
     "output_type": "stream",
     "text": [
      "Confusion_matrix is \n",
      " [[   0 1560]\n",
      " [   0 1590]]\n",
      "Accuracy is \n",
      " 0.5047619047619047\n",
      "Recall score is \n",
      " 0.5\n",
      "Precision score is \n",
      " 0.2523809523809524\n"
     ]
    },
    {
     "name": "stderr",
     "output_type": "stream",
     "text": [
      "/Users/shuangyu/ECE219_projects/project_1/.env/lib/python3.6/site-packages/sklearn/metrics/classification.py:1135: UndefinedMetricWarning: Precision is ill-defined and being set to 0.0 in labels with no predicted samples.\n",
      "  'precision', 'predicted', average, warn_for)\n"
     ]
    },
    {
     "data": {
      "image/png": "[encoded data removed]",
      "text/plain": [
       "<matplotlib.figure.Figure at 0x12385ca58>"
      ]
     },
     "metadata": {},
     "output_type": "display_data"
    }
   ],
   "source": [
    "clf_SVM_soft = SVC(kernel='linear', probability=True,C = 0.001)\n",
    "clf_SVM_soft.fit(train_LSI, twenty_train.target>3)\n",
    "pred = clf_SVM_soft.predict(test_LSI)\n",
    "prob_score = clf_SVM_soft.predict_proba(test_LSI)\n",
    "\n",
    "print_result(twenty_test.target>3,pred)\n",
    "fpr, tpr, _ = roc_curve(twenty_test.target>3, prob_score[:,1])\n",
    "plot_roc(fpr, tpr)"
   ]
  },
  {
   "cell_type": "markdown",
   "metadata": {},
   "source": [
    "# Problem f) cross validation\n",
    "find the best Gammaby "
   ]
  },
  {
   "cell_type": "code",
   "execution_count": 20,
   "metadata": {},
   "outputs": [
    {
     "name": "stdout",
     "output_type": "stream",
     "text": [
      "---------- k = -3 ----------\n",
      "Confusion_matrix is \n",
      " [[  0 513]\n",
      " [  0 434]]\n",
      "Accuracy is \n",
      " 0.4582893347412883\n",
      "Recall score is \n",
      " 0.5\n",
      "Precision score is \n",
      " 0.22914466737064415\n",
      "---------- k = -2 ----------\n"
     ]
    },
    {
     "name": "stderr",
     "output_type": "stream",
     "text": [
      "/Users/shuangyu/ECE219_projects/project_1/.env/lib/python3.6/site-packages/sklearn/metrics/classification.py:1135: UndefinedMetricWarning: Precision is ill-defined and being set to 0.0 in labels with no predicted samples.\n",
      "  'precision', 'predicted', average, warn_for)\n"
     ]
    },
    {
     "name": "stdout",
     "output_type": "stream",
     "text": [
      "Confusion_matrix is \n",
      " [[  0 513]\n",
      " [  0 434]]\n",
      "Accuracy is \n",
      " 0.4582893347412883\n",
      "Recall score is \n",
      " 0.5\n",
      "Precision score is \n",
      " 0.22914466737064415\n",
      "---------- k = -1 ----------\n",
      "Confusion_matrix is \n",
      " [[486  27]\n",
      " [  7 427]]\n",
      "Accuracy is \n",
      " 0.9640971488912354\n",
      "Recall score is \n",
      " 0.9656196943972835\n",
      "Precision score is \n",
      " 0.9631649256998864\n",
      "---------- k = 0 ----------\n",
      "Confusion_matrix is \n",
      " [[493  20]\n",
      " [  9 425]]\n",
      "Accuracy is \n",
      " 0.9693769799366421\n",
      "Recall score is \n",
      " 0.9701381590176157\n",
      "Precision score is \n",
      " 0.9685639464613456\n",
      "---------- k = 1 ----------\n",
      "Confusion_matrix is \n",
      " [[501  12]\n",
      " [  9 425]]\n",
      "Accuracy is \n",
      " 0.9778247096092925\n",
      "Recall score is \n",
      " 0.9779354299727814\n",
      "Precision score is \n",
      " 0.9774464934715305\n",
      "---------- k = 2 ----------\n",
      "Confusion_matrix is \n",
      " [[501  12]\n",
      " [ 10 424]]\n",
      "Accuracy is \n",
      " 0.9767687434002112\n",
      "Recall score is \n",
      " 0.9767833562400625\n",
      "Precision score is \n",
      " 0.9764537962979587\n",
      "---------- k = 3 ----------\n",
      "Confusion_matrix is \n",
      " [[501  12]\n",
      " [ 11 423]]\n",
      "Accuracy is \n",
      " 0.9757127771911299\n",
      "Recall score is \n",
      " 0.9756312825073437\n",
      "Precision score is \n",
      " 0.9754647090517241\n",
      "---------- k = -3 ----------\n",
      "Confusion_matrix is \n",
      " [[441   0]\n",
      " [506   0]]\n",
      "Accuracy is \n",
      " 0.4656810982048574\n",
      "Recall score is \n",
      " 0.5\n",
      "Precision score is \n",
      " 0.2328405491024287\n",
      "---------- k = -2 ----------\n",
      "Confusion_matrix is \n",
      " [[441   0]\n",
      " [506   0]]\n",
      "Accuracy is \n",
      " 0.4656810982048574\n",
      "Recall score is \n",
      " 0.5\n",
      "Precision score is \n",
      " 0.2328405491024287\n",
      "---------- k = -1 ----------\n",
      "Confusion_matrix is \n",
      " [[428  13]\n",
      " [ 10 496]]\n",
      "Accuracy is \n",
      " 0.9757127771911299\n",
      "Recall score is \n",
      " 0.9753793480501556\n",
      "Precision score is \n",
      " 0.9758143373612868\n",
      "---------- k = 0 ----------\n",
      "Confusion_matrix is \n",
      " [[428  13]\n",
      " [ 11 495]]\n",
      "Accuracy is \n",
      " 0.9746568109820486\n",
      "Recall score is \n",
      " 0.9743912057576654\n",
      "Precision score is \n",
      " 0.9746762506053486\n",
      "---------- k = 1 ----------\n",
      "Confusion_matrix is \n",
      " [[431  10]\n",
      " [ 10 496]]\n",
      "Accuracy is \n",
      " 0.9788806758183738\n",
      "Recall score is \n",
      " 0.9787807085943732\n",
      "Precision score is \n",
      " 0.9787807085943732\n",
      "---------- k = 2 ----------\n",
      "Confusion_matrix is \n",
      " [[432   9]\n",
      " [ 12 494]]\n",
      "Accuracy is \n",
      " 0.9778247096092925\n",
      "Recall score is \n",
      " 0.9779382108574655\n",
      "Precision score is \n",
      " 0.9775401644188921\n",
      "---------- k = 3 ----------\n",
      "Confusion_matrix is \n",
      " [[432   9]\n",
      " [ 12 494]]\n",
      "Accuracy is \n",
      " 0.9778247096092925\n",
      "Recall score is \n",
      " 0.9779382108574655\n",
      "Precision score is \n",
      " 0.9775401644188921\n",
      "---------- k = -3 ----------\n",
      "Confusion_matrix is \n",
      " [[  0 463]\n",
      " [  0 483]]\n",
      "Accuracy is \n",
      " 0.5105708245243129\n",
      "Recall score is \n",
      " 0.5\n",
      "Precision score is \n",
      " 0.25528541226215645\n",
      "---------- k = -2 ----------\n",
      "Confusion_matrix is \n",
      " [[  2 461]\n",
      " [  0 483]]\n",
      "Accuracy is \n",
      " 0.5126849894291755\n",
      "Recall score is \n",
      " 0.5021598272138229\n",
      "Precision score is \n",
      " 0.7558262711864407\n",
      "---------- k = -1 ----------\n",
      "Confusion_matrix is \n",
      " [[448  15]\n",
      " [ 17 466]]\n",
      "Accuracy is \n",
      " 0.9661733615221987\n",
      "Recall score is \n",
      " 0.966202952211028\n",
      "Precision score is \n",
      " 0.9661279145150113\n",
      "---------- k = 0 ----------\n",
      "Confusion_matrix is \n",
      " [[449  14]\n",
      " [ 18 465]]\n",
      "Accuracy is \n",
      " 0.9661733615221987\n",
      "Recall score is \n",
      " 0.966247669130569\n",
      "Precision score is \n",
      " 0.9661142726862262\n",
      "---------- k = 1 ----------\n",
      "Confusion_matrix is \n",
      " [[452  11]\n",
      " [ 18 465]]\n",
      "Accuracy is \n",
      " 0.9693446088794926\n",
      "Recall score is \n",
      " 0.9694874099513033\n",
      "Precision score is \n",
      " 0.9692964419810477\n",
      "---------- k = 2 ----------\n",
      "Confusion_matrix is \n",
      " [[455   8]\n",
      " [ 17 466]]\n",
      "Accuracy is \n",
      " 0.9735729386892178\n",
      "Recall score is \n",
      " 0.9737623474594082\n",
      "Precision score is \n",
      " 0.973552706858328\n",
      "---------- k = 3 ----------\n",
      "Confusion_matrix is \n",
      " [[455   8]\n",
      " [ 18 465]]\n",
      "Accuracy is \n",
      " 0.9725158562367865\n",
      "Recall score is \n",
      " 0.9727271507720376\n",
      "Precision score is \n",
      " 0.9725158562367865\n",
      "---------- k = -3 ----------\n",
      "Confusion_matrix is \n",
      " [[  0 465]\n",
      " [  0 481]]\n",
      "Accuracy is \n",
      " 0.5084566596194503\n",
      "Recall score is \n",
      " 0.5\n",
      "Precision score is \n",
      " 0.25422832980972515\n",
      "---------- k = -2 ----------\n",
      "Confusion_matrix is \n",
      " [[  2 463]\n",
      " [  0 481]]\n",
      "Accuracy is \n",
      " 0.5105708245243129\n",
      "Recall score is \n",
      " 0.5021505376344086\n",
      "Precision score is \n",
      " 0.7547669491525424\n",
      "---------- k = -1 ----------\n",
      "Confusion_matrix is \n",
      " [[441  24]\n",
      " [ 13 468]]\n",
      "Accuracy is \n",
      " 0.9608879492600423\n",
      "Recall score is \n",
      " 0.9606800348735833\n",
      "Precision score is \n",
      " 0.9612925754808208\n",
      "---------- k = 0 ----------\n",
      "Confusion_matrix is \n",
      " [[452  13]\n",
      " [ 14 467]]\n",
      "Accuracy is \n",
      " 0.9714587737843552\n",
      "Recall score is \n",
      " 0.9714684908233295\n",
      "Precision score is \n",
      " 0.9714368741058654\n",
      "---------- k = 1 ----------\n",
      "Confusion_matrix is \n",
      " [[453  12]\n",
      " [ 13 468]]\n",
      "Accuracy is \n",
      " 0.9735729386892178\n",
      "Recall score is \n",
      " 0.973583260680035\n",
      "Precision score is \n",
      " 0.9735515021459227\n",
      "---------- k = 2 ----------\n",
      "Confusion_matrix is \n",
      " [[453  12]\n",
      " [ 15 466]]\n",
      "Accuracy is \n",
      " 0.9714587737843552\n",
      "Recall score is \n",
      " 0.9715042586010328\n",
      "Precision score is \n",
      " 0.9714220577191288\n",
      "---------- k = 3 ----------\n",
      "Confusion_matrix is \n",
      " [[453  12]\n",
      " [ 15 466]]\n",
      "Accuracy is \n",
      " 0.9714587737843552\n",
      "Recall score is \n",
      " 0.9715042586010328\n",
      "Precision score is \n",
      " 0.9714220577191288\n",
      "---------- k = -3 ----------\n",
      "Confusion_matrix is \n",
      " [[  0 461]\n",
      " [  0 485]]\n",
      "Accuracy is \n",
      " 0.5126849894291755\n",
      "Recall score is \n",
      " 0.5\n",
      "Precision score is \n",
      " 0.25634249471458775\n",
      "---------- k = -2 ----------\n",
      "Confusion_matrix is \n",
      " [[  3 458]\n",
      " [  0 485]]\n",
      "Accuracy is \n",
      " 0.5158562367864693\n",
      "Recall score is \n",
      " 0.5032537960954447\n",
      "Precision score is \n",
      " 0.7571580063626724\n",
      "---------- k = -1 ----------\n",
      "Confusion_matrix is \n",
      " [[435  26]\n",
      " [ 12 473]]\n",
      "Accuracy is \n",
      " 0.959830866807611\n",
      "Recall score is \n",
      " 0.9594292998188608\n",
      "Precision score is \n",
      " 0.9605250769996369\n",
      "---------- k = 0 ----------\n",
      "Confusion_matrix is \n",
      " [[446  15]\n",
      " [ 13 472]]\n",
      "Accuracy is \n",
      " 0.9704016913319239\n",
      "Recall score is \n",
      " 0.9703289576671065\n",
      "Precision score is \n",
      " 0.970438369278809\n",
      "---------- k = 1 ----------\n",
      "Confusion_matrix is \n",
      " [[451  10]\n",
      " [ 14 471]]\n",
      "Accuracy is \n",
      " 0.9746300211416491\n",
      "Recall score is \n",
      " 0.9747210233244628\n",
      "Precision score is \n",
      " 0.9745512261641294\n",
      "---------- k = 2 ----------\n",
      "Confusion_matrix is \n",
      " [[453   8]\n",
      " [ 12 473]]\n",
      "Accuracy is \n",
      " 0.9788583509513742\n",
      "Recall score is \n",
      " 0.9789520763915289\n",
      "Precision score is \n",
      " 0.97878076587754\n",
      "---------- k = 3 ----------\n",
      "Confusion_matrix is \n",
      " [[450  11]\n",
      " [ 12 473]]\n",
      "Accuracy is \n",
      " 0.9756871035940803\n",
      "Recall score is \n",
      " 0.9756982802960843\n",
      "Precision score is \n",
      " 0.9756493506493507\n"
     ]
    }
   ],
   "source": [
    "from sklearn.model_selection import KFold\n",
    "ks = list(range(-3,4))\n",
    "#Kfold\n",
    "kf = KFold(n_splits=5)\n",
    "\n",
    "for train_index, test_index in kf.split(twenty_train.data):\n",
    "\n",
    "    data_train = np.array(twenty_train.data)[train_index]\n",
    "    data_test = np.array(twenty_train.data)[test_index]\n",
    "\n",
    "    target_train = np.array(twenty_train.target)[train_index]\n",
    "    target_test = np.array(twenty_train.target)[test_index]\n",
    "\n",
    "    data_train_counts,data_test_counts = TF_builder(5, data_train,data_test)\n",
    "    data_train_tfidf,data_test_tfidf = TFIDF_builder(data_train_counts,data_test_counts)\n",
    "    \n",
    "    data_train_LSI,data_test_LSI = LSI_deduction(data_train_tfidf,data_test_tfidf)\n",
    "    \n",
    "    for k in ks:\n",
    "        print(\"-\"*10,\"k =\",k,\"-\"*10)\n",
    "        clf_SVM = SVC(kernel='linear', probability=True,C = 10**k)\n",
    "        clf_SVM.fit(data_train_LSI, target_train>3)\n",
    "        pred = clf_SVM.predict(data_test_LSI)\n",
    "        prob_score = clf_SVM.predict_proba(data_test_LSI)\n",
    "\n",
    "        print_result(target_test>3,pred)\n",
    "        \n",
    "        \n",
    "    "
   ]
  },
  {
   "cell_type": "code",
   "execution_count": null,
   "metadata": {},
   "outputs": [],
   "source": []
  },
  {
   "cell_type": "markdown",
   "metadata": {},
   "source": [
    "# Problem g) Naive Bayes"
   ]
  },
  {
   "cell_type": "code",
   "execution_count": 22,
   "metadata": {},
   "outputs": [
    {
     "name": "stdout",
     "output_type": "stream",
     "text": [
      "Confusion_matrix is \n",
      " [[1415  145]\n",
      " [  35 1555]]\n",
      "Accuracy is \n",
      " 0.9428571428571428\n",
      "Recall score is \n",
      " 0.9425193517174649\n",
      "Precision score is \n",
      " 0.9452839756592292\n"
     ]
    },
    {
     "data": {
      "image/png": "[encoded data removed]",
      "text/plain": [
       "<matplotlib.figure.Figure at 0x114770a20>"
      ]
     },
     "metadata": {},
     "output_type": "display_data"
    }
   ],
   "source": [
    "#naive Bayes\n",
    "from sklearn.naive_bayes import MultinomialNB\n",
    "\n",
    "# X_train_counts,X_test_counts = TF_builder(min_df,twenty_train.data,twenty_test.data)\n",
    "# train_tfidf,test_tfidf = TFIDF_builder(X_train_counts, X_test_counts)\n",
    "# train_NMF,test_NMF = NMF_deduction(train_tfidf,test_tfidf)\n",
    "\n",
    "clf_NB = MultinomialNB().fit(train_NMF, twenty_train.target>3)\n",
    "pred = clf_NB.predict(test_NMF)\n",
    "prob_score = clf_NB.predict_proba(test_NMF)\n",
    "\n",
    "print_result(twenty_test.target>3,pred)\n",
    "fpr, tpr, _ = roc_curve(twenty_test.target>3, prob_score[:,1])\n",
    "plot_roc(fpr, tpr)\n",
    "\n"
   ]
  },
  {
   "cell_type": "markdown",
   "metadata": {},
   "source": [
    "# Problem h) Logistic Regression"
   ]
  },
  {
   "cell_type": "markdown",
   "metadata": {},
   "source": [
    "### L2 Norm"
   ]
  },
  {
   "cell_type": "code",
   "execution_count": 23,
   "metadata": {},
   "outputs": [
    {
     "name": "stdout",
     "output_type": "stream",
     "text": [
      "Confusion_matrix is \n",
      " [[1456  104]\n",
      " [  71 1519]]\n",
      "Accuracy is \n",
      " 0.9444444444444444\n",
      "Recall score is \n",
      " 0.9443396226415095\n",
      "Precision score is \n",
      " 0.94471236776834\n"
     ]
    },
    {
     "data": {
      "image/png": "[encoded data removed]",
      "text/plain": [
       "<matplotlib.figure.Figure at 0x11503fa58>"
      ]
     },
     "metadata": {},
     "output_type": "display_data"
    }
   ],
   "source": [
    "from sklearn.linear_model import LogisticRegression\n",
    "\n",
    "\n",
    "clf_LR = LogisticRegression().fit(train_NMF, twenty_train.target>3)\n",
    "pred = clf_LR.predict(test_NMF)\n",
    "prob_score = clf_LR.predict_proba(test_NMF)\n",
    "\n",
    "print_result(twenty_test.target>3,pred)\n",
    "fpr, tpr, _ = roc_curve(twenty_test.target>3, prob_score[:,1])\n",
    "plot_roc(fpr, tpr)"
   ]
  },
  {
   "cell_type": "markdown",
   "metadata": {},
   "source": [
    "# Problem I) Logistic Regression with regularization "
   ]
  },
  {
   "cell_type": "markdown",
   "metadata": {},
   "source": [
    "### L1 Norm with regulization "
   ]
  },
  {
   "cell_type": "code",
   "execution_count": 24,
   "metadata": {},
   "outputs": [
    {
     "name": "stdout",
     "output_type": "stream",
     "text": [
      "-------- C= -3 --------\n",
      "Confusion_matrix is \n",
      " [[1560    0]\n",
      " [1590    0]]\n",
      "Accuracy is \n",
      " 0.49523809523809526\n",
      "Recall score is \n",
      " 0.5\n",
      "Precision score is \n",
      " 0.24761904761904763\n",
      "-------- C= -2 --------\n",
      "Confusion_matrix is \n",
      " [[1560    0]\n",
      " [1590    0]]\n",
      "Accuracy is \n",
      " 0.49523809523809526\n",
      "Recall score is \n",
      " 0.5\n",
      "Precision score is \n",
      " 0.24761904761904763\n",
      "-------- C= -1 --------\n",
      "Confusion_matrix is \n",
      " [[1404  156]\n",
      " [ 519 1071]]\n",
      "Accuracy is \n",
      " 0.7857142857142857\n",
      "Recall score is \n",
      " 0.7867924528301886\n",
      "Precision score is \n",
      " 0.801484920032498\n",
      "-------- C= 0 --------\n",
      "Confusion_matrix is \n",
      " [[1490   70]\n",
      " [  44 1546]]\n",
      "Accuracy is \n",
      " 0.9638095238095238\n",
      "Recall score is \n",
      " 0.9637276245766813\n",
      "Precision score is \n",
      " 0.9639999935456387\n",
      "-------- C= 1 --------\n",
      "Confusion_matrix is \n",
      " [[1491   69]\n",
      " [  49 1541]]\n",
      "Accuracy is \n",
      " 0.9625396825396826\n",
      "Recall score is \n",
      " 0.9624758103531689\n",
      "Precision score is \n",
      " 0.9626623376623377\n",
      "-------- C= 2 --------\n"
     ]
    },
    {
     "name": "stderr",
     "output_type": "stream",
     "text": [
      "/Users/Roy/Desktop/ECE219/ECE219_projects/project_1/.env/lib/python3.6/site-packages/sklearn/metrics/classification.py:1135: UndefinedMetricWarning: Precision is ill-defined and being set to 0.0 in labels with no predicted samples.\n",
      "  'precision', 'predicted', average, warn_for)\n"
     ]
    },
    {
     "name": "stdout",
     "output_type": "stream",
     "text": [
      "Confusion_matrix is \n",
      " [[1492   68]\n",
      " [  53 1537]]\n",
      "Accuracy is \n",
      " 0.9615873015873015\n",
      "Recall score is \n",
      " 0.9615384615384616\n",
      "Precision score is \n",
      " 0.9616640958170765\n",
      "-------- C= 3 --------\n",
      "Confusion_matrix is \n",
      " [[1492   68]\n",
      " [  54 1536]]\n",
      "Accuracy is \n",
      " 0.9612698412698413\n",
      "Recall score is \n",
      " 0.9612239961296565\n",
      "Precision score is \n",
      " 0.9613385681978752\n"
     ]
    }
   ],
   "source": [
    "Cs = list(range(-3,4))\n",
    "for C in Cs:\n",
    "    print('-'*8,\"C=\",C,\"-\"*8)\n",
    "    clf_LR = LogisticRegression(penalty='l1', C = 10**C).fit(train_NMF, twenty_train.target>3)\n",
    "    pred = clf_LR.predict(test_NMF)\n",
    "    prob_score = clf_LR.predict_proba(test_NMF)\n",
    "    \n",
    "    print_result(twenty_test.target>3,pred)\n",
    "#     fpr, tpr, _ = roc_curve(twenty_test.target>3, prob_score[:,1])\n",
    "#     plot_roc(fpr, tpr)\n",
    "    \n",
    "    "
   ]
  },
  {
   "cell_type": "markdown",
   "metadata": {},
   "source": [
    "### Norm l2 with regulization"
   ]
  },
  {
   "cell_type": "code",
   "execution_count": 25,
   "metadata": {},
   "outputs": [
    {
     "name": "stdout",
     "output_type": "stream",
     "text": [
      "-------- C= -3 --------\n",
      "Confusion_matrix is \n",
      " [[   0 1560]\n",
      " [   0 1590]]\n",
      "Accuracy is \n",
      " 0.5047619047619047\n",
      "Recall score is \n",
      " 0.5\n",
      "Precision score is \n",
      " 0.2523809523809524\n",
      "-------- C= -2 --------\n",
      "Confusion_matrix is \n",
      " [[ 217 1343]\n",
      " [   0 1590]]\n",
      "Accuracy is \n",
      " 0.5736507936507936\n",
      "Recall score is \n",
      " 0.569551282051282\n",
      "Precision score is \n",
      " 0.771053528810092\n",
      "-------- C= -1 --------\n",
      "Confusion_matrix is \n",
      " [[1382  178]\n",
      " [  64 1526]]\n",
      "Accuracy is \n",
      " 0.9231746031746032\n",
      "Recall score is \n",
      " 0.9228229317851959\n",
      "Precision score is \n",
      " 0.9256399392203846\n",
      "-------- C= 0 --------\n",
      "Confusion_matrix is \n",
      " [[1456  104]\n",
      " [  71 1519]]\n",
      "Accuracy is \n",
      " 0.9444444444444444\n",
      "Recall score is \n",
      " 0.9443396226415095\n",
      "Precision score is \n",
      " 0.94471236776834\n",
      "-------- C= 1 --------\n",
      "Confusion_matrix is \n",
      " [[1466   94]\n",
      " [  54 1536]]\n",
      "Accuracy is \n",
      " 0.953015873015873\n",
      "Recall score is \n",
      " 0.9528906627963232\n",
      "Precision score is \n",
      " 0.9534024862770423\n",
      "-------- C= 2 --------\n",
      "Confusion_matrix is \n",
      " [[1476   84]\n",
      " [  52 1538]]\n",
      "Accuracy is \n",
      " 0.9568253968253968\n",
      "Recall score is \n",
      " 0.9567247218190614\n",
      "Precision score is \n",
      " 0.9570903351172684\n",
      "-------- C= 3 --------\n"
     ]
    },
    {
     "name": "stderr",
     "output_type": "stream",
     "text": [
      "/Users/Roy/Desktop/ECE219/ECE219_projects/project_1/.env/lib/python3.6/site-packages/sklearn/metrics/classification.py:1135: UndefinedMetricWarning: Precision is ill-defined and being set to 0.0 in labels with no predicted samples.\n",
      "  'precision', 'predicted', average, warn_for)\n"
     ]
    },
    {
     "name": "stdout",
     "output_type": "stream",
     "text": [
      "Confusion_matrix is \n",
      " [[1488   72]\n",
      " [  52 1538]]\n",
      "Accuracy is \n",
      " 0.9606349206349206\n",
      "Recall score is \n",
      " 0.9605708756652154\n",
      "Precision score is \n",
      " 0.9607566346696781\n"
     ]
    }
   ],
   "source": [
    "Cs = list(range(-3,4))\n",
    "for C in Cs:\n",
    "    print('-'*8,\"C=\",C,\"-\"*8)\n",
    "    clf_LR = LogisticRegression(penalty='l2', C = 10**C).fit(train_NMF, twenty_train.target>3)\n",
    "    pred = clf_LR.predict(test_NMF)\n",
    "    prob_score = clf_LR.predict_proba(test_NMF)\n",
    "    \n",
    "    print_result(twenty_test.target>3,pred)"
   ]
  },
  {
   "cell_type": "markdown",
   "metadata": {},
   "source": [
    "# Problem ii) Multiclass Classification"
   ]
  },
  {
   "cell_type": "code",
   "execution_count": 26,
   "metadata": {},
   "outputs": [
    {
     "name": "stdout",
     "output_type": "stream",
     "text": [
      "(2352, 12339) (1565, 12339)\n",
      "(2352, 50)\n",
      "(2352, 50)\n"
     ]
    }
   ],
   "source": [
    "# Get data from 4 categories \n",
    "from sklearn.datasets import fetch_20newsgroups\n",
    "categories_multi = ['comp.sys.ibm.pc.hardware','comp.sys.mac.hardware','misc.forsale','soc.religion.christian']\n",
    "train_multi = fetch_20newsgroups(subset='train', categories=categories_multi, shuffle=True, random_state=42,)\n",
    "test_multi = fetch_20newsgroups(subset='test', categories=categories_multi, shuffle=True, random_state=42,)\n",
    "\n",
    "# Perform tfidf on documents from these 4 categories (min_df = 2)\n",
    "TF_train_multi,TF_test_multi = TF_builder(min_dfs[0],train_multi.data,test_multi.data)\n",
    "print(TF_train_multi.shape, TF_test_multi.shape)\n",
    "train_multi_tfidf,test_multi_tfidf = TFIDF_builder(TF_train_multi, TF_test_multi)\n",
    "\n",
    "# NMF on tfidf\n",
    "train_multi_NMF,test_multi_NMF = NMF_deduction(train_multi_tfidf,test_multi_tfidf)\n",
    "print(train_multi_NMF.shape)\n",
    "\n",
    "# LSI of tfidf\n",
    "train_multi_LSI,test_multi_LSI = LSI_deduction(train_multi_tfidf,test_multi_tfidf)\n",
    "print(train_multi_LSI.shape)"
   ]
  },
  {
   "cell_type": "markdown",
   "metadata": {},
   "source": [
    "### Naive Bayes Classification"
   ]
  },
  {
   "cell_type": "code",
   "execution_count": 27,
   "metadata": {},
   "outputs": [
    {
     "name": "stdout",
     "output_type": "stream",
     "text": [
      "Confusion_matrix is \n",
      " [[318  25  43   6]\n",
      " [ 99 238  43   5]\n",
      " [ 68  14 289  19]\n",
      " [  1   0   4 393]]\n",
      "Accuracy is \n",
      " 0.7910543130990415\n",
      "Recall score is \n",
      " 0.7894672837332564\n",
      "Precision score is \n",
      " 0.8012844398855866\n"
     ]
    }
   ],
   "source": [
    "#naive Bayes classifier\n",
    "from sklearn.naive_bayes import MultinomialNB\n",
    "clf_multiNB = MultinomialNB().fit(train_multi_NMF, train_multi.target)\n",
    "pred_NB = clf_multiNB.predict(test_multi_NMF)\n",
    "prob_score_NB = clf_multiNB.predict_proba(test_multi_NMF)\n",
    "\n",
    "#print out result\n",
    "print_result(test_multi.target,pred_NB)"
   ]
  },
  {
   "cell_type": "markdown",
   "metadata": {},
   "source": [
    "### SVM one-to-one (NMF)"
   ]
  },
  {
   "cell_type": "code",
   "execution_count": 28,
   "metadata": {
    "scrolled": true
   },
   "outputs": [
    {
     "name": "stdout",
     "output_type": "stream",
     "text": [
      "Confusion_matrix is \n",
      " [[328  38  26   0]\n",
      " [ 72 285  26   2]\n",
      " [ 46  15 326   3]\n",
      " [ 10   0   7 381]]\n",
      "Accuracy is \n",
      " 0.8434504792332268\n",
      "Recall score is \n",
      " 0.8425445755488828\n",
      "Precision score is \n",
      " 0.8490733476909559\n"
     ]
    }
   ],
   "source": [
    "# SVC assumes the one-vs-one as a multiclass classifier\n",
    "from sklearn.svm import SVC\n",
    "clf_SVM_multi = SVC(kernel='linear', C = 100)\n",
    "clf_SVM_multi.fit(train_multi_NMF,train_multi.target)\n",
    "pred_NMF = clf_SVM_multi.predict(test_multi_NMF)\n",
    "\n",
    "#print out result\n",
    "print_result(test_multi.target,pred_NMF)"
   ]
  },
  {
   "cell_type": "markdown",
   "metadata": {},
   "source": [
    "### SVM one-to-one (LSI)"
   ]
  },
  {
   "cell_type": "code",
   "execution_count": 29,
   "metadata": {},
   "outputs": [
    {
     "name": "stdout",
     "output_type": "stream",
     "text": [
      "Confusion_matrix is \n",
      " [[328  34  29   1]\n",
      " [ 42 319  24   0]\n",
      " [ 22  19 347   2]\n",
      " [  4   1   1 392]]\n",
      "Accuracy is \n",
      " 0.8856230031948882\n",
      "Recall score is \n",
      " 0.8849935838270369\n",
      "Precision score is \n",
      " 0.8853131079914038\n"
     ]
    }
   ],
   "source": [
    "clf_SVM_multi = SVC(kernel='linear', C = 100)\n",
    "clf_SVM_multi.fit(train_multi_LSI,train_multi.target)\n",
    "pred_LSI = clf_SVM_multi.predict(test_multi_LSI)\n",
    "\n",
    "#print out result\n",
    "print_result(test_multi.target,pred_LSI)"
   ]
  },
  {
   "cell_type": "markdown",
   "metadata": {},
   "source": [
    "### SVM one-to-rest(NMF)"
   ]
  },
  {
   "cell_type": "code",
   "execution_count": 30,
   "metadata": {},
   "outputs": [
    {
     "name": "stdout",
     "output_type": "stream",
     "text": [
      "Confusion_matrix is \n",
      " [[293  68  28   3]\n",
      " [ 53 303  25   4]\n",
      " [ 32  17 336   5]\n",
      " [  3   0   3 392]]\n",
      "Accuracy is \n",
      " 0.8460063897763578\n",
      "Recall score is \n",
      " 0.8452312628147158\n",
      "Precision score is \n",
      " 0.8443491483221125\n"
     ]
    }
   ],
   "source": [
    "# LinearSVC assumes one-vs-rest implementation of a multiclass classifier\n",
    "from sklearn.svm import LinearSVC\n",
    "clf_SVM_multi = LinearSVC(loss=\"hinge\", C = 100)\n",
    "clf_SVM_multi.fit(train_multi_NMF,train_multi.target)\n",
    "pred_NMF = clf_SVM_multi.predict(test_multi_NMF)\n",
    "\n",
    "#print out result\n",
    "print_result(test_multi.target,pred_NMF)"
   ]
  },
  {
   "cell_type": "markdown",
   "metadata": {},
   "source": [
    "### SVM one-to-rest(LSI) "
   ]
  },
  {
   "cell_type": "code",
   "execution_count": 31,
   "metadata": {},
   "outputs": [
    {
     "name": "stdout",
     "output_type": "stream",
     "text": [
      "Confusion_matrix is \n",
      " [[315  51  25   1]\n",
      " [ 36 324  23   2]\n",
      " [ 19  18 351   2]\n",
      " [  2   1   2 393]]\n",
      "Accuracy is \n",
      " 0.8837060702875399\n",
      "Recall score is \n",
      " 0.8831417640148795\n",
      "Precision score is \n",
      " 0.88296453138925\n"
     ]
    }
   ],
   "source": [
    "# LinearSVC assumes one-vs-rest implementation of a multiclass classifier\n",
    "from sklearn.svm import LinearSVC\n",
    "clf_SVM_multi = LinearSVC(loss=\"hinge\", C = 100)\n",
    "clf_SVM_multi.fit(train_multi_LSI,train_multi.target)\n",
    "pred_LSI = clf_SVM_multi.predict(test_multi_LSI)\n",
    "\n",
    "#print out result\n",
    "print_result(test_multi.target,pred_LSI)"
   ]
  },
  {
   "cell_type": "code",
   "execution_count": null,
   "metadata": {},
   "outputs": [],
   "source": []
  }
 ],
 "metadata": {
  "kernelspec": {
   "display_name": "Python 3",
   "language": "python",
   "name": "python3"
  },
  "language_info": {
   "codemirror_mode": {
    "name": "ipython",
    "version": 3
   },
   "file_extension": ".py",
   "mimetype": "text/x-python",
   "name": "python",
   "nbconvert_exporter": "python",
   "pygments_lexer": "ipython3",
   "version": "3.6.4"
  }
 },
 "nbformat": 4,
 "nbformat_minor": 2
}
