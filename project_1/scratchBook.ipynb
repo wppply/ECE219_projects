{
 "cells": [
  {
   "cell_type": "markdown",
   "metadata": {},
   "source": [
    "# Problem a)"
   ]
  },
  {
   "cell_type": "code",
   "execution_count": 2,
   "metadata": {},
   "outputs": [
    {
     "name": "stdout",
     "output_type": "stream",
     "text": [
      "[584, 591, 590, 578, 594, 598, 597, 600]\n"
     ]
    },
    {
     "data": {
      "text/plain": [
       "<Container object of 8 artists>"
      ]
     },
     "execution_count": 2,
     "metadata": {},
     "output_type": "execute_result"
    },
    {
     "data": {
      "image/png": "[encoded data removed]",
      "text/plain": [
       "<matplotlib.figure.Figure at 0x10304d860>"
      ]
     },
     "metadata": {},
     "output_type": "display_data"
    }
   ],
   "source": [
    "from sklearn.datasets import fetch_20newsgroups\n",
    "import matplotlib.pyplot as plt\n",
    "import numpy as np\n",
    "\n",
    "\n",
    "categories =['comp.graphics','comp.os.ms-windows.misc','comp.sys.ibm.pc.hardware','comp.sys.mac.hardware','rec.autos','rec.motorcycles','rec.sport.baseball','rec.sport.hockey']\n",
    "dataLen = []\n",
    "train_datas =[]\n",
    "for cat in categories:\n",
    "    raw_train = fetch_20newsgroups(subset='train',categories = [cat],shuffle=True, random_state =42)\n",
    "    train_datas.append(raw_train.data)\n",
    "    dataLen.append(len(raw_train.data))\n",
    "print(dataLen)\n",
    "# the histogram of the data\n",
    "plt.barh(categories,dataLen)"
   ]
  },
  {
   "cell_type": "markdown",
   "metadata": {},
   "source": [
    "# Problem b)"
   ]
  },
  {
   "cell_type": "markdown",
   "metadata": {},
   "source": [
    "### Stopping words"
   ]
  },
  {
   "cell_type": "code",
   "execution_count": 3,
   "metadata": {},
   "outputs": [
    {
     "name": "stdout",
     "output_type": "stream",
     "text": [
      "[nltk_data] Downloading package stopwords to /Users/Roy/nltk_data...\n",
      "[nltk_data]   Package stopwords is already up-to-date!\n"
     ]
    }
   ],
   "source": [
    "# tokenize -> stem -> remove punctuation & stop words\n",
    "import numpy as np\n",
    "import nltk\n",
    "import matplotlib.pyplot as plt\n",
    "from pickle import dump\n",
    "\n",
    "from sklearn.feature_extraction import text\n",
    "stop_words_skt = text.ENGLISH_STOP_WORDS\n",
    "from nltk.corpus import stopwords\n",
    "nltk.download('stopwords' )\n",
    "stop_words_en = stopwords.words('english')\n",
    "from string import punctuation\n",
    "combined_stopwords = set.union(set(stop_words_en),set(punctuation),set(stop_words_skt))\n",
    "\n"
   ]
  },
  {
   "cell_type": "markdown",
   "metadata": {},
   "source": [
    "### lemmatizer"
   ]
  },
  {
   "cell_type": "code",
   "execution_count": 4,
   "metadata": {},
   "outputs": [
    {
     "name": "stdout",
     "output_type": "stream",
     "text": [
      "[nltk_data] Downloading package punkt to /Users/Roy/nltk_data...\n",
      "[nltk_data]   Package punkt is already up-to-date!\n",
      "[nltk_data] Downloading package averaged_perceptron_tagger to\n",
      "[nltk_data]     /Users/Roy/nltk_data...\n",
      "[nltk_data]   Package averaged_perceptron_tagger is already up-to-\n",
      "[nltk_data]       date!\n",
      "[nltk_data] Downloading package wordnet to /Users/Roy/nltk_data...\n",
      "[nltk_data]   Package wordnet is already up-to-date!\n"
     ]
    }
   ],
   "source": [
    "import nltk\n",
    "nltk.download('punkt')\n",
    "nltk.download('averaged_perceptron_tagger')\n",
    "nltk.download('wordnet')\n",
    "from nltk import pos_tag\n",
    "#nltk.download('punkt')#, if you need \"tokenizers/punkt/english.pickle\", choose it\n",
    "# nltk.download('averaged_perceptron_tagger')\n",
    "wnl = nltk.wordnet.WordNetLemmatizer()\n",
    "\n",
    "def penn2morphy(penntag):\n",
    "    \"\"\" Converts Penn Treebank tags to WordNet. \"\"\"\n",
    "    morphy_tag = {'NN':'n', 'JJ':'a',\n",
    "                  'VB':'v', 'RB':'r'}\n",
    "    try:\n",
    "        return morphy_tag[penntag[:2]]\n",
    "    except:\n",
    "        return 'n' \n",
    "def lemmatize_sent_demo(text): \n",
    "    # Text input is string, returns array of lowercased strings(words).\n",
    "    return [wnl.lemmatize(word.lower(), pos=penn2morphy(tag)) \n",
    "            for word, tag in pos_tag(nltk.word_tokenize(text))]\n",
    "def lemmatize_sent(list_word): \n",
    "    # Text input is string, returns array of lowercased strings(words).\n",
    "    return [wnl.lemmatize(word.lower(), pos=penn2morphy(tag)) \n",
    "            for word, tag in pos_tag(list_word)]\n",
    "# lemmatize_sent('He is walking to school')"
   ]
  },
  {
   "cell_type": "code",
   "execution_count": 5,
   "metadata": {},
   "outputs": [],
   "source": [
    "# overwrite analyzer with callable function:\n",
    "from sklearn.feature_extraction.text import CountVectorizer\n",
    "analyzer = CountVectorizer().build_analyzer()\n",
    "def stemmed_words(doc):\n",
    "    return (stemmer.stem(w) for w in analyzer(doc))\n",
    "def stem_rmv_punc(doc):\n",
    "    return (word for word in lemmatize_sent(analyzer(doc)) if word not in combined_stopwords and not word.isdigit())"
   ]
  },
  {
   "cell_type": "code",
   "execution_count": 6,
   "metadata": {},
   "outputs": [],
   "source": [
    "# tokenize -> stem -> remove punctuation & stop words\n",
    "import numpy as np\n",
    "import matplotlib.pyplot as plt\n",
    "from pickle import dump\n",
    "\n",
    "from sklearn.datasets import fetch_20newsgroups\n",
    "comp_categories = [ 'comp.graphics', 'comp.os.ms-windows.misc', 'comp.sys.ibm.pc.hardware', 'comp.sys.mac.hardware']\n",
    "rec_categories = ['rec.autos', 'rec.motorcycles', 'rec.sport.baseball', 'rec.sport.hockey']\n",
    "twenty_train = fetch_20newsgroups(subset='train', categories=comp_categories+rec_categories, shuffle=True, random_state=42,)\n",
    "twenty_test = fetch_20newsgroups(subset='test', categories=comp_categories+rec_categories, shuffle=True, random_state=42,)\n",
    "counts = []"
   ]
  },
  {
   "cell_type": "markdown",
   "metadata": {},
   "source": [
    "### TFxIDF"
   ]
  },
  {
   "cell_type": "code",
   "execution_count": 7,
   "metadata": {},
   "outputs": [
    {
     "name": "stdout",
     "output_type": "stream",
     "text": [
      "[5]\n",
      "(4732, 10396) (3150, 10396)\n"
     ]
    }
   ],
   "source": [
    "from sklearn.feature_extraction.text import CountVectorizer\n",
    "min_dfs = [2,5] \n",
    "print(min_dfs[1:])\n",
    "def TF_builder(min_df,twenty_train,twenty_test):\n",
    "    count_vect = CountVectorizer(min_df=min_df,analyzer=stem_rmv_punc)\n",
    "    X_train_counts = count_vect.fit_transform(twenty_train)\n",
    "    X_test_counts = count_vect.transform(twenty_test)\n",
    "    return X_train_counts,X_test_counts\n",
    "\n",
    "for min_df in min_dfs[1:]:\n",
    "    X_train_counts,X_test_counts = TF_builder(min_df,twenty_train.data,twenty_test.data)\n",
    "    print(X_train_counts.shape, X_test_counts.shape) "
   ]
  },
  {
   "cell_type": "code",
   "execution_count": 8,
   "metadata": {},
   "outputs": [],
   "source": [
    "#TDIDF of 8 classes\n",
    "from sklearn.feature_extraction.text import TfidfTransformer\n",
    "\n",
    "def TFIDF_builder(X_train_counts1,X_test_counts1 ):\n",
    "    tfidf_transformer = TfidfTransformer()\n",
    "    train_tfidf = tfidf_transformer.fit_transform(X_train_counts1)\n",
    "    test_tfidf = tfidf_transformer.transform(X_test_counts1)\n",
    "    return train_tfidf,test_tfidf\n",
    "\n",
    "train_tfidf,test_tfidf = TFIDF_builder(X_train_counts, X_test_counts)"
   ]
  },
  {
   "cell_type": "markdown",
   "metadata": {},
   "source": [
    "# probelm c)"
   ]
  },
  {
   "cell_type": "code",
   "execution_count": 9,
   "metadata": {},
   "outputs": [
    {
     "name": "stdout",
     "output_type": "stream",
     "text": [
      "(20, 10225)\n"
     ]
    }
   ],
   "source": [
    "#TFICF \n",
    "all_category = ['comp.sys.ibm.pc.hardware','comp.sys.mac.hardware','misc.forsale','soc.religion.christian','alt.atheism','comp.graphics','comp.os.ms-windows.misc','comp.windows.x','rec.autos','rec.motorcycles','rec.sport.baseball','rec.sport.hockey','sci.crypt','sci.electronics','sci.med','sci.space','talk.politics.guns','talk.politics.mideast','talk.politics.misc','talk.religion.misc']\n",
    "new_bigstring_class = []\n",
    "for cat in all_category:\n",
    "    new_train = fetch_20newsgroups(subset='train',categories = [cat], shuffle=True, random_state =42)\n",
    "    #stem\n",
    "    new_bigstring_class.append(\" \".join(new_train.data))\n",
    "# print(len(new_bigstring_class))\n",
    "count_vect_class = CountVectorizer(min_df=min_dfs[1],analyzer=stem_rmv_punc)\n",
    "new_tf_class= count_vect_class.fit_transform(new_bigstring_class)\n",
    "print(new_tf_class.shape)\n",
    "tficf_transformer = TfidfTransformer()\n",
    "train_tficf = tficf_transformer.fit_transform(new_tf_class)"
   ]
  },
  {
   "cell_type": "code",
   "execution_count": 10,
   "metadata": {},
   "outputs": [
    {
     "name": "stdout",
     "output_type": "stream",
     "text": [
      "['com', 'controller', 'drive', 'edu', 'ide', 'line', 'organization', 'scsi', 'subject', 'use']\n",
      "['apple', 'edu', 'line', 'mac', 'organization', 'post', 'problem', 'scsi', 'subject', 'use']\n",
      "['com', 'edu', 'line', 'new', 'offer', 'organization', 'post', 'sale', 'subject', 'university']\n",
      "['christian', 'church', 'edu', 'god', 'jesus', 'know', 'line', 'people', 'say', 'subject']\n"
     ]
    }
   ],
   "source": [
    "# find the top 10\n",
    "new_sort = train_tficf.toarray()\n",
    "#print(type(new_sort))\n",
    "index=[]\n",
    "i = 0\n",
    "for termCount in new_sort:\n",
    "    termCount.sort()\n",
    "    index.append(np.argwhere(train_tficf.toarray()[i]>=termCount[::-1][:10][-1]))\n",
    "    i+=1\n",
    "#print not in order\n",
    "for x in range(4):\n",
    "    print([count_vect_class.get_feature_names()[i[0]] for i in index[x] ])"
   ]
  },
  {
   "cell_type": "markdown",
   "metadata": {},
   "source": [
    "# Problem d)\n",
    "functions get LSI and NMF"
   ]
  },
  {
   "cell_type": "markdown",
   "metadata": {},
   "source": [
    "### LSI"
   ]
  },
  {
   "cell_type": "code",
   "execution_count": 11,
   "metadata": {},
   "outputs": [
    {
     "name": "stdout",
     "output_type": "stream",
     "text": [
      "(4732, 50)\n",
      "(3150, 50)\n"
     ]
    }
   ],
   "source": [
    "\n",
    "from sklearn.decomposition import TruncatedSVD\n",
    "def LSI_deduction(train_tfidf,test_tfidf):\n",
    "    SVD = TruncatedSVD(n_components=50)\n",
    "    train_LSI = SVD.fit_transform(train_tfidf)\n",
    "    test_LSI = SVD.transform(test_tfidf)\n",
    "    return train_LSI,test_LSI\n",
    "\n",
    "train_LSI,test_LSI = LSI_deduction(train_tfidf,test_tfidf)\n",
    "print(train_LSI.shape)\n",
    "print(test_LSI.shape)\n"
   ]
  },
  {
   "cell_type": "markdown",
   "metadata": {},
   "source": [
    "### NMF"
   ]
  },
  {
   "cell_type": "code",
   "execution_count": 12,
   "metadata": {},
   "outputs": [
    {
     "name": "stdout",
     "output_type": "stream",
     "text": [
      "(4732, 50)\n",
      "(3150, 50)\n"
     ]
    }
   ],
   "source": [
    "#NMF\n",
    "from sklearn.decomposition import NMF\n",
    "def NMF_deduction(train_tfidf,test_tfidf):\n",
    "    model = NMF(n_components=50, init='random', random_state=0)\n",
    "    train_NMF = model.fit_transform(train_tfidf)\n",
    "    test_NMF = model.transform(test_tfidf)\n",
    "    return train_NMF,test_NMF\n",
    "\n",
    "train_NMF,test_NMF = NMF_deduction(train_tfidf,test_tfidf)\n",
    "print(train_NMF.shape)\n",
    "print(test_NMF.shape)"
   ]
  },
  {
   "cell_type": "markdown",
   "metadata": {},
   "source": [
    "# Problem e) SVM"
   ]
  },
  {
   "cell_type": "markdown",
   "metadata": {},
   "source": [
    "### ROC plot function"
   ]
  },
  {
   "cell_type": "code",
   "execution_count": 13,
   "metadata": {},
   "outputs": [],
   "source": [
    "from sklearn.metrics import confusion_matrix\n",
    "from sklearn.metrics import precision_score\n",
    "from sklearn.metrics import recall_score\n",
    "from sklearn.metrics import roc_curve\n",
    "from sklearn.metrics import auc\n",
    "from sklearn.metrics import accuracy_score"
   ]
  },
  {
   "cell_type": "code",
   "execution_count": 14,
   "metadata": {},
   "outputs": [],
   "source": [
    "def plot_roc(fpr, tpr):\n",
    "    fig, ax = plt.subplots()\n",
    "\n",
    "    roc_auc = auc(fpr,tpr)\n",
    "\n",
    "    ax.plot(fpr, tpr, lw=2, label= 'area under curve = %0.4f' % roc_auc)\n",
    "\n",
    "    ax.grid(color='0.7', linestyle='--', linewidth=1)\n",
    "\n",
    "    ax.set_xlim([0, 1.1])\n",
    "    ax.set_ylim([0.0, 1.05])\n",
    "    ax.set_xlabel('False Positive Rate',fontsize=15)\n",
    "    ax.set_ylabel('True Positive Rate',fontsize=15)\n",
    "\n",
    "    ax.legend(loc=\"lower right\")\n",
    "\n",
    "    for label in ax.get_xticklabels()+ax.get_yticklabels():\n",
    "        label.set_fontsize(15)\n",
    "\n",
    "def fit_predict_and_plot_roc(pipe, train_data, train_label, test_data, test_label):\n",
    "    pipe.fit(train_data, train_label)\n",
    "    # pipeline1.predict(twenty_test.data)\n",
    "\n",
    "    prob_score = pipe.predict_proba(test_data)\n",
    "\n",
    "    fpr, tpr, _ = roc_curve(test_label, prob_score[:,1])\n",
    "\n",
    "    plot_roc(fpr, tpr)\n",
    "    return pipe\n",
    "\n",
    "def print_result(train_label, predicted_label):   \n",
    "    print(\"Confusion_matrix is \\n\", confusion_matrix(train_label,predicted_label))\n",
    "    print(\"Accuracy is \\n\",accuracy_score(train_label,predicted_label))\n",
    "    print(\"Recall score is \\n\", recall_score(train_label,predicted_label,average='macro'))\n",
    "    print(\"Precision score is \\n\", precision_score(train_label,predicted_label,average='macro'))"
   ]
  },
  {
   "cell_type": "code",
   "execution_count": 15,
   "metadata": {},
   "outputs": [],
   "source": [
    "# try plot with pipe\n",
    "\n",
    "\n",
    "# from sklearn.pipeline import Pipeline\n",
    "# pipeline_svm_hard = Pipeline([\n",
    "#     ('vect', CountVectorizer(min_df=5,analyzer=stem_rmv_punc)),\n",
    "#     ('tfidf', TfidfTransformer()),\n",
    "#     ('reduce_dim', NMF(n_components=50, init='random', random_state=0)),\n",
    "#     ('clf', svm.SVC(probability=True,C = 1000)),\n",
    "# ])\n",
    "\n",
    "# Pipe_svm_hard = fit_predict_and_plot_roc(pipeline_svm_hard, twenty_train.data, twenty_train.target>3, twenty_test.data, twenty_test.target>3)\n",
    "# # Calculate confusion matrix && accuracy && recall && precision \n",
    "# pred = Pipe_svm_hard.predict(twenty_test.data)#########\n",
    "# print_result(twenty_test.target>3,pred)\n",
    "\n"
   ]
  },
  {
   "cell_type": "markdown",
   "metadata": {},
   "source": [
    "### hard svm"
   ]
  },
  {
   "cell_type": "code",
   "execution_count": 18,
   "metadata": {},
   "outputs": [
    {
     "name": "stdout",
     "output_type": "stream",
     "text": [
      "Confusion_matrix is \n",
      " [[1493   67]\n",
      " [  27 1563]]\n",
      "Accuracy is \n",
      " 0.9701587301587301\n",
      "Recall score is \n",
      " 0.9700350749879052\n",
      "Precision score is \n",
      " 0.9705662738133678\n"
     ]
    },
    {
     "data": {
      "image/png": "[encoded data removed]",
      "text/plain": [
       "<matplotlib.figure.Figure at 0x114dad748>"
      ]
     },
     "metadata": {},
     "output_type": "display_data"
    }
   ],
   "source": [
    "from sklearn.svm import SVC\n",
    "clf_SVM_hard = SVC(kernel='linear', probability=True,C = 1000)\n",
    "clf_SVM_hard.fit(train_LSI, twenty_train.target>3)\n",
    "pred = clf_SVM_hard.predict(test_LSI)\n",
    "prob_score = clf_SVM_hard.predict_proba(test_LSI)\n",
    "\n",
    "print_result(twenty_test.target>3,pred)\n",
    "fpr, tpr, _ = roc_curve(twenty_test.target>3, prob_score[:,1])\n",
    "plot_roc(fpr, tpr)"
   ]
  },
  {
   "cell_type": "markdown",
   "metadata": {},
   "source": [
    "### soft svm "
   ]
  },
  {
   "cell_type": "code",
   "execution_count": 19,
   "metadata": {},
   "outputs": [
    {
     "name": "stdout",
     "output_type": "stream",
     "text": [
      "Confusion_matrix is \n",
      " [[   0 1560]\n",
      " [   0 1590]]\n",
      "Accuracy is \n",
      " 0.5047619047619047\n",
      "Recall score is \n",
      " 0.5\n",
      "Precision score is \n",
      " 0.2523809523809524\n"
     ]
    },
    {
     "name": "stderr",
     "output_type": "stream",
     "text": [
      "/Users/Roy/Desktop/ECE219/ECE219_projects/project_1/.env/lib/python3.6/site-packages/sklearn/metrics/classification.py:1135: UndefinedMetricWarning: Precision is ill-defined and being set to 0.0 in labels with no predicted samples.\n",
      "  'precision', 'predicted', average, warn_for)\n"
     ]
    },
    {
     "data": {
      "image/png": "[encoded data removed]",
      "text/plain": [
       "<matplotlib.figure.Figure at 0x101d2f470>"
      ]
     },
     "metadata": {},
     "output_type": "display_data"
    }
   ],
   "source": [
    "clf_SVM_soft = SVC(kernel='linear', probability=True,C = 0.001)\n",
    "clf_SVM_soft.fit(train_LSI, twenty_train.target>3)\n",
    "pred = clf_SVM_soft.predict(test_LSI)\n",
    "prob_score = clf_SVM_soft.predict_proba(test_LSI)\n",
    "\n",
    "print_result(twenty_test.target>3,pred)\n",
    "fpr, tpr, _ = roc_curve(twenty_test.target>3, prob_score[:,1])\n",
    "plot_roc(fpr, tpr)"
   ]
  },
  {
   "cell_type": "markdown",
   "metadata": {},
   "source": [
    "# Problem f) cross validation\n",
    "find the best Gammaby "
   ]
  },
  {
   "cell_type": "code",
   "execution_count": 21,
   "metadata": {},
   "outputs": [
    {
     "name": "stdout",
     "output_type": "stream",
     "text": [
      "---------- k = -3 ----------\n"
     ]
    },
    {
     "ename": "ValueError",
     "evalue": "Found input variables with inconsistent numbers of samples: [947, 3150]",
     "output_type": "error",
     "traceback": [
      "\u001b[0;31m---------------------------------------------------------------------------\u001b[0m",
      "\u001b[0;31mValueError\u001b[0m                                Traceback (most recent call last)",
      "\u001b[0;32m<ipython-input-21-76d64aca6661>\u001b[0m in \u001b[0;36m<module>\u001b[0;34m()\u001b[0m\n\u001b[1;32m     24\u001b[0m         \u001b[0mprob_score\u001b[0m \u001b[0;34m=\u001b[0m \u001b[0mclf_SVM\u001b[0m\u001b[0;34m.\u001b[0m\u001b[0mpredict_proba\u001b[0m\u001b[0;34m(\u001b[0m\u001b[0mtest_NMF\u001b[0m\u001b[0;34m)\u001b[0m\u001b[0;34m\u001b[0m\u001b[0m\n\u001b[1;32m     25\u001b[0m \u001b[0;34m\u001b[0m\u001b[0m\n\u001b[0;32m---> 26\u001b[0;31m         \u001b[0mprint_result\u001b[0m\u001b[0;34m(\u001b[0m\u001b[0mtwenty_train\u001b[0m\u001b[0;34m.\u001b[0m\u001b[0mtarget\u001b[0m\u001b[0;34m[\u001b[0m\u001b[0mtest_index\u001b[0m\u001b[0;34m]\u001b[0m\u001b[0;34m>\u001b[0m\u001b[0;36m3\u001b[0m\u001b[0;34m,\u001b[0m\u001b[0mpred\u001b[0m\u001b[0;34m)\u001b[0m\u001b[0;34m\u001b[0m\u001b[0m\n\u001b[0m\u001b[1;32m     27\u001b[0m \u001b[0;34m\u001b[0m\u001b[0m\n\u001b[1;32m     28\u001b[0m \u001b[0;34m\u001b[0m\u001b[0m\n",
      "\u001b[0;32m<ipython-input-14-de215ec5bcf8>\u001b[0m in \u001b[0;36mprint_result\u001b[0;34m(train_label, predicted_label)\u001b[0m\n\u001b[1;32m     30\u001b[0m \u001b[0;34m\u001b[0m\u001b[0m\n\u001b[1;32m     31\u001b[0m \u001b[0;32mdef\u001b[0m \u001b[0mprint_result\u001b[0m\u001b[0;34m(\u001b[0m\u001b[0mtrain_label\u001b[0m\u001b[0;34m,\u001b[0m \u001b[0mpredicted_label\u001b[0m\u001b[0;34m)\u001b[0m\u001b[0;34m:\u001b[0m\u001b[0;34m\u001b[0m\u001b[0m\n\u001b[0;32m---> 32\u001b[0;31m     \u001b[0mprint\u001b[0m\u001b[0;34m(\u001b[0m\u001b[0;34m\"Confusion_matrix is \\n\"\u001b[0m\u001b[0;34m,\u001b[0m \u001b[0mconfusion_matrix\u001b[0m\u001b[0;34m(\u001b[0m\u001b[0mtrain_label\u001b[0m\u001b[0;34m,\u001b[0m\u001b[0mpredicted_label\u001b[0m\u001b[0;34m)\u001b[0m\u001b[0;34m)\u001b[0m\u001b[0;34m\u001b[0m\u001b[0m\n\u001b[0m\u001b[1;32m     33\u001b[0m     \u001b[0mprint\u001b[0m\u001b[0;34m(\u001b[0m\u001b[0;34m\"Accuracy is \\n\"\u001b[0m\u001b[0;34m,\u001b[0m\u001b[0maccuracy_score\u001b[0m\u001b[0;34m(\u001b[0m\u001b[0mtrain_label\u001b[0m\u001b[0;34m,\u001b[0m\u001b[0mpredicted_label\u001b[0m\u001b[0;34m)\u001b[0m\u001b[0;34m)\u001b[0m\u001b[0;34m\u001b[0m\u001b[0m\n\u001b[1;32m     34\u001b[0m     \u001b[0mprint\u001b[0m\u001b[0;34m(\u001b[0m\u001b[0;34m\"Recall score is \\n\"\u001b[0m\u001b[0;34m,\u001b[0m \u001b[0mrecall_score\u001b[0m\u001b[0;34m(\u001b[0m\u001b[0mtrain_label\u001b[0m\u001b[0;34m,\u001b[0m\u001b[0mpredicted_label\u001b[0m\u001b[0;34m,\u001b[0m\u001b[0maverage\u001b[0m\u001b[0;34m=\u001b[0m\u001b[0;34m'macro'\u001b[0m\u001b[0;34m)\u001b[0m\u001b[0;34m)\u001b[0m\u001b[0;34m\u001b[0m\u001b[0m\n",
      "\u001b[0;32m~/Desktop/ECE219/ECE219_projects/project_1/.env/lib/python3.6/site-packages/sklearn/metrics/classification.py\u001b[0m in \u001b[0;36mconfusion_matrix\u001b[0;34m(y_true, y_pred, labels, sample_weight)\u001b[0m\n\u001b[1;32m    248\u001b[0m \u001b[0;34m\u001b[0m\u001b[0m\n\u001b[1;32m    249\u001b[0m     \"\"\"\n\u001b[0;32m--> 250\u001b[0;31m     \u001b[0my_type\u001b[0m\u001b[0;34m,\u001b[0m \u001b[0my_true\u001b[0m\u001b[0;34m,\u001b[0m \u001b[0my_pred\u001b[0m \u001b[0;34m=\u001b[0m \u001b[0m_check_targets\u001b[0m\u001b[0;34m(\u001b[0m\u001b[0my_true\u001b[0m\u001b[0;34m,\u001b[0m \u001b[0my_pred\u001b[0m\u001b[0;34m)\u001b[0m\u001b[0;34m\u001b[0m\u001b[0m\n\u001b[0m\u001b[1;32m    251\u001b[0m     \u001b[0;32mif\u001b[0m \u001b[0my_type\u001b[0m \u001b[0;32mnot\u001b[0m \u001b[0;32min\u001b[0m \u001b[0;34m(\u001b[0m\u001b[0;34m\"binary\"\u001b[0m\u001b[0;34m,\u001b[0m \u001b[0;34m\"multiclass\"\u001b[0m\u001b[0;34m)\u001b[0m\u001b[0;34m:\u001b[0m\u001b[0;34m\u001b[0m\u001b[0m\n\u001b[1;32m    252\u001b[0m         \u001b[0;32mraise\u001b[0m \u001b[0mValueError\u001b[0m\u001b[0;34m(\u001b[0m\u001b[0;34m\"%s is not supported\"\u001b[0m \u001b[0;34m%\u001b[0m \u001b[0my_type\u001b[0m\u001b[0;34m)\u001b[0m\u001b[0;34m\u001b[0m\u001b[0m\n",
      "\u001b[0;32m~/Desktop/ECE219/ECE219_projects/project_1/.env/lib/python3.6/site-packages/sklearn/metrics/classification.py\u001b[0m in \u001b[0;36m_check_targets\u001b[0;34m(y_true, y_pred)\u001b[0m\n\u001b[1;32m     69\u001b[0m     \u001b[0my_pred\u001b[0m \u001b[0;34m:\u001b[0m \u001b[0marray\u001b[0m \u001b[0;32mor\u001b[0m \u001b[0mindicator\u001b[0m \u001b[0mmatrix\u001b[0m\u001b[0;34m\u001b[0m\u001b[0m\n\u001b[1;32m     70\u001b[0m     \"\"\"\n\u001b[0;32m---> 71\u001b[0;31m     \u001b[0mcheck_consistent_length\u001b[0m\u001b[0;34m(\u001b[0m\u001b[0my_true\u001b[0m\u001b[0;34m,\u001b[0m \u001b[0my_pred\u001b[0m\u001b[0;34m)\u001b[0m\u001b[0;34m\u001b[0m\u001b[0m\n\u001b[0m\u001b[1;32m     72\u001b[0m     \u001b[0mtype_true\u001b[0m \u001b[0;34m=\u001b[0m \u001b[0mtype_of_target\u001b[0m\u001b[0;34m(\u001b[0m\u001b[0my_true\u001b[0m\u001b[0;34m)\u001b[0m\u001b[0;34m\u001b[0m\u001b[0m\n\u001b[1;32m     73\u001b[0m     \u001b[0mtype_pred\u001b[0m \u001b[0;34m=\u001b[0m \u001b[0mtype_of_target\u001b[0m\u001b[0;34m(\u001b[0m\u001b[0my_pred\u001b[0m\u001b[0;34m)\u001b[0m\u001b[0;34m\u001b[0m\u001b[0m\n",
      "\u001b[0;32m~/Desktop/ECE219/ECE219_projects/project_1/.env/lib/python3.6/site-packages/sklearn/utils/validation.py\u001b[0m in \u001b[0;36mcheck_consistent_length\u001b[0;34m(*arrays)\u001b[0m\n\u001b[1;32m    202\u001b[0m     \u001b[0;32mif\u001b[0m \u001b[0mlen\u001b[0m\u001b[0;34m(\u001b[0m\u001b[0muniques\u001b[0m\u001b[0;34m)\u001b[0m \u001b[0;34m>\u001b[0m \u001b[0;36m1\u001b[0m\u001b[0;34m:\u001b[0m\u001b[0;34m\u001b[0m\u001b[0m\n\u001b[1;32m    203\u001b[0m         raise ValueError(\"Found input variables with inconsistent numbers of\"\n\u001b[0;32m--> 204\u001b[0;31m                          \" samples: %r\" % [int(l) for l in lengths])\n\u001b[0m\u001b[1;32m    205\u001b[0m \u001b[0;34m\u001b[0m\u001b[0m\n\u001b[1;32m    206\u001b[0m \u001b[0;34m\u001b[0m\u001b[0m\n",
      "\u001b[0;31mValueError\u001b[0m: Found input variables with inconsistent numbers of samples: [947, 3150]"
     ]
    }
   ],
   "source": [
    "from sklearn.model_selection import KFold\n",
    "ks = list(range(-3,4))\n",
    "#Kfold\n",
    "kf = KFold(n_splits=5)\n",
    "\n",
    "for train_index, test_index in kf.split(twenty_train.data):\n",
    "\n",
    "    data_train = np.array(twenty_train.data)[train_index]\n",
    "    data_test = np.array(twenty_train.data)[test_index]\n",
    "\n",
    "    target_train = np.array(twenty_train.target)[train_index]\n",
    "    target_test = np.array(twenty_train.target)[test_index]\n",
    "\n",
    "    data_train_counts,data_test_counts = TF_builder(5, data_train,data_test)\n",
    "    data_train_tfidf,data_test_tfidf = TFIDF_builder(data_train_counts,data_test_counts)\n",
    "    \n",
    "    data_train_NMF,data_test_NMF = NMF_deduction(data_train_tfidf,data_test_tfidf)\n",
    "    \n",
    "    for k in ks:\n",
    "        print(\"-\"*10,\"k =\",k,\"-\"*10)\n",
    "        clf_SVM = SVC(kernel='linear', probability=True,C = 10**k)\n",
    "        clf_SVM.fit(train_LSI, twenty_train.target>3)\n",
    "        pred = clf_SVM.predict(test_NMF)\n",
    "        prob_score = clf_SVM.predict_proba(test_NMF)\n",
    "        \n",
    "        print_result(twenty_train.target[test_index]>3,pred)\n",
    "        \n",
    "        \n",
    "    "
   ]
  },
  {
   "cell_type": "markdown",
   "metadata": {},
   "source": [
    "# Problem g) Naive Bayes"
   ]
  },
  {
   "cell_type": "code",
   "execution_count": 22,
   "metadata": {},
   "outputs": [
    {
     "name": "stdout",
     "output_type": "stream",
     "text": [
      "Confusion_matrix is \n",
      " [[1415  145]\n",
      " [  35 1555]]\n",
      "Accuracy is \n",
      " 0.9428571428571428\n",
      "Recall score is \n",
      " 0.9425193517174649\n",
      "Precision score is \n",
      " 0.9452839756592292\n"
     ]
    },
    {
     "data": {
      "image/png": "[encoded data removed]",
      "text/plain": [
       "<matplotlib.figure.Figure at 0x114770a20>"
      ]
     },
     "metadata": {},
     "output_type": "display_data"
    }
   ],
   "source": [
    "#naive Bayes\n",
    "from sklearn.naive_bayes import MultinomialNB\n",
    "\n",
    "# X_train_counts,X_test_counts = TF_builder(min_df,twenty_train.data,twenty_test.data)\n",
    "# train_tfidf,test_tfidf = TFIDF_builder(X_train_counts, X_test_counts)\n",
    "# train_NMF,test_NMF = NMF_deduction(train_tfidf,test_tfidf)\n",
    "\n",
    "clf_NB = MultinomialNB().fit(train_NMF, twenty_train.target>3)\n",
    "pred = clf_NB.predict(test_NMF)\n",
    "prob_score = clf_NB.predict_proba(test_NMF)\n",
    "\n",
    "print_result(twenty_test.target>3,pred)\n",
    "fpr, tpr, _ = roc_curve(twenty_test.target>3, prob_score[:,1])\n",
    "plot_roc(fpr, tpr)\n",
    "\n"
   ]
  },
  {
   "cell_type": "markdown",
   "metadata": {},
   "source": [
    "# Problem h) Logistic Regression"
   ]
  },
  {
   "cell_type": "markdown",
   "metadata": {},
   "source": [
    "### L2 Norm"
   ]
  },
  {
   "cell_type": "code",
   "execution_count": 23,
   "metadata": {},
   "outputs": [
    {
     "name": "stdout",
     "output_type": "stream",
     "text": [
      "Confusion_matrix is \n",
      " [[1456  104]\n",
      " [  71 1519]]\n",
      "Accuracy is \n",
      " 0.9444444444444444\n",
      "Recall score is \n",
      " 0.9443396226415095\n",
      "Precision score is \n",
      " 0.94471236776834\n"
     ]
    },
    {
     "data": {
      "image/png": "[encoded data removed]",
      "text/plain": [
       "<matplotlib.figure.Figure at 0x11503fa58>"
      ]
     },
     "metadata": {},
     "output_type": "display_data"
    }
   ],
   "source": [
    "from sklearn.linear_model import LogisticRegression\n",
    "\n",
    "\n",
    "clf_LR = LogisticRegression().fit(train_NMF, twenty_train.target>3)\n",
    "pred = clf_LR.predict(test_NMF)\n",
    "prob_score = clf_LR.predict_proba(test_NMF)\n",
    "\n",
    "print_result(twenty_test.target>3,pred)\n",
    "fpr, tpr, _ = roc_curve(twenty_test.target>3, prob_score[:,1])\n",
    "plot_roc(fpr, tpr)"
   ]
  },
  {
   "cell_type": "markdown",
   "metadata": {},
   "source": [
    "# Problem I) Logistic Regression with regularization "
   ]
  },
  {
   "cell_type": "markdown",
   "metadata": {},
   "source": [
    "### L1 Norm with regulization "
   ]
  },
  {
   "cell_type": "code",
   "execution_count": 24,
   "metadata": {},
   "outputs": [
    {
     "name": "stdout",
     "output_type": "stream",
     "text": [
      "-------- C= -3 --------\n",
      "Confusion_matrix is \n",
      " [[1560    0]\n",
      " [1590    0]]\n",
      "Accuracy is \n",
      " 0.49523809523809526\n",
      "Recall score is \n",
      " 0.5\n",
      "Precision score is \n",
      " 0.24761904761904763\n",
      "-------- C= -2 --------\n",
      "Confusion_matrix is \n",
      " [[1560    0]\n",
      " [1590    0]]\n",
      "Accuracy is \n",
      " 0.49523809523809526\n",
      "Recall score is \n",
      " 0.5\n",
      "Precision score is \n",
      " 0.24761904761904763\n",
      "-------- C= -1 --------\n",
      "Confusion_matrix is \n",
      " [[1404  156]\n",
      " [ 519 1071]]\n",
      "Accuracy is \n",
      " 0.7857142857142857\n",
      "Recall score is \n",
      " 0.7867924528301886\n",
      "Precision score is \n",
      " 0.801484920032498\n",
      "-------- C= 0 --------\n",
      "Confusion_matrix is \n",
      " [[1490   70]\n",
      " [  44 1546]]\n",
      "Accuracy is \n",
      " 0.9638095238095238\n",
      "Recall score is \n",
      " 0.9637276245766813\n",
      "Precision score is \n",
      " 0.9639999935456387\n",
      "-------- C= 1 --------\n",
      "Confusion_matrix is \n",
      " [[1491   69]\n",
      " [  49 1541]]\n",
      "Accuracy is \n",
      " 0.9625396825396826\n",
      "Recall score is \n",
      " 0.9624758103531689\n",
      "Precision score is \n",
      " 0.9626623376623377\n",
      "-------- C= 2 --------\n"
     ]
    },
    {
     "name": "stderr",
     "output_type": "stream",
     "text": [
      "/Users/Roy/Desktop/ECE219/ECE219_projects/project_1/.env/lib/python3.6/site-packages/sklearn/metrics/classification.py:1135: UndefinedMetricWarning: Precision is ill-defined and being set to 0.0 in labels with no predicted samples.\n",
      "  'precision', 'predicted', average, warn_for)\n"
     ]
    },
    {
     "name": "stdout",
     "output_type": "stream",
     "text": [
      "Confusion_matrix is \n",
      " [[1492   68]\n",
      " [  53 1537]]\n",
      "Accuracy is \n",
      " 0.9615873015873015\n",
      "Recall score is \n",
      " 0.9615384615384616\n",
      "Precision score is \n",
      " 0.9616640958170765\n",
      "-------- C= 3 --------\n",
      "Confusion_matrix is \n",
      " [[1492   68]\n",
      " [  54 1536]]\n",
      "Accuracy is \n",
      " 0.9612698412698413\n",
      "Recall score is \n",
      " 0.9612239961296565\n",
      "Precision score is \n",
      " 0.9613385681978752\n"
     ]
    }
   ],
   "source": [
    "Cs = list(range(-3,4))\n",
    "for C in Cs:\n",
    "    print('-'*8,\"C=\",C,\"-\"*8)\n",
    "    clf_LR = LogisticRegression(penalty='l1', C = 10**C).fit(train_NMF, twenty_train.target>3)\n",
    "    pred = clf_LR.predict(test_NMF)\n",
    "    prob_score = clf_LR.predict_proba(test_NMF)\n",
    "    \n",
    "    print_result(twenty_test.target>3,pred)\n",
    "#     fpr, tpr, _ = roc_curve(twenty_test.target>3, prob_score[:,1])\n",
    "#     plot_roc(fpr, tpr)\n",
    "    \n",
    "    "
   ]
  },
  {
   "cell_type": "markdown",
   "metadata": {},
   "source": [
    "### Norm l2 with regulization"
   ]
  },
  {
   "cell_type": "code",
   "execution_count": 25,
   "metadata": {},
   "outputs": [
    {
     "name": "stdout",
     "output_type": "stream",
     "text": [
      "-------- C= -3 --------\n",
      "Confusion_matrix is \n",
      " [[   0 1560]\n",
      " [   0 1590]]\n",
      "Accuracy is \n",
      " 0.5047619047619047\n",
      "Recall score is \n",
      " 0.5\n",
      "Precision score is \n",
      " 0.2523809523809524\n",
      "-------- C= -2 --------\n",
      "Confusion_matrix is \n",
      " [[ 217 1343]\n",
      " [   0 1590]]\n",
      "Accuracy is \n",
      " 0.5736507936507936\n",
      "Recall score is \n",
      " 0.569551282051282\n",
      "Precision score is \n",
      " 0.771053528810092\n",
      "-------- C= -1 --------\n",
      "Confusion_matrix is \n",
      " [[1382  178]\n",
      " [  64 1526]]\n",
      "Accuracy is \n",
      " 0.9231746031746032\n",
      "Recall score is \n",
      " 0.9228229317851959\n",
      "Precision score is \n",
      " 0.9256399392203846\n",
      "-------- C= 0 --------\n",
      "Confusion_matrix is \n",
      " [[1456  104]\n",
      " [  71 1519]]\n",
      "Accuracy is \n",
      " 0.9444444444444444\n",
      "Recall score is \n",
      " 0.9443396226415095\n",
      "Precision score is \n",
      " 0.94471236776834\n",
      "-------- C= 1 --------\n",
      "Confusion_matrix is \n",
      " [[1466   94]\n",
      " [  54 1536]]\n",
      "Accuracy is \n",
      " 0.953015873015873\n",
      "Recall score is \n",
      " 0.9528906627963232\n",
      "Precision score is \n",
      " 0.9534024862770423\n",
      "-------- C= 2 --------\n",
      "Confusion_matrix is \n",
      " [[1476   84]\n",
      " [  52 1538]]\n",
      "Accuracy is \n",
      " 0.9568253968253968\n",
      "Recall score is \n",
      " 0.9567247218190614\n",
      "Precision score is \n",
      " 0.9570903351172684\n",
      "-------- C= 3 --------\n"
     ]
    },
    {
     "name": "stderr",
     "output_type": "stream",
     "text": [
      "/Users/Roy/Desktop/ECE219/ECE219_projects/project_1/.env/lib/python3.6/site-packages/sklearn/metrics/classification.py:1135: UndefinedMetricWarning: Precision is ill-defined and being set to 0.0 in labels with no predicted samples.\n",
      "  'precision', 'predicted', average, warn_for)\n"
     ]
    },
    {
     "name": "stdout",
     "output_type": "stream",
     "text": [
      "Confusion_matrix is \n",
      " [[1488   72]\n",
      " [  52 1538]]\n",
      "Accuracy is \n",
      " 0.9606349206349206\n",
      "Recall score is \n",
      " 0.9605708756652154\n",
      "Precision score is \n",
      " 0.9607566346696781\n"
     ]
    }
   ],
   "source": [
    "Cs = list(range(-3,4))\n",
    "for C in Cs:\n",
    "    print('-'*8,\"C=\",C,\"-\"*8)\n",
    "    clf_LR = LogisticRegression(penalty='l2', C = 10**C).fit(train_NMF, twenty_train.target>3)\n",
    "    pred = clf_LR.predict(test_NMF)\n",
    "    prob_score = clf_LR.predict_proba(test_NMF)\n",
    "    \n",
    "    print_result(twenty_test.target>3,pred)"
   ]
  },
  {
   "cell_type": "markdown",
   "metadata": {},
   "source": [
    "# Problem ii) Multiclass Classification"
   ]
  },
  {
   "cell_type": "code",
   "execution_count": 26,
   "metadata": {},
   "outputs": [
    {
     "name": "stdout",
     "output_type": "stream",
     "text": [
      "(2352, 12339) (1565, 12339)\n",
      "(2352, 50)\n",
      "(2352, 50)\n"
     ]
    }
   ],
   "source": [
    "# Get data from 4 categories \n",
    "from sklearn.datasets import fetch_20newsgroups\n",
    "categories_multi = ['comp.sys.ibm.pc.hardware','comp.sys.mac.hardware','misc.forsale','soc.religion.christian']\n",
    "train_multi = fetch_20newsgroups(subset='train', categories=categories_multi, shuffle=True, random_state=42,)\n",
    "test_multi = fetch_20newsgroups(subset='test', categories=categories_multi, shuffle=True, random_state=42,)\n",
    "\n",
    "# Perform tfidf on documents from these 4 categories (min_df = 2)\n",
    "TF_train_multi,TF_test_multi = TF_builder(min_dfs[0],train_multi.data,test_multi.data)\n",
    "print(TF_train_multi.shape, TF_test_multi.shape)\n",
    "train_multi_tfidf,test_multi_tfidf = TFIDF_builder(TF_train_multi, TF_test_multi)\n",
    "\n",
    "# NMF on tfidf\n",
    "train_multi_NMF,test_multi_NMF = NMF_deduction(train_multi_tfidf,test_multi_tfidf)\n",
    "print(train_multi_NMF.shape)\n",
    "\n",
    "# LSI of tfidf\n",
    "train_multi_LSI,test_multi_LSI = LSI_deduction(train_multi_tfidf,test_multi_tfidf)\n",
    "print(train_multi_LSI.shape)"
   ]
  },
  {
   "cell_type": "markdown",
   "metadata": {},
   "source": [
    "### Naive Bayes Classification"
   ]
  },
  {
   "cell_type": "code",
   "execution_count": 27,
   "metadata": {},
   "outputs": [
    {
     "name": "stdout",
     "output_type": "stream",
     "text": [
      "Confusion_matrix is \n",
      " [[318  25  43   6]\n",
      " [ 99 238  43   5]\n",
      " [ 68  14 289  19]\n",
      " [  1   0   4 393]]\n",
      "Accuracy is \n",
      " 0.7910543130990415\n",
      "Recall score is \n",
      " 0.7894672837332564\n",
      "Precision score is \n",
      " 0.8012844398855866\n"
     ]
    }
   ],
   "source": [
    "#naive Bayes classifier\n",
    "from sklearn.naive_bayes import MultinomialNB\n",
    "clf_multiNB = MultinomialNB().fit(train_multi_NMF, train_multi.target)\n",
    "pred_NB = clf_multiNB.predict(test_multi_NMF)\n",
    "prob_score_NB = clf_multiNB.predict_proba(test_multi_NMF)\n",
    "\n",
    "#print out result\n",
    "print_result(test_multi.target,pred_NB)"
   ]
  },
  {
   "cell_type": "markdown",
   "metadata": {},
   "source": [
    "### SVM one-to-one (NMF)"
   ]
  },
  {
   "cell_type": "code",
   "execution_count": 28,
   "metadata": {
    "scrolled": true
   },
   "outputs": [
    {
     "name": "stdout",
     "output_type": "stream",
     "text": [
      "Confusion_matrix is \n",
      " [[328  38  26   0]\n",
      " [ 72 285  26   2]\n",
      " [ 46  15 326   3]\n",
      " [ 10   0   7 381]]\n",
      "Accuracy is \n",
      " 0.8434504792332268\n",
      "Recall score is \n",
      " 0.8425445755488828\n",
      "Precision score is \n",
      " 0.8490733476909559\n"
     ]
    }
   ],
   "source": [
    "# SVC assumes the one-vs-one as a multiclass classifier\n",
    "from sklearn.svm import SVC\n",
    "clf_SVM_multi = SVC(kernel='linear', C = 100)\n",
    "clf_SVM_multi.fit(train_multi_NMF,train_multi.target)\n",
    "pred_NMF = clf_SVM_multi.predict(test_multi_NMF)\n",
    "\n",
    "#print out result\n",
    "print_result(test_multi.target,pred_NMF)"
   ]
  },
  {
   "cell_type": "markdown",
   "metadata": {},
   "source": [
    "### SVM one-to-one (LSI)"
   ]
  },
  {
   "cell_type": "code",
   "execution_count": 29,
   "metadata": {},
   "outputs": [
    {
     "name": "stdout",
     "output_type": "stream",
     "text": [
      "Confusion_matrix is \n",
      " [[328  34  29   1]\n",
      " [ 42 319  24   0]\n",
      " [ 22  19 347   2]\n",
      " [  4   1   1 392]]\n",
      "Accuracy is \n",
      " 0.8856230031948882\n",
      "Recall score is \n",
      " 0.8849935838270369\n",
      "Precision score is \n",
      " 0.8853131079914038\n"
     ]
    }
   ],
   "source": [
    "clf_SVM_multi = SVC(kernel='linear', C = 100)\n",
    "clf_SVM_multi.fit(train_multi_LSI,train_multi.target)\n",
    "pred_LSI = clf_SVM_multi.predict(test_multi_LSI)\n",
    "\n",
    "#print out result\n",
    "print_result(test_multi.target,pred_LSI)"
   ]
  },
  {
   "cell_type": "markdown",
   "metadata": {},
   "source": [
    "### SVM one-to-rest(NMF)"
   ]
  },
  {
   "cell_type": "code",
   "execution_count": 30,
   "metadata": {},
   "outputs": [
    {
     "name": "stdout",
     "output_type": "stream",
     "text": [
      "Confusion_matrix is \n",
      " [[293  68  28   3]\n",
      " [ 53 303  25   4]\n",
      " [ 32  17 336   5]\n",
      " [  3   0   3 392]]\n",
      "Accuracy is \n",
      " 0.8460063897763578\n",
      "Recall score is \n",
      " 0.8452312628147158\n",
      "Precision score is \n",
      " 0.8443491483221125\n"
     ]
    }
   ],
   "source": [
    "# LinearSVC assumes one-vs-rest implementation of a multiclass classifier\n",
    "from sklearn.svm import LinearSVC\n",
    "clf_SVM_multi = LinearSVC(loss=\"hinge\", C = 100)\n",
    "clf_SVM_multi.fit(train_multi_NMF,train_multi.target)\n",
    "pred_NMF = clf_SVM_multi.predict(test_multi_NMF)\n",
    "\n",
    "#print out result\n",
    "print_result(test_multi.target,pred_NMF)"
   ]
  },
  {
   "cell_type": "markdown",
   "metadata": {},
   "source": [
    "### SVM one-to-rest(LSI) "
   ]
  },
  {
   "cell_type": "code",
   "execution_count": 31,
   "metadata": {},
   "outputs": [
    {
     "name": "stdout",
     "output_type": "stream",
     "text": [
      "Confusion_matrix is \n",
      " [[315  51  25   1]\n",
      " [ 36 324  23   2]\n",
      " [ 19  18 351   2]\n",
      " [  2   1   2 393]]\n",
      "Accuracy is \n",
      " 0.8837060702875399\n",
      "Recall score is \n",
      " 0.8831417640148795\n",
      "Precision score is \n",
      " 0.88296453138925\n"
     ]
    }
   ],
   "source": [
    "# LinearSVC assumes one-vs-rest implementation of a multiclass classifier\n",
    "from sklearn.svm import LinearSVC\n",
    "clf_SVM_multi = LinearSVC(loss=\"hinge\", C = 100)\n",
    "clf_SVM_multi.fit(train_multi_LSI,train_multi.target)\n",
    "pred_LSI = clf_SVM_multi.predict(test_multi_LSI)\n",
    "\n",
    "#print out result\n",
    "print_result(test_multi.target,pred_LSI)"
   ]
  },
  {
   "cell_type": "code",
   "execution_count": null,
   "metadata": {},
   "outputs": [],
   "source": []
  }
 ],
 "metadata": {
  "kernelspec": {
   "display_name": "Python 3",
   "language": "python",
   "name": "python3"
  },
  "language_info": {
   "codemirror_mode": {
    "name": "ipython",
    "version": 3
   },
   "file_extension": ".py",
   "mimetype": "text/x-python",
   "name": "python",
   "nbconvert_exporter": "python",
   "pygments_lexer": "ipython3",
   "version": "3.6.4"
  }
 },
 "nbformat": 4,
 "nbformat_minor": 2
}
